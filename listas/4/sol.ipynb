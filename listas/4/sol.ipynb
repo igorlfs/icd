{
  "cells": [
    {
      "cell_type": "code",
      "metadata": {
        "jukit_cell_id": "J56h4ZEjIg"
      },
      "source": [
        "# flake8: noqa\n",
        "# pylint: disable-all\n",
        "\n",
        "r\"\"\"\u00b0\u00b0\u00b0\n",
        "# Lista 4 - ICs e Bootstrap\n",
        "\u00b0\u00b0\u00b0\"\"\""
      ],
      "outputs": [
        {
          "output_type": "stream",
          "name": "stdout",
          "text": "\n"
        },
        {
          "output_type": "execute_result",
          "execution_count": 1,
          "data": {
            "text/plain": "'\u00b0\u00b0\u00b0\\n# Lista 4 - ICs e Bootstrap\\n\u00b0\u00b0\u00b0'"
          },
          "metadata": {}
        }
      ],
      "execution_count": 1
    },
    {
      "cell_type": "markdown",
      "metadata": {
        "jukit_cell_id": "hNe2rn41xK"
      },
      "source": [
        "## Intervalos de Confian\u00e7a"
      ]
    },
    {
      "cell_type": "code",
      "metadata": {
        "jukit_cell_id": "wpzwW0k0yu"
      },
      "source": [
        "r\"\"\"\u00b0\u00b0\u00b0\n",
        "Intervalos de confian\u00e7a s\u00e3o intervalos calculados a partir de observa\u00e7\u00f5es que podem variar de amostra para amostra e que com dada frequ\u00eancia (n\u00edvel de confian\u00e7a) inclui o par\u00e2metro de interesse real n\u00e3o observ\u00e1vel. \n",
        "\n",
        "**Por exemplo:** Um intervalo com n\u00edvel de confian\u00e7a de 99% para a m\u00e9dia de uma vari\u00e1vel aleat\u00f3ria significa que ao calcularmos *n* intervalos de confian\u00e7a tomando como base *n* amostras aleat\u00f3rias, espera-se que 99% dos intervalos constru\u00eddos contenham o valor real do par\u00e2metro (m\u00e9dia).\n",
        "\n",
        "Em outras palavras, o n\u00edvel de confian\u00e7a seria a propor\u00e7\u00e3o de intervalos de confian\u00e7a constru\u00eddos em experimentos separados da mesma popula\u00e7\u00e3o e com o mesmo procedimento que cont\u00e9m o par\u00e2metro de interesse real.\n",
        "\u00b0\u00b0\u00b0\"\"\""
      ],
      "outputs": [
        {
          "output_type": "stream",
          "name": "stdout",
          "text": "\n"
        },
        {
          "output_type": "execute_result",
          "execution_count": 2,
          "data": {
            "text/plain": "'\u00b0\u00b0\u00b0\\nIntervalos de confian\u00e7a s\u00e3o intervalos calculados a partir de observa\u00e7\u00f5es que podem variar de amostra para amostra e que com dada frequ\u00eancia (n\u00edvel de confian\u00e7a) inclui o par\u00e2metro de interesse real n\u00e3o observ\u00e1vel. \\n\\n**Por exemplo:** Um intervalo com n\u00edvel de confian\u00e7a de 99% para a m\u00e9dia de uma vari\u00e1vel aleat\u00f3ria significa que ao calcularmos *n* intervalos de confian\u00e7a tomando como base *n* amostras aleat\u00f3rias, espera-se que 99% dos intervalos constru\u00eddos contenham o valor real do par\u00e2metro (m\u00e9dia).\\n\\nEm outras palavras, o n\u00edvel de confian\u00e7a seria a propor\u00e7\u00e3o de intervalos de confian\u00e7a constru\u00eddos em experimentos separados da mesma popula\u00e7\u00e3o e com o mesmo procedimento que cont\u00e9m o par\u00e2metro de interesse real.\\n\u00b0\u00b0\u00b0'"
          },
          "metadata": {}
        }
      ],
      "execution_count": 2
    },
    {
      "cell_type": "code",
      "metadata": {
        "jukit_cell_id": "4VaVVaUMKi"
      },
      "source": [
        "r\"\"\"\u00b0\u00b0\u00b0\n",
        "Foram ministradas duas maneiras de constru\u00edrmos intervalos de confian\u00e7a:\n",
        "\n",
        "- Probabilisticamente direto dos dados (Forma cl\u00e1ssica).\n",
        "- Via sub-amostragem com reposi\u00e7\u00e3o (*Bootstrap*).\n",
        "\u00b0\u00b0\u00b0\"\"\""
      ],
      "outputs": [
        {
          "output_type": "stream",
          "name": "stdout",
          "text": "\n"
        },
        {
          "output_type": "execute_result",
          "execution_count": 3,
          "data": {
            "text/plain": "'\u00b0\u00b0\u00b0\\nForam ministradas duas maneiras de constru\u00edrmos intervalos de confian\u00e7a:\\n\\n- Probabilisticamente direto dos dados (Forma cl\u00e1ssica).\\n- Via sub-amostragem com reposi\u00e7\u00e3o (*Bootstrap*).\\n\u00b0\u00b0\u00b0'"
          },
          "metadata": {}
        }
      ],
      "execution_count": 3
    },
    {
      "cell_type": "code",
      "metadata": {
        "jukit_cell_id": "DluHXlrmKm"
      },
      "source": [
        "r\"\"\"\u00b0\u00b0\u00b0\n",
        "Para o primeiro caso, lembrando do conceito visto em aula, temos (para um IC com 95% de confian\u00e7a):\n",
        "\n",
        "$$\\begin{align}\n",
        "0.95 = P(-z \\le Z \\le z)=P \\left(-1.96 \\le \\frac {\\bar X-\\mu}{\\sigma/\\sqrt{n}} \\le 1.96 \\right) = P \\left( \\bar X - 1.96 \\frac \\sigma {\\sqrt{n}} \\le \\mu \\le \\bar X + 1.96 \\frac \\sigma {\\sqrt{n}}\\right).\n",
        "\\end{align}$$\n",
        "\u00b0\u00b0\u00b0\"\"\""
      ],
      "outputs": [
        {
          "output_type": "stream",
          "name": "stdout",
          "text": "\n"
        },
        {
          "output_type": "execute_result",
          "execution_count": 4,
          "data": {
            "text/plain": "'\u00b0\u00b0\u00b0\\nPara o primeiro caso, lembrando do conceito visto em aula, temos (para um IC com 95% de confian\u00e7a):\\n\\n$$\\\\begin{align}\\n0.95 = P(-z \\\\le Z \\\\le z)=P \\\\left(-1.96 \\\\le \\\\frac {\\\\bar X-\\\\mu}{\\\\sigma/\\\\sqrt{n}} \\\\le 1.96 \\\\right) = P \\\\left( \\\\bar X - 1.96 \\\\frac \\\\sigma {\\\\sqrt{n}} \\\\le \\\\mu \\\\le \\\\bar X + 1.96 \\\\frac \\\\sigma {\\\\sqrt{n}}\\\\right).\\n\\\\end{align}$$\\n\u00b0\u00b0\u00b0'"
          },
          "metadata": {}
        }
      ],
      "execution_count": 4
    },
    {
      "cell_type": "code",
      "metadata": {
        "jukit_cell_id": "tavtobexKZ"
      },
      "source": [
        "r\"\"\"\u00b0\u00b0\u00b0\n",
        "Vamos colocar na pr\u00e1tica!\n",
        "\u00b0\u00b0\u00b0\"\"\""
      ],
      "outputs": [
        {
          "output_type": "stream",
          "name": "stdout",
          "text": "\n"
        },
        {
          "output_type": "execute_result",
          "execution_count": 5,
          "data": {
            "text/plain": "'\u00b0\u00b0\u00b0\\nVamos colocar na pr\u00e1tica!\\n\u00b0\u00b0\u00b0'"
          },
          "metadata": {}
        }
      ],
      "execution_count": 5
    },
    {
      "cell_type": "code",
      "metadata": {
        "jukit_cell_id": "lgEyAOKDd1"
      },
      "source": [
        "r\"\"\"\u00b0\u00b0\u00b0\n",
        "## Exemplo Inicial\n",
        "\u00b0\u00b0\u00b0\"\"\""
      ],
      "outputs": [
        {
          "output_type": "stream",
          "name": "stdout",
          "text": "\n"
        },
        {
          "output_type": "execute_result",
          "execution_count": 6,
          "data": {
            "text/plain": "'\u00b0\u00b0\u00b0\\n## Exemplo Inicial\\n\u00b0\u00b0\u00b0'"
          },
          "metadata": {}
        }
      ],
      "execution_count": 6
    },
    {
      "cell_type": "code",
      "metadata": {
        "jukit_cell_id": "L19mWrZiqN"
      },
      "source": [
        "r\"\"\"\u00b0\u00b0\u00b0\n",
        "Vamos come\u00e7ar construindo um intervalo de confian\u00e7a pra a m\u00e9dia de uma distribui\u00e7\u00e3o Normal (Gaussiana) com m\u00e9dia $\\mu = 0$ e vari\u00e2ncia $\\sigma^2 = 1$.\n",
        "\u00b0\u00b0\u00b0\"\"\""
      ],
      "outputs": [
        {
          "output_type": "stream",
          "name": "stdout",
          "text": "\n"
        },
        {
          "output_type": "execute_result",
          "execution_count": 7,
          "data": {
            "text/plain": "'\u00b0\u00b0\u00b0\\nVamos come\u00e7ar construindo um intervalo de confian\u00e7a pra a m\u00e9dia de uma distribui\u00e7\u00e3o Normal (Gaussiana) com m\u00e9dia $\\\\mu = 0$ e vari\u00e2ncia $\\\\sigma^2 = 1$.\\n\u00b0\u00b0\u00b0'"
          },
          "metadata": {}
        }
      ],
      "execution_count": 7
    },
    {
      "cell_type": "code",
      "metadata": {
        "jukit_cell_id": "3eKKWvYcrM"
      },
      "source": [
        "from math import inf\n",
        "\n",
        "import matplotlib.pyplot as plt\n",
        "import numpy as np\n",
        "import scipy.stats as ss\n",
        "\n",
        "plt.rcParams[\"figure.figsize\"] = (10, 8)\n",
        "\n",
        "np.random.seed(\n",
        "    0\n",
        ")  # comando adicionado para reprodutibilidade dos n\u00fameros aleat\u00f3rios gerados\n",
        "\n",
        "\n",
        "def confidence_interval(loc, scale, alpha=0.99):\n",
        "    \"\"\"Essa fun\u00e7\u00e3o cria uma distribui\u00e7\u00e3o Normal com base nos par\u00e2metros fornecidos e constr\u00f3i um intervalo de confian\u00e7a para sua m\u00e9dia.\n",
        "\n",
        "    Parameters:\n",
        "    -----------\n",
        "    loc (float): M\u00e9dia da distribui\u00e7\u00e3o desejada.\n",
        "    scale (float): Desvio padr\u00e3o da distribui\u00e7\u00e3o desejada.\n",
        "    alpha (float): N\u00edvel de confian\u00e7a do intervalo. Deve ser um valor entre 0 e 1. Default = 0.99, o que corresponde a 99% de confian\u00e7a.\n",
        "\n",
        "    Returns:\n",
        "    -----------\n",
        "    X (array): Dados gerados segundo uma distribui\u00e7\u00e3o Normal(0,1).\n",
        "    LI (float): Limite inferior do intervalo calculado.\n",
        "    LS (float): Limite superior do intervalo calculado.\n",
        "\n",
        "    \"\"\"\n",
        "\n",
        "    # Gerando amostra de uma Normal(0,1) de tamanho N\n",
        "    N = 1000\n",
        "    X = np.random.normal(loc=loc, scale=scale, size=N)\n",
        "\n",
        "    # Criando plot da amostra gerada\n",
        "    plt.xlabel(\"Valores\", fontsize=12)\n",
        "    plt.ylabel(\"Frequ\u00eancias\", fontsize=12)\n",
        "    plt.title(\"Histograma de amostra de uma Distribui\u00e7\u00e3o Normal(0,1)\", fontsize=16)\n",
        "\n",
        "    plt.hist(X, color=\"#A3333D\", alpha=0.9, rwidth=0.85, bins=15)\n",
        "    plt.show()\n",
        "\n",
        "    # Calculando intervalo de  95% de confian\u00e7a para a m\u00e9dia manualmente\n",
        "    LI = X.mean() - 1.96 * (X.std(ddof=1) / np.sqrt(N))  # LI = limite inferior\n",
        "    LS = X.mean() + 1.96 * (X.std(ddof=1) / np.sqrt(N))  # LS = limite superior\n",
        "    print(\"INTERVALO DE CONFIANCA (manual) = [{:.4f}, {:.4f}]\".format(LI, LS))\n",
        "\n",
        "    # Utilizando o valor da confian\u00e7a como base, utilizamos o pacote scipy.stats\n",
        "    LI = X.mean() - ss.norm.ppf(alpha + (1 - alpha) / 2).round(2) * (\n",
        "        X.std(ddof=1) / np.sqrt(N)\n",
        "    )\n",
        "    LS = X.mean() + ss.norm.ppf(alpha + (1 - alpha) / 2).round(2) * (\n",
        "        X.std(ddof=1) / np.sqrt(N)\n",
        "    )\n",
        "\n",
        "    # Printando intervalo de confian\u00e7a\n",
        "    print(\"INTERVALO DE CONFIANCA (com scipy)= [{:.4f}, {:.4f}]\".format(LI, LS))\n",
        "\n",
        "    return X, LI, LS\n",
        "\n",
        "\n",
        "X, LI, LS = confidence_interval(loc=0, scale=1, alpha=0.95)"
      ],
      "outputs": [
        {
          "data": {
            "image/png": "[encoded data removed]"
          },
          "metadata": {},
          "output_type": "display_data"
        },
        {
          "output_type": "stream",
          "name": "stdout",
          "text": "\nINTERVALO DE CONFIANCA (manual) = [-0.1065, 0.0160]\nINTERVALO DE CONFIANCA (com scipy)= [-0.1065, 0.0160]\n"
        }
      ],
      "execution_count": 8
    },
    {
      "cell_type": "code",
      "metadata": {
        "jukit_cell_id": "0xegfdTZDN"
      },
      "source": [
        "r\"\"\"\u00b0\u00b0\u00b0\n",
        "Podemos afirmar que, se pudermos repetir muitas vezes o experimento e coletarmos os dados, aproximadamente em 95% das vezes a m\u00e9dia populacional estar\u00e1 no intervalo encontrado.\n",
        "\n",
        "**Algumas observa\u00e7\u00f5es interessantes. Note que:**\n",
        "- A cada vez que executamos o c\u00f3digo acima, tanto os intervalos como o histograma dos dados s\u00e3o diferentes. Estamos realizando uma amostra de uma distribui\u00e7\u00e3o.\n",
        "- A medida que o tamanho da amostra (N) cresce, o tamanho do intervalo - para um mesmo n\u00edvel de confian\u00e7a - cai. Isso ocorre pois com mais dados temos uma maior certeza de que os valores encontrados de fato representam a popula\u00e7\u00e3o de interesse.\n",
        "- Os valores dos intervalos de confian\u00e7a (manual e scipy) s\u00f3 coincidem quando *alpha=0.95*. Essa \u00e9 a vantagem de se utilizar o pacote. Para valores diferentes de 0.95, deve-se consultar o valor correspondente na distribui\u00e7\u00e3o Z.\n",
        "\u00b0\u00b0\u00b0\"\"\""
      ],
      "outputs": [
        {
          "output_type": "stream",
          "name": "stdout",
          "text": "\n"
        },
        {
          "output_type": "execute_result",
          "execution_count": 9,
          "data": {
            "text/plain": "'\u00b0\u00b0\u00b0\\nPodemos afirmar que, se pudermos repetir muitas vezes o experimento e coletarmos os dados, aproximadamente em 95% das vezes a m\u00e9dia populacional estar\u00e1 no intervalo encontrado.\\n\\n**Algumas observa\u00e7\u00f5es interessantes. Note que:**\\n- A cada vez que executamos o c\u00f3digo acima, tanto os intervalos como o histograma dos dados s\u00e3o diferentes. Estamos realizando uma amostra de uma distribui\u00e7\u00e3o.\\n- A medida que o tamanho da amostra (N) cresce, o tamanho do intervalo - para um mesmo n\u00edvel de confian\u00e7a - cai. Isso ocorre pois com mais dados temos uma maior certeza de que os valores encontrados de fato representam a popula\u00e7\u00e3o de interesse.\\n- Os valores dos intervalos de confian\u00e7a (manual e scipy) s\u00f3 coincidem quando *alpha=0.95*. Essa \u00e9 a vantagem de se utilizar o pacote. Para valores diferentes de 0.95, deve-se consultar o valor correspondente na distribui\u00e7\u00e3o Z.\\n\u00b0\u00b0\u00b0'"
          },
          "metadata": {}
        }
      ],
      "execution_count": 9
    },
    {
      "cell_type": "code",
      "metadata": {
        "jukit_cell_id": "CgA2DIxDSy"
      },
      "source": [
        "r\"\"\"\u00b0\u00b0\u00b0\n",
        "## Dados ENEM 2015.\n",
        "\u00b0\u00b0\u00b0\"\"\""
      ],
      "outputs": [
        {
          "output_type": "stream",
          "name": "stdout",
          "text": "\n"
        },
        {
          "output_type": "execute_result",
          "execution_count": 10,
          "data": {
            "text/plain": "'\u00b0\u00b0\u00b0\\n## Dados ENEM 2015.\\n\u00b0\u00b0\u00b0'"
          },
          "metadata": {}
        }
      ],
      "execution_count": 10
    },
    {
      "cell_type": "code",
      "metadata": {
        "jukit_cell_id": "ph19lgJDn2"
      },
      "source": [
        "r\"\"\"\u00b0\u00b0\u00b0\n",
        "Nos exerc\u00edcios dessa se\u00e7\u00e3o vamos trabalhar com os dados do [ENEM 2015](https://raw.githubusercontent.com/pedroharaujo/ICD_Docencia/master/enem2015.csv).\n",
        "\n",
        "Importando pandas e carregando dados.\n",
        "\u00b0\u00b0\u00b0\"\"\""
      ],
      "outputs": [
        {
          "output_type": "stream",
          "name": "stdout",
          "text": "\n"
        },
        {
          "output_type": "execute_result",
          "execution_count": 11,
          "data": {
            "text/plain": "'\u00b0\u00b0\u00b0\\nNos exerc\u00edcios dessa se\u00e7\u00e3o vamos trabalhar com os dados do [ENEM 2015](https://raw.githubusercontent.com/pedroharaujo/ICD_Docencia/master/enem2015.csv).\\n\\nImportando pandas e carregando dados.\\n\u00b0\u00b0\u00b0'"
          },
          "metadata": {}
        }
      ],
      "execution_count": 11
    },
    {
      "cell_type": "code",
      "metadata": {
        "jukit_cell_id": "pOzdIpGs6L"
      },
      "source": [
        "import pandas as pd\n",
        "\n",
        "url = \"https://raw.githubusercontent.com/pedroharaujo/ICD_Docencia/master/enem2015.csv\"\n",
        "data = pd.read_csv(url)"
      ],
      "outputs": [],
      "execution_count": null
    },
    {
      "cell_type": "code",
      "metadata": {
        "jukit_cell_id": "BJ1cGMBxHh"
      },
      "source": [
        "r\"\"\"\u00b0\u00b0\u00b0\n",
        "Primeiras visualiza\u00e7\u00f5es do banco de dados do ENEM 2015.\n",
        "\u00b0\u00b0\u00b0\"\"\""
      ],
      "outputs": [
        {
          "output_type": "stream",
          "name": "stdout",
          "text": "\n"
        },
        {
          "output_type": "execute_result",
          "execution_count": 12,
          "data": {
            "text/plain": "'\u00b0\u00b0\u00b0\\nPrimeiras visualiza\u00e7\u00f5es do banco de dados do ENEM 2015.\\n\u00b0\u00b0\u00b0'"
          },
          "metadata": {}
        }
      ],
      "execution_count": 12
    },
    {
      "cell_type": "code",
      "metadata": {
        "jukit_cell_id": "LcsW9RMYIz"
      },
      "source": [
        "data.head()"
      ],
      "outputs": [
        {
          "output_type": "stream",
          "name": "stdout",
          "text": "\n"
        },
        {
          "output_type": "execute_result",
          "execution_count": 13,
          "data": {
            "text/plain": "  DEPENDENCIA_ADMINISTRATIVA  ...  TAXA_DE_PARTICIPACAO\n0                    Federal  ...             96.894409\n1                    Federal  ...             98.717949\n2                   Estadual  ...             74.603180\n3                   Estadual  ...             54.651165\n4                   Estadual  ...             64.864861\n\n[5 rows x 4 columns]"
          },
          "metadata": {}
        }
      ],
      "execution_count": 13
    },
    {
      "cell_type": "code",
      "metadata": {
        "jukit_cell_id": "vz5ksDY1Iv"
      },
      "source": [
        "data.describe()"
      ],
      "outputs": [
        {
          "output_type": "stream",
          "name": "stdout",
          "text": "\n"
        },
        {
          "output_type": "execute_result",
          "execution_count": 14,
          "data": {
            "text/plain": "       NOTA_MEDIA_ESCOLA  TAXA_DE_APROVACAO  TAXA_DE_PARTICIPACAO\ncount        1685.000000        1683.000000           1685.000000\nmean          575.391745          86.044444             75.263669\nstd            40.796223          10.334011             16.886193\nmin           487.007141          47.700000             50.000000\n25%           544.937500          79.500000             59.615387\n50%           561.520752          87.800000             72.916672\n75%           607.530579          94.550000             92.857140\nmax           713.629028         100.000000            100.000000"
          },
          "metadata": {}
        }
      ],
      "execution_count": 14
    },
    {
      "cell_type": "code",
      "metadata": {
        "jukit_cell_id": "lR0q7R7Qsr"
      },
      "source": [
        "r\"\"\"\u00b0\u00b0\u00b0\n",
        "## Exerc\u00edcio 01\n",
        "\u00b0\u00b0\u00b0\"\"\""
      ],
      "outputs": [
        {
          "output_type": "stream",
          "name": "stdout",
          "text": "\n"
        },
        {
          "output_type": "execute_result",
          "execution_count": 15,
          "data": {
            "text/plain": "'\u00b0\u00b0\u00b0\\n## Exerc\u00edcio 01\\n\u00b0\u00b0\u00b0'"
          },
          "metadata": {}
        }
      ],
      "execution_count": 15
    },
    {
      "cell_type": "code",
      "metadata": {
        "jukit_cell_id": "d2BPSH9dJa"
      },
      "source": [
        "r\"\"\"\u00b0\u00b0\u00b0\n",
        "Altere a fun\u00e7\u00e3o a baixo para retornar o intervalo de confian\u00e7a para a m\u00e9dia da vari\u00e1vel 'NOTA_MEDIA_ESCOLA' para escolas com 'DEPENDENCIA_ADMINISTRATIVA' == Estadual.\n",
        "\n",
        "N\u00edvel de confian\u00e7a: 99%\n",
        "\n",
        "**Lembrete**: ser\u00e1 necess\u00e1rio aplicar os conhecimentos de pandas do m\u00f3dulo anterior para filtrar o DataFrame selecionando apenas os casos de interesse.\n",
        "\u00b0\u00b0\u00b0\"\"\""
      ],
      "outputs": [
        {
          "output_type": "stream",
          "name": "stdout",
          "text": "\n"
        },
        {
          "output_type": "execute_result",
          "execution_count": 16,
          "data": {
            "text/plain": "\"\u00b0\u00b0\u00b0\\nAltere a fun\u00e7\u00e3o a baixo para retornar o intervalo de confian\u00e7a para a m\u00e9dia da vari\u00e1vel 'NOTA_MEDIA_ESCOLA' para escolas com 'DEPENDENCIA_ADMINISTRATIVA' == Estadual.\\n\\nN\u00edvel de confian\u00e7a: 99%\\n\\n**Lembrete**: ser\u00e1 necess\u00e1rio aplicar os conhecimentos de pandas do m\u00f3dulo anterior para filtrar o DataFrame selecionando apenas os casos de interesse.\\n\u00b0\u00b0\u00b0\""
          },
          "metadata": {}
        }
      ],
      "execution_count": 16
    },
    {
      "cell_type": "code",
      "metadata": {
        "jukit_cell_id": "KaGlRRNNIJ"
      },
      "source": [
        "def CI(df1: pd.DataFrame) -> tuple[np.float64, np.float64]:\n",
        "    df_estadual: pd.DataFrame = df1[df1[\"DEPENDENCIA_ADMINISTRATIVA\"] == \"Estadual\"]\n",
        "    X: pd.Series = df_estadual[\"NOTA_MEDIA_ESCOLA\"]\n",
        "    N: int = X.size\n",
        "    alpha: float = 0.99\n",
        "    LI: np.float64 = X.mean() - ss.norm.ppf(alpha + (1 - alpha) / 2).round(2) * (\n",
        "        X.std(ddof=1) / np.sqrt(N)\n",
        "    )\n",
        "    LS: np.float64 = X.mean() + ss.norm.ppf(alpha + (1 - alpha) / 2).round(2) * (\n",
        "        X.std(ddof=1) / np.sqrt(N)\n",
        "    )\n",
        "    # Retorne uma tupla com os limites inferior e superior do intervalo de confian\u00e7a, respectivamente\n",
        "    # return (LI, LS)\n",
        "    # se ocorrer erro de float, tente dar cast na tupla (LI,LS) assim: (np.array(LI), np.array(LS))\n",
        "    return LI, LS"
      ],
      "outputs": [],
      "execution_count": null
    },
    {
      "cell_type": "code",
      "metadata": {
        "jukit_cell_id": "1uMVWvcdBC"
      },
      "source": [
        "r\"\"\"\u00b0\u00b0\u00b0\n",
        "Carregando os m\u00f3dulos de testes!\n",
        "\u00b0\u00b0\u00b0\"\"\""
      ],
      "outputs": [
        {
          "output_type": "stream",
          "name": "stdout",
          "text": "\n"
        },
        {
          "output_type": "execute_result",
          "execution_count": 17,
          "data": {
            "text/plain": "'\u00b0\u00b0\u00b0\\nCarregando os m\u00f3dulos de testes!\\n\u00b0\u00b0\u00b0'"
          },
          "metadata": {}
        }
      ],
      "execution_count": 17
    },
    {
      "cell_type": "code",
      "metadata": {
        "jukit_cell_id": "0mSifA28lg"
      },
      "source": [
        "from numpy.testing import assert_equal"
      ],
      "outputs": [],
      "execution_count": null
    },
    {
      "cell_type": "code",
      "metadata": {
        "jukit_cell_id": "y7rDG5p4RU"
      },
      "source": [
        "r\"\"\"\u00b0\u00b0\u00b0\n",
        "Nosso teste\n",
        "\u00b0\u00b0\u00b0\"\"\""
      ],
      "outputs": [
        {
          "output_type": "stream",
          "name": "stdout",
          "text": "\n"
        },
        {
          "output_type": "execute_result",
          "execution_count": 18,
          "data": {
            "text/plain": "'\u00b0\u00b0\u00b0\\nNosso teste\\n\u00b0\u00b0\u00b0'"
          },
          "metadata": {}
        }
      ],
      "execution_count": 18
    },
    {
      "cell_type": "code",
      "metadata": {
        "jukit_cell_id": "9joxvLbDhx"
      },
      "source": [
        "(LI, LS) = CI(data)\n",
        "\n",
        "assert_equal(548.13, LI.round(2))\n",
        "assert_equal(551.09, LS.round(2))"
      ],
      "outputs": [],
      "execution_count": null
    },
    {
      "cell_type": "code",
      "metadata": {
        "jukit_cell_id": "OhXgeY9wqN"
      },
      "source": [
        "r\"\"\"\u00b0\u00b0\u00b0\n",
        "## Exerc\u00edcio 02 (Sem corre\u00e7\u00e3o autom\u00e1tica)\n",
        "\u00b0\u00b0\u00b0\"\"\""
      ],
      "outputs": [
        {
          "output_type": "stream",
          "name": "stdout",
          "text": "\n"
        },
        {
          "output_type": "execute_result",
          "execution_count": 19,
          "data": {
            "text/plain": "'\u00b0\u00b0\u00b0\\n## Exerc\u00edcio 02 (Sem corre\u00e7\u00e3o autom\u00e1tica)\\n\u00b0\u00b0\u00b0'"
          },
          "metadata": {}
        }
      ],
      "execution_count": 19
    },
    {
      "cell_type": "code",
      "metadata": {
        "jukit_cell_id": "0N3h4xd6X8"
      },
      "source": [
        "r\"\"\"\u00b0\u00b0\u00b0\n",
        "Plote uma CDF da coluna 'TAXA_DE_APROVACAO'.\n",
        "\n",
        "**Use o statsmodels e crie um objeto `ecdf = ECDF(...)`.**\n",
        "\n",
        "\n",
        "Esta tarefa n\u00e3o tem corre\u00e7\u00e3o autom\u00e1tica, use o gr\u00e1fico abaixo para saber se acertou ou n\u00e3o.\n",
        "\n",
        "![](https://github.com/pedroharaujo/ICD_Docencia/blob/master/ECDF.png?raw=true)\n",
        "\u00b0\u00b0\u00b0\"\"\""
      ],
      "outputs": [
        {
          "output_type": "stream",
          "name": "stdout",
          "text": "\n"
        },
        {
          "output_type": "execute_result",
          "execution_count": 20,
          "data": {
            "text/plain": "\"\u00b0\u00b0\u00b0\\nPlote uma CDF da coluna 'TAXA_DE_APROVACAO'.\\n\\n**Use o statsmodels e crie um objeto `ecdf = ECDF(...)`.**\\n\\n\\nEsta tarefa n\u00e3o tem corre\u00e7\u00e3o autom\u00e1tica, use o gr\u00e1fico abaixo para saber se acertou ou n\u00e3o.\\n\\n![](https://github.com/pedroharaujo/ICD_Docencia/blob/master/ECDF.png?raw=true)\\n\u00b0\u00b0\u00b0\""
          },
          "metadata": {}
        }
      ],
      "execution_count": 20
    },
    {
      "cell_type": "code",
      "metadata": {
        "jukit_cell_id": "bPY7e5Zel9"
      },
      "source": [
        "# codigo para importar a fun\u00e7\u00e3o ECDF\n",
        "from statsmodels.distributions.empirical_distribution import ECDF"
      ],
      "outputs": [],
      "execution_count": null
    },
    {
      "cell_type": "code",
      "metadata": {
        "jukit_cell_id": "tNVOzB6qfe"
      },
      "source": [
        "# YOUR CODE HERE\n",
        "ecdf = ECDF(data[\"TAXA_DE_APROVACAO\"])\n",
        "plt.plot(ecdf.x, ecdf.y)\n",
        "plt.title(\"Empirical CDF for TAXA_DE_APROVACAO\")\n",
        "plt.grid(which=\"both\")\n",
        "plt.ylabel(\"% do total\")\n",
        "plt.xlabel(\"Taxa de Aprova\u00e7\u00e3o (%)\")\n",
        "plt.show()"
      ],
      "outputs": [
        {
          "data": {
            "image/png": "[encoded data removed]"
          },
          "metadata": {},
          "output_type": "display_data"
        },
        {
          "output_type": "stream",
          "name": "stdout",
          "text": "\n"
        }
      ],
      "execution_count": 21
    },
    {
      "cell_type": "code",
      "metadata": {
        "jukit_cell_id": "onYtG3Q1aA"
      },
      "source": [
        "r\"\"\"\u00b0\u00b0\u00b0\n",
        "## Bootstrap\n",
        "\u00b0\u00b0\u00b0\"\"\""
      ],
      "outputs": [
        {
          "output_type": "stream",
          "name": "stdout",
          "text": "\n"
        },
        {
          "output_type": "execute_result",
          "execution_count": 22,
          "data": {
            "text/plain": "'\u00b0\u00b0\u00b0\\n## Bootstrap\\n\u00b0\u00b0\u00b0'"
          },
          "metadata": {}
        }
      ],
      "execution_count": 22
    },
    {
      "cell_type": "code",
      "metadata": {
        "jukit_cell_id": "ZntNg4XIl8"
      },
      "source": [
        "r\"\"\"\u00b0\u00b0\u00b0\n",
        "Quando falamos em bootstrap deve-se ter em mente que estamos falando de amostragem com reposi\u00e7\u00e3o.\n",
        "\n",
        "De maneira simplista, utilizamos bootstrap quando queremos construir um intervalo de confian\u00e7a para uma vari\u00e1vel e dispomos de poucos dados. Ao realizarmos v\u00e1rias sub-amostras **com reposi\u00e7\u00e3o**, a lei dos grandes n\u00fameros nos garante que estamos aproximando a popula\u00e7\u00e3o de interesse.\n",
        "\n",
        "Note o destaque para o termo com reposi\u00e7\u00e3o. \u00c9 CRUCIAL que as sub-amostras sejam feitas com reposi\u00e7\u00e3o. S\u00f3 assim garantimos a aleatoriedade!\n",
        "\n",
        "Veja o exemplo abaixo.\n",
        "\u00b0\u00b0\u00b0\"\"\""
      ],
      "outputs": [
        {
          "output_type": "stream",
          "name": "stdout",
          "text": "\n"
        },
        {
          "output_type": "execute_result",
          "execution_count": 23,
          "data": {
            "text/plain": "'\u00b0\u00b0\u00b0\\nQuando falamos em bootstrap deve-se ter em mente que estamos falando de amostragem com reposi\u00e7\u00e3o.\\n\\nDe maneira simplista, utilizamos bootstrap quando queremos construir um intervalo de confian\u00e7a para uma vari\u00e1vel e dispomos de poucos dados. Ao realizarmos v\u00e1rias sub-amostras **com reposi\u00e7\u00e3o**, a lei dos grandes n\u00fameros nos garante que estamos aproximando a popula\u00e7\u00e3o de interesse.\\n\\nNote o destaque para o termo com reposi\u00e7\u00e3o. \u00c9 CRUCIAL que as sub-amostras sejam feitas com reposi\u00e7\u00e3o. S\u00f3 assim garantimos a aleatoriedade!\\n\\nVeja o exemplo abaixo.\\n\u00b0\u00b0\u00b0'"
          },
          "metadata": {}
        }
      ],
      "execution_count": 23
    },
    {
      "cell_type": "code",
      "metadata": {
        "jukit_cell_id": "dwt23MrfEd"
      },
      "source": [
        "col = \"TAXA_DE_PARTICIPACAO\"\n",
        "n_sub = 10000  # numero de sub-amostras\n",
        "size = len(data)  # tamanho do dataframe\n",
        "values = np.zeros(n_sub)\n",
        "\n",
        "\n",
        "def bootstrap(n_sub, size, col):\n",
        "    for i in range(n_sub):\n",
        "        # replace=TRUE garanta amostras com reposi\u00e7\u00e3o\n",
        "        random_state = i  # garante replicabilidade do experimento\n",
        "        sample = data.sample(size, replace=True, random_state=i)\n",
        "\n",
        "        # Lembre que podemos utilizar mediana, m\u00e9dia ou qualquer outra estat\u00edstica agregada\n",
        "        # values[i] = sample[col].median()\n",
        "        values[i] = sample[col].mean()\n",
        "\n",
        "    # Gerando valores inferior e superior para um n\u00edvel de confian\u00e7a de 95%\n",
        "    LI = np.percentile(values, 2.5)\n",
        "    LS = np.percentile(values, 97.5)\n",
        "    return values, LI, LS\n",
        "\n",
        "\n",
        "values, LI, LS = bootstrap(n_sub, size, col)\n",
        "print(\"Intervalo de Confianca: [{}, {}]\".format(LI.round(4), LS.round(4)))"
      ],
      "outputs": [
        {
          "output_type": "stream",
          "name": "stdout",
          "text": "Intervalo de Confianca: [74.4523, 76.0718]\n"
        }
      ],
      "execution_count": 24
    },
    {
      "cell_type": "code",
      "metadata": {
        "jukit_cell_id": "EqYbxqqSlK"
      },
      "source": [
        "r\"\"\"\u00b0\u00b0\u00b0\n",
        "## Exerc\u00edcio 03\n",
        "\u00b0\u00b0\u00b0\"\"\""
      ],
      "outputs": [
        {
          "output_type": "stream",
          "name": "stdout",
          "text": "\n"
        },
        {
          "output_type": "execute_result",
          "execution_count": 25,
          "data": {
            "text/plain": "'\u00b0\u00b0\u00b0\\n## Exerc\u00edcio 03\\n\u00b0\u00b0\u00b0'"
          },
          "metadata": {}
        }
      ],
      "execution_count": 25
    },
    {
      "cell_type": "code",
      "metadata": {
        "jukit_cell_id": "9RQ3MAWMa1"
      },
      "source": [
        "r\"\"\"\u00b0\u00b0\u00b0\n",
        "Realizando um groupy pela coluna 'DEPENDENCIA_ADMINISTRATIVA' conseguimos observar para quais casos vale a pena utilizarmos bootstrap.\n",
        "\u00b0\u00b0\u00b0\"\"\""
      ],
      "outputs": [
        {
          "output_type": "stream",
          "name": "stdout",
          "text": "\n"
        },
        {
          "output_type": "execute_result",
          "execution_count": 26,
          "data": {
            "text/plain": "\"\u00b0\u00b0\u00b0\\nRealizando um groupy pela coluna 'DEPENDENCIA_ADMINISTRATIVA' conseguimos observar para quais casos vale a pena utilizarmos bootstrap.\\n\u00b0\u00b0\u00b0\""
          },
          "metadata": {}
        }
      ],
      "execution_count": 26
    },
    {
      "cell_type": "code",
      "metadata": {
        "jukit_cell_id": "Now0lDO1HT"
      },
      "source": [
        "data.groupby(\"DEPENDENCIA_ADMINISTRATIVA\").count()"
      ],
      "outputs": [
        {
          "output_type": "stream",
          "name": "stdout",
          "text": "\n"
        },
        {
          "output_type": "execute_result",
          "execution_count": 27,
          "data": {
            "text/plain": "                            NOTA_MEDIA_ESCOLA  ...  TAXA_DE_PARTICIPACAO\nDEPENDENCIA_ADMINISTRATIVA                     ...                      \nEstadual                                 1054  ...                  1054\nFederal                                    43  ...                    43\nMunicipal                                  22  ...                    22\nPrivada                                   566  ...                   566\n\n[4 rows x 3 columns]"
          },
          "metadata": {}
        }
      ],
      "execution_count": 27
    },
    {
      "cell_type": "code",
      "metadata": {
        "jukit_cell_id": "TveG71Rtmo"
      },
      "source": [
        "r\"\"\"\u00b0\u00b0\u00b0\n",
        "**A)** Na fun\u00e7\u00e3o abaixo, retorne o n\u00famero da op\u00e7\u00e3o que indica para quais 'DEPENDENCIAS_ADMINISTRATIVAS' \u00e9 aconselhado utilizar Bootstrap para constru\u00e7\u00e3o do intervalo de confian\u00e7a:\n",
        "\n",
        "- 1) Estadual e Federal.\n",
        "- 2) Estadual e Municipal.\n",
        "- 3) Estadual e Privada.\n",
        "- 4) Federal e Municipal.\n",
        "- 5) Federal e Privada.\n",
        "- 6) Municipal e Privada.\n",
        "\u00b0\u00b0\u00b0\"\"\""
      ],
      "outputs": [
        {
          "output_type": "stream",
          "name": "stdout",
          "text": "\n"
        },
        {
          "output_type": "execute_result",
          "execution_count": 28,
          "data": {
            "text/plain": "\"\u00b0\u00b0\u00b0\\n**A)** Na fun\u00e7\u00e3o abaixo, retorne o n\u00famero da op\u00e7\u00e3o que indica para quais 'DEPENDENCIAS_ADMINISTRATIVAS' \u00e9 aconselhado utilizar Bootstrap para constru\u00e7\u00e3o do intervalo de confian\u00e7a:\\n\\n- 1) Estadual e Federal.\\n- 2) Estadual e Municipal.\\n- 3) Estadual e Privada.\\n- 4) Federal e Municipal.\\n- 5) Federal e Privada.\\n- 6) Municipal e Privada.\\n\u00b0\u00b0\u00b0\""
          },
          "metadata": {}
        }
      ],
      "execution_count": 28
    },
    {
      "cell_type": "code",
      "metadata": {
        "jukit_cell_id": "j26mrTBYUr"
      },
      "source": [
        "def resposta() -> int:\n",
        "    # Pelo groupby, Federal e Municipal s\u00e3o as categorias que possuem menos dados,\n",
        "    # portanto o bootstrap pode ser mais \u00fatil pra elas\n",
        "    return 4"
      ],
      "outputs": [],
      "execution_count": null
    },
    {
      "cell_type": "code",
      "metadata": {
        "jukit_cell_id": "MoJAAFwQDX"
      },
      "source": [
        "assert_equal(4, resposta())"
      ],
      "outputs": [],
      "execution_count": null
    },
    {
      "cell_type": "code",
      "metadata": {
        "jukit_cell_id": "83XCFcXWlI"
      },
      "source": [
        "r\"\"\"\u00b0\u00b0\u00b0\n",
        "**B)** Construa um intervalo de confian\u00e7a via Bootstrap para a m\u00e9dia da vari\u00e1vel 'NOTA_MEDIA_ESCOLA' para escolas de 'DEPENDENCIA_ADMINISTRATIVA' **Federal**. Voc\u00ea deve utilizar 5000 amostras e n\u00edvel de confian\u00e7a de 90%.\n",
        "\n",
        "*Nota*: voc\u00ea deve utilizar o argumento random_state=i na fun\u00e7\u00e3o data.sample, como no exemplo inicial da se\u00e7\u00e3o de Bootstrap.\n",
        "\u00b0\u00b0\u00b0\"\"\""
      ],
      "outputs": [
        {
          "output_type": "stream",
          "name": "stdout",
          "text": "\n"
        },
        {
          "output_type": "execute_result",
          "execution_count": 29,
          "data": {
            "text/plain": "\"\u00b0\u00b0\u00b0\\n**B)** Construa um intervalo de confian\u00e7a via Bootstrap para a m\u00e9dia da vari\u00e1vel 'NOTA_MEDIA_ESCOLA' para escolas de 'DEPENDENCIA_ADMINISTRATIVA' **Federal**. Voc\u00ea deve utilizar 5000 amostras e n\u00edvel de confian\u00e7a de 90%.\\n\\n*Nota*: voc\u00ea deve utilizar o argumento random_state=i na fun\u00e7\u00e3o data.sample, como no exemplo inicial da se\u00e7\u00e3o de Bootstrap.\\n\u00b0\u00b0\u00b0\""
          },
          "metadata": {}
        }
      ],
      "execution_count": 29
    },
    {
      "cell_type": "code",
      "metadata": {
        "jukit_cell_id": "YLdDeTVNh2"
      },
      "source": [
        "def bootstrap_mean(n_sub: int, alpha: float):\n",
        "\n",
        "    df_federal: pd.DataFrame = data[data[\"DEPENDENCIA_ADMINISTRATIVA\"] == \"Federal\"]\n",
        "    col: str = \"NOTA_MEDIA_ESCOLA\"\n",
        "    df_size: int = len(df_federal)\n",
        "    values: np.ndarray = np.zeros(n_sub)\n",
        "\n",
        "    for i in range(n_sub):\n",
        "        sample: pd.DataFrame = df_federal.sample(df_size, replace=True, random_state=i)\n",
        "        values[i] = sample[col].mean()\n",
        "\n",
        "    # Gerando valores inferior e superior para um n\u00edvel de confian\u00e7a de `alpha`\n",
        "    LI: np.float64 = np.percentile(values, (100 - alpha * 100) / 2)\n",
        "    LS: np.float64 = np.percentile(values, 100 - (100 - alpha * 100) / 2)\n",
        "    # se ocorrer erro de float, tente dar cast na tupla (LI,LS) assim: (np.array(LI), np.array(LS))\n",
        "    return values, (LI, LS)"
      ],
      "outputs": [],
      "execution_count": null
    },
    {
      "cell_type": "code",
      "metadata": {
        "jukit_cell_id": "7A9OfOLwEE"
      },
      "source": [
        "values, (LI, LS) = bootstrap_mean(n_sub=5000, alpha=0.9)\n",
        "\n",
        "assert_equal(622.03, LI.round(2))\n",
        "assert_equal(635.43, LS.round(2))"
      ],
      "outputs": [],
      "execution_count": null
    },
    {
      "cell_type": "code",
      "metadata": {
        "jukit_cell_id": "7nE9RSbnFL"
      },
      "source": [
        "r\"\"\"\u00b0\u00b0\u00b0\n",
        "## Exerc\u00edcio 4\n",
        "\u00b0\u00b0\u00b0\"\"\""
      ],
      "outputs": [
        {
          "output_type": "stream",
          "name": "stdout",
          "text": "\n"
        },
        {
          "output_type": "execute_result",
          "execution_count": 30,
          "data": {
            "text/plain": "'\u00b0\u00b0\u00b0\\n## Exerc\u00edcio 4\\n\u00b0\u00b0\u00b0'"
          },
          "metadata": {}
        }
      ],
      "execution_count": 30
    },
    {
      "cell_type": "code",
      "metadata": {
        "jukit_cell_id": "7WbsZfbeQL"
      },
      "source": [
        "r\"\"\"\u00b0\u00b0\u00b0\n",
        "Altere a fun\u00e7\u00e3o abaixo para que retorne a 'DEPENDENCIA_ADMINISTRATIVA' (Federal, Estadual, Municipal ou Privada) cujo intervalo de confian\u00e7a para *mediana* via *bootstrap* para a vari\u00e1vel 'TAXA_DE_PARTICIPACAO' apresente maior amplitude (LS-LI), e qual esse valor. \n",
        "\n",
        "Utilize:\n",
        "- 95% como n\u00edvel de confian\u00e7a.\n",
        "- 5000 como n\u00famero de sub-amostras.\n",
        "\u00b0\u00b0\u00b0\"\"\""
      ],
      "outputs": [
        {
          "output_type": "stream",
          "name": "stdout",
          "text": "\n"
        },
        {
          "output_type": "execute_result",
          "execution_count": 31,
          "data": {
            "text/plain": "\"\u00b0\u00b0\u00b0\\nAltere a fun\u00e7\u00e3o abaixo para que retorne a 'DEPENDENCIA_ADMINISTRATIVA' (Federal, Estadual, Municipal ou Privada) cujo intervalo de confian\u00e7a para *mediana* via *bootstrap* para a vari\u00e1vel 'TAXA_DE_PARTICIPACAO' apresente maior amplitude (LS-LI), e qual esse valor. \\n\\nUtilize:\\n- 95% como n\u00edvel de confian\u00e7a.\\n- 5000 como n\u00famero de sub-amostras.\\n\u00b0\u00b0\u00b0\""
          },
          "metadata": {}
        }
      ],
      "execution_count": 31
    },
    {
      "cell_type": "code",
      "metadata": {
        "jukit_cell_id": "5pfbFJJxoD"
      },
      "source": [
        "def ci_amplitude():\n",
        "    col: str = \"TAXA_DE_PARTICIPACAO\"\n",
        "    n_sub: int = 5000\n",
        "\n",
        "    max_amp: np.float64 = np.float64(-inf)\n",
        "    dependencia_adm = \"Federal\"\n",
        "    adm_opts: list[str] = [\"Federal\", \"Estadual\", \"Municipal\", \"Privada\"]\n",
        "\n",
        "    for j, opt in enumerate(adm_opts):\n",
        "        df_opt: pd.DataFrame = data[data[\"DEPENDENCIA_ADMINISTRATIVA\"] == opt]\n",
        "        df_size: int = len(df_opt)\n",
        "\n",
        "        values: np.ndarray = np.zeros(n_sub)\n",
        "        for i in range(n_sub):\n",
        "            sample: pd.DataFrame = df_opt.sample(df_size, replace=True, random_state=i)\n",
        "            values[i] = sample[col].median()\n",
        "\n",
        "        # Gerando valores inferior e superior para um n\u00edvel de confian\u00e7a de `alpha`\n",
        "        LI: np.float64 = np.percentile(values, 2.5)\n",
        "        LS: np.float64 = np.percentile(values, 97.5)\n",
        "        amp: np.float64 = LS - LI\n",
        "        if amp > max_amp:\n",
        "            max_amp = amp\n",
        "            dependencia_adm = adm_opts[j]\n",
        "    # Sua fun\u00e7\u00e3o deve retorar uma tupla como no exemplo\n",
        "    # exemplo: (dependencia_administrativa, amplitude_do_ic)\n",
        "    return (dependencia_adm, max_amp)"
      ],
      "outputs": [],
      "execution_count": null
    },
    {
      "cell_type": "code",
      "metadata": {
        "jukit_cell_id": "evANQ4MXoQ"
      },
      "source": [
        "(dep, amp) = ci_amplitude()\n",
        "assert_equal(dep, \"Municipal\")\n",
        "assert_equal(amp.round(2), 11.09)"
      ],
      "outputs": [],
      "execution_count": null
    }
  ],
  "metadata": {
    "anaconda-cloud": {},
    "kernelspec": {
      "display_name": "python",
      "language": "python",
      "name": "python3"
    }
  },
  "nbformat": 4,
  "nbformat_minor": 4
}