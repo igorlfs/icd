{
  "cells": [
    {
      "cell_type": "code",
      "metadata": {
        "jukit_cell_id": "xVQzaVwn6M"
      },
      "source": [
        "import matplotlib.pyplot as plt\n",
        "import numpy as np\n",
        "import pandas as pd"
      ],
      "outputs": [],
      "execution_count": null
    },
    {
      "cell_type": "markdown",
      "metadata": {
        "jukit_cell_id": "fXdO1alhfq"
      },
      "source": [
        "## Paradoxo de Simpson\n",
        "\n",
        "Uma surpresa n\u00e3o incomum ao analisar dados \u00e9 o Paradoxo de Simpson, no qual as correla\u00e7\u00f5es podem ser enganosas (ou *misleading*) quando vari\u00e1veis confusas (ou *confounding variables*) s\u00e3o ignoradas.\n",
        "\n",
        "Por exemplo, imagine que voc\u00ea pode identificar todos os membros  do *DataSciencester* como cientistas de dados da Costa Leste ou cientistas de dados da Costa Oeste. Voc\u00ea decide examinar quais cientistas de dados s\u00e3o mais amig\u00e1veis:\n",
        "\n",
        "\n",
        "|Costa|# de membros|# m\u00e9dio de amigos|\n",
        "| :-: | :-: | :-: |\n",
        "|Oeste|101|8.2|\n",
        "|Leste|103|6.5|\n",
        "\n",
        "Certamente parece que os cientistas de dados da Costa Oeste s\u00e3o mais amig\u00e1veis do que os cientistas de dados da Costa Leste. Seus colegas de trabalho avan\u00e7am todos os tipos de teorias sobre por que isso pode ser: talvez seja o sol, ou o caf\u00e9, ou os produtos org\u00e2nicos, ou a vibra\u00e7\u00e3o descontra\u00edda do Pac\u00edfico?\n",
        "\n",
        "Ao brincar com os dados, voc\u00ea descobre algo muito estranho. Se voc\u00ea olhar apenas para pessoas com PhDs, os cientistas de dados da Costa Leste t\u00eam mais amigos, em m\u00e9dia. E se voc\u00ea olhar apenas para pessoas sem PhDs, os cientistas de dados da Costa Leste tamb\u00e9m t\u00eam mais amigos em m\u00e9dia!\n",
        "\n",
        "\n",
        "|Costa|PhD?|# de membros|# m\u00e9dio de amigos|\n",
        "| :-: | :-: | :-: | :-: |\n",
        "|Oeste|Sim|35|3.1|\n",
        "|Leste|Sim|70|3.2|\n",
        "|Oeste|N\u00e3o|66|10.9|\n",
        "|Leste|N\u00e3o|33|13.4|\n",
        "\n",
        "Depois de contabilizar se os usu\u00e1rios tem PhDs ou n\u00e3o, a correla\u00e7\u00e3o vai na dire\u00e7\u00e3o oposta! Separar os dados somente entre Costa Leste e Costa Oeste escondeu o fato de que h\u00e1 muito mais cientistas de dados na Costa Leste com PhD (proporcionalmente) que na Costa Oeste.\n",
        "\n",
        "Esse fen\u00f4meno surge no mundo real com alguma regularidade. A quest\u00e3o-chave \u00e9 que a correla\u00e7\u00e3o est\u00e1 medindo a rela\u00e7\u00e3o entre suas duas vari\u00e1veis **sendo tudo o mais igual**. Se suas classes de dados s\u00e3o atribu\u00eddas aleatoriamente, como elas podem ser em um experimento bem projetado, \"tudo o mais sendo igual\" pode n\u00e3o ser uma suposi\u00e7\u00e3o terr\u00edvel. Mas quando h\u00e1 um padr\u00e3o mais profundo para atribui\u00e7\u00f5es de classe, \"tudo o mais sendo igual\" pode ser uma suposi\u00e7\u00e3o terr\u00edvel. Nesse exemplo, se a propor\u00e7\u00e3o de cientistas de dados com PhD fosse igual na Costa Leste e Costa Oeste, ent\u00e3o \"ter PhD\" deixaria de ser um fator de confus\u00e3o para a vari\u00e1vel \"n\u00famero m\u00e9dio de amigos\".\n",
        "\n",
        "Assim, a \u00fanica maneira real de evitar fatores de confus\u00e3o \u00e9 conhecer seus dados e fazer o que puder para garantir que voc\u00ea tenha verificado tais fatores. Obviamente, isso nem sempre \u00e9 poss\u00edvel. Se voc\u00ea n\u00e3o tivesse nos seus dados o n\u00edvel educacional desses 200 cientistas de dados, voc\u00ea poderia simplesmente concluir que havia algo inerentemente mais soci\u00e1vel na Costa Oeste."
      ]
    },
    {
      "cell_type": "markdown",
      "metadata": {
        "jukit_cell_id": "74H7F1JHAW"
      },
      "source": [
        "O Paradoxo de Simpson tamb\u00e9m pode ser observado na taxa de sobreviv\u00eancia do [naufr\u00e1gio do RMS Titanic](https://en.wikipedia.org/wiki/RMS_Titanic). Havia uma estimativa de 2.224 passageiros e tripulantes a bordo, e mais de 1.500 morreram, tornando-se um dos mais mortais desastres mar\u00edtimos comerciais em tempos de paz da hist\u00f3ria moderna. Dados sobre os passageiros podem ser baixados [aqui](https://ww2.amstat.org/publications/jse/v3n3/datasets.dawson.html). Este conjunto de dados foi processado por mim e transformado em um arquivo [csv](https://www.dropbox.com/s/vk8jf0wyczqxkvv/survival_titanic.csv?dl=0), que \u00e9 muito mais f\u00e1cil de tratar que um arquivo texto. Informa\u00e7\u00f5es sobre ele podem ser lidas [aqui](https://www.dropbox.com/s/xpjw74khyqx9ww4/survival_titanic.README.txt?dl=0). \n",
        "\n",
        "Embora muitas outras informa\u00e7\u00f5es existam sobre os passageiros, aqui vamos trabalhar com apenas quatro:\n",
        "\n",
        "1) Se o passageiro sobreviveu;\n",
        "2) A classe do seu bilhete (primeira, segunda ou terceira) ou se ele era membro da tripula\u00e7\u00e3o;\n",
        "3) O sexo do passageiro;\n",
        "4) E se ele era um adulto ou uma crian\u00e7a.\n",
        "\n",
        "Primeiro, vamos carregar os dados:"
      ]
    },
    {
      "cell_type": "code",
      "metadata": {
        "jukit_cell_id": "vaeBtGuP5v"
      },
      "source": [
        "import pandas as pd\n",
        "\n",
        "df = pd.read_csv(\n",
        "    \"https://media.githubusercontent.com/media/icd-ufmg/material/master/aulas/15-Correlacao/survival_titanic.csv\"\n",
        ")\n",
        "df"
      ],
      "outputs": [
        {
          "data": {
            "text/html": [
              "<div>\n",
              "<style scoped>\n",
              "    .dataframe tbody tr th:only-of-type {\n",
              "        vertical-align: middle;\n",
              "    }\n",
              "\n",
              "    .dataframe tbody tr th {\n",
              "        vertical-align: top;\n",
              "    }\n",
              "\n",
              "    .dataframe thead th {\n",
              "        text-align: right;\n",
              "    }\n",
              "</style>\n",
              "<table border=\"1\" class=\"dataframe\">\n",
              "  <thead>\n",
              "    <tr style=\"text-align: right;\">\n",
              "      <th></th>\n",
              "      <th>class</th>\n",
              "      <th>Age</th>\n",
              "      <th>Sex</th>\n",
              "      <th>Survived</th>\n",
              "    </tr>\n",
              "  </thead>\n",
              "  <tbody>\n",
              "    <tr>\n",
              "      <th>0</th>\n",
              "      <td>1</td>\n",
              "      <td>1</td>\n",
              "      <td>1</td>\n",
              "      <td>1</td>\n",
              "    </tr>\n",
              "    <tr>\n",
              "      <th>1</th>\n",
              "      <td>1</td>\n",
              "      <td>1</td>\n",
              "      <td>1</td>\n",
              "      <td>1</td>\n",
              "    </tr>\n",
              "    <tr>\n",
              "      <th>2</th>\n",
              "      <td>1</td>\n",
              "      <td>1</td>\n",
              "      <td>1</td>\n",
              "      <td>1</td>\n",
              "    </tr>\n",
              "    <tr>\n",
              "      <th>3</th>\n",
              "      <td>1</td>\n",
              "      <td>1</td>\n",
              "      <td>1</td>\n",
              "      <td>1</td>\n",
              "    </tr>\n",
              "    <tr>\n",
              "      <th>4</th>\n",
              "      <td>1</td>\n",
              "      <td>1</td>\n",
              "      <td>1</td>\n",
              "      <td>1</td>\n",
              "    </tr>\n",
              "    <tr>\n",
              "      <th>...</th>\n",
              "      <td>...</td>\n",
              "      <td>...</td>\n",
              "      <td>...</td>\n",
              "      <td>...</td>\n",
              "    </tr>\n",
              "    <tr>\n",
              "      <th>2196</th>\n",
              "      <td>0</td>\n",
              "      <td>1</td>\n",
              "      <td>0</td>\n",
              "      <td>1</td>\n",
              "    </tr>\n",
              "    <tr>\n",
              "      <th>2197</th>\n",
              "      <td>0</td>\n",
              "      <td>1</td>\n",
              "      <td>0</td>\n",
              "      <td>1</td>\n",
              "    </tr>\n",
              "    <tr>\n",
              "      <th>2198</th>\n",
              "      <td>0</td>\n",
              "      <td>1</td>\n",
              "      <td>0</td>\n",
              "      <td>0</td>\n",
              "    </tr>\n",
              "    <tr>\n",
              "      <th>2199</th>\n",
              "      <td>0</td>\n",
              "      <td>1</td>\n",
              "      <td>0</td>\n",
              "      <td>0</td>\n",
              "    </tr>\n",
              "    <tr>\n",
              "      <th>2200</th>\n",
              "      <td>0</td>\n",
              "      <td>1</td>\n",
              "      <td>0</td>\n",
              "      <td>0</td>\n",
              "    </tr>\n",
              "  </tbody>\n",
              "</table>\n",
              "<p>2201 rows \u00d7 4 columns</p>\n",
              "</div>"
            ],
            "text/plain": [
              "      class  Age  Sex  Survived\n",
              "0         1    1    1         1\n",
              "1         1    1    1         1\n",
              "2         1    1    1         1\n",
              "3         1    1    1         1\n",
              "4         1    1    1         1\n",
              "...     ...  ...  ...       ...\n",
              "2196      0    1    0         1\n",
              "2197      0    1    0         1\n",
              "2198      0    1    0         0\n",
              "2199      0    1    0         0\n",
              "2200      0    1    0         0\n",
              "\n",
              "[2201 rows x 4 columns]"
            ]
          },
          "execution_count": 1,
          "metadata": {},
          "output_type": "execute_result"
        }
      ],
      "execution_count": 1
    },
    {
      "cell_type": "markdown",
      "metadata": {
        "jukit_cell_id": "WZ5hma4jX4"
      },
      "source": [
        "Se voc\u00ea leu o arquivo explicativo, viu que os dados est\u00e3o organizados da seguinte maneira:\n",
        "\n",
        "|Coluna|Descri\u00e7\u00e3o|Valores|\n",
        "| :-: | :-: | :-: |\n",
        "|0|Classe| 0 = tripula\u00e7\u00e3o, 1 = primeira, 2 = segunda, 3 = terceira|\n",
        "|1|Idade|1 = adulto, 0 = crian\u00e7a|\n",
        "|2|Sexo|1 = masculino, 0 = feminino|\n",
        "|3|Sobreviveu?|1 = sim, 0 = n\u00e3o|"
      ]
    },
    {
      "cell_type": "markdown",
      "metadata": {
        "jukit_cell_id": "gHfb2qEcHU"
      },
      "source": [
        "Agora vamos montar uma tabela de contig\u00eancia na m\u00e3o. Para tal, vamos calcular a fra\u00e7\u00e3o de pessoas que sobreviveram por classe. Podemos aplicar o group-by na classe e tirar a m\u00e9dia. Lembrando que a m\u00e9dia de 1s e 0s captura uma fra\u00e7\u00e3o.\n",
        "\n",
        "**Exerc\u00edcio 1**: use a fun\u00e7\u00e3o `groupby` do `Pandas` para calcular e exibir essa fra\u00e7\u00e3o."
      ]
    },
    {
      "cell_type": "code",
      "metadata": {
        "jukit_cell_id": "1J36txDeNB"
      },
      "source": [
        "# Seu c\u00f3digo aqui:\n",
        "\n",
        "colunas = [\"Survived\", \"class\"]  # completar\n",
        "coluna_groupby = \"class\"  # completar\n",
        "df[colunas].groupby(coluna_groupby).mean()"
      ],
      "outputs": [],
      "execution_count": null
    },
    {
      "cell_type": "markdown",
      "metadata": {
        "jukit_cell_id": "Z28MyLMmU9"
      },
      "source": [
        "Aparentemente, a classe dos tripulantes (classe 0) \u00e9 aquela com menor taxa de sobreviv\u00eancia. Para verificar se o Paradoxo de Simpson ocorre, vamos quebrar a an\u00e1lise pelas outras duas colunas, idade (`Age`) e sexo (`Sex`). Para isso, basta agrupar a taxa de sobreviv\u00eancia pelas duas colunas de interesse.\n",
        "\n",
        "Primeiro, vamos quebrar pela idade.\n",
        "\n",
        "**Exerc\u00edcio 2**: use a fun\u00e7\u00e3o `groupby` do `Pandas` para calcular e exibir essa fra\u00e7\u00e3o quebrada por idade (`Age`)."
      ]
    },
    {
      "cell_type": "code",
      "metadata": {
        "jukit_cell_id": "MvxQOcqJAa"
      },
      "source": [
        "# Seu c\u00f3digo aqui:\n",
        "\n",
        "colunas = [\"Survived\", \"Age\", \"class\"]  # completar\n",
        "colunas_groupby = [\"Age\", \"class\"]  # completar\n",
        "df[colunas].groupby(colunas_groupby).mean()"
      ],
      "outputs": [],
      "execution_count": null
    },
    {
      "cell_type": "markdown",
      "metadata": {
        "jukit_cell_id": "PUNAkWBJ1r"
      },
      "source": [
        "A \u00fanica coisa que podemos ver aqui \u00e9 que a taxa de sobreviv\u00eancia de crian\u00e7as \u00e9 significativamente maior. Talvez se tiv\u00e9ssemos uma quantidade significativa de crian\u00e7as, poder\u00edamos observar o Paradoxo de Simpson.\n",
        "\n",
        "Vamos agora quebrar por sexo.\n",
        "\n",
        "**Exerc\u00edcio 3**: use a fun\u00e7\u00e3o `groupby` do `Pandas` para calcular e exibir essa fra\u00e7\u00e3o quebrada por sexo (`Sex`)."
      ]
    },
    {
      "cell_type": "code",
      "metadata": {
        "jukit_cell_id": "PQDQKdxolH"
      },
      "source": [
        "# Seu c\u00f3digo aqui:\n",
        "colunas = [\"Survived\", \"Sex\", \"class\"]  # completar\n",
        "colunas_groupby = [\"Sex\", \"class\"]  # completar\n",
        "df[colunas].groupby(colunas_groupby).mean()"
      ],
      "outputs": [],
      "execution_count": null
    },
    {
      "cell_type": "markdown",
      "metadata": {
        "jukit_cell_id": "PXJvVWWUz7"
      },
      "source": [
        "Quebrando a an\u00e1lise por sexo, podemos ver tamb\u00e9m que a taxa de sobreviv\u00eancia de mulheres foi significativamente maior que a taxa de sobreviv\u00eancia de homens. Al\u00e9m disso, por haver muito mais mulheres na terceira classe que na tripula\u00e7\u00e3o, isso mascarou o primeiro resultado, que indicava que membros da tripula\u00e7\u00e3o sobreviveram menos que os membros da terceira classe. Podemos ver agora que os membros da tripula\u00e7\u00e3o sobreviveram mais que os membros da terceira classe, o que configura o Paradoxo de Simpson.\n",
        "\n",
        "**Exerc\u00edcio 4**: Para voc\u00ea confiar ainda mais nessa an\u00e1lise, observe a quantidade de pessoas de cada sexo por classe e note que h\u00e1 uma propor\u00e7\u00e3o muito menor de mulheres na classe `0` que na classe `3`."
      ]
    },
    {
      "cell_type": "code",
      "metadata": {
        "jukit_cell_id": "sj9y9TJBDy"
      },
      "source": [
        "# Seu c\u00f3digo aqui:\n",
        "filter: pd.DataFrame = df[\"Sex\"] == 0\n",
        "num_of_women = df[filter][\"Sex\"].count()\n",
        "num_of_0 = df[filter][\"class\"][df[\"class\"] == 0].count()\n",
        "num_of_3 = df[filter][\"class\"][df[\"class\"] == 3].count()\n",
        "ratio_0 = num_of_0 / num_of_women\n",
        "ratio_3 = num_of_3 / num_of_women\n",
        "print(ratio_0, ratio_3)"
      ],
      "outputs": [],
      "execution_count": null
    },
    {
      "cell_type": "markdown",
      "metadata": {
        "jukit_cell_id": "5GWntJkeXL"
      },
      "source": [
        "## Valores-p de Correla\u00e7\u00f5es\n",
        "\n",
        "Alguns pacotes, como o `scipy`, tamb\u00e9m calculam **valores-p** (ou *p-values*) de correla\u00e7\u00f5es. Esse valor-p refere-se \u00e0 probabilidade da correla\u00e7\u00e3o ser explicada pela hip\u00f3tese **H0** abaixo em detrimento da hip\u00f3tese **H1**:\n",
        "\n",
        "- **H0**: A correla\u00e7\u00e3o observada pode ser fruto do acaso, ou seja, \u00e9 estatisticamente explicada por uma permuta\u00e7\u00f5es aleat\u00f3rias nos dados.\n",
        "- **H1**: A correla\u00e7\u00e3o observada n\u00e3o \u00e9 fruto do acaso, ou seja, permuta\u00e7\u00f5es dos dados n\u00e3o podem gerar dados correlacionados dessa maneira."
      ]
    },
    {
      "cell_type": "markdown",
      "metadata": {
        "jukit_cell_id": "QUfaeOzZZJ"
      },
      "source": [
        "**Exerc\u00edcio 5**: Crie uma fun\u00e7\u00e3o que recebe dois *arrays numpy* e retorna a correla\u00e7\u00e3o de Pearson entre eles."
      ]
    },
    {
      "cell_type": "code",
      "metadata": {
        "jukit_cell_id": "GefCFWhwd0"
      },
      "source": [
        "import numpy as np"
      ],
      "outputs": [],
      "execution_count": null
    },
    {
      "cell_type": "code",
      "metadata": {
        "jukit_cell_id": "hvC3YFjKVS"
      },
      "source": [
        "# seu codigo aqui:\n",
        "def correlation(x: np.ndarray, y: np.ndarray) -> np.ndarray:\n",
        "    return np.corrcoef(x, y)[1][0]"
      ],
      "outputs": [],
      "execution_count": null
    },
    {
      "cell_type": "markdown",
      "metadata": {
        "jukit_cell_id": "MIUeV3Q2vt"
      },
      "source": [
        "Observe como os dados abaixo tem uma correla\u00e7\u00e3o quase que perfeita!"
      ]
    },
    {
      "cell_type": "code",
      "metadata": {
        "jukit_cell_id": "z6YM3RiudD"
      },
      "source": [
        "x = np.array([7.1, 7.1, 7.2, 8.3, 9.4])\n",
        "y = np.array([2.8, 2.9, 2.8, 2.6, 3.5])\n",
        "plt.scatter(x, y, edgecolor=\"k\", alpha=0.6, s=80)\n",
        "print(\"correla\u00e7\u00e3o entre x e y:\", correlation(x, y))"
      ],
      "outputs": [],
      "execution_count": null
    },
    {
      "cell_type": "markdown",
      "metadata": {
        "jukit_cell_id": "dG4vsJltn5"
      },
      "source": [
        "No entanto, se permutarmos esses dados 10000 vezes..."
      ]
    },
    {
      "cell_type": "code",
      "metadata": {
        "jukit_cell_id": "Nn5aBWTNk8"
      },
      "source": [
        "# copia x para x_perm\n",
        "x_perm = x.copy()\n",
        "# vamos guardar os valores das correla\u00e7\u00f5es\n",
        "perm_corr = []\n",
        "for _ in range(10000):\n",
        "    # permuta o vetor x\n",
        "    np.random.shuffle(x_perm)\n",
        "    # calcula a correla\u00e7\u00e3o e guarda no vetor perm_corr\n",
        "    perm_corr.append(correlation(x_perm, y))"
      ],
      "outputs": [],
      "execution_count": null
    },
    {
      "cell_type": "markdown",
      "metadata": {
        "jukit_cell_id": "8bSvL752v5"
      },
      "source": [
        "Temos agora 10000 valores de correla\u00e7\u00f5es, que foram calculadas a partir de permuta\u00e7\u00f5es do vetor `x` original. Ser\u00e1 que apenas o `x` original era correlacionado com `y`?"
      ]
    },
    {
      "cell_type": "code",
      "metadata": {
        "jukit_cell_id": "2IXHJngQ8c"
      },
      "source": [
        "plt.hist(perm_corr, edgecolor=\"k\")\n",
        "plt.xlabel(\"Correla\u00e7\u00e3o na Permuta\u00e7\u00e3o\")\n",
        "plt.ylabel(\"Quantidade de Permuta\u00e7\u00f5es\")\n",
        "plt.vlines(correlation(x, y), 0, 2000, color=\"r\")\n",
        "plt.text(correlation(x, y), 2000, \"Observado\")"
      ],
      "outputs": [],
      "execution_count": null
    },
    {
      "cell_type": "markdown",
      "metadata": {
        "jukit_cell_id": "C7e9Mula7c"
      },
      "source": [
        "Podemos calcular agora quantos desses valores de correla\u00e7\u00f5es, gerados ao acaso, s\u00e3o maiores ou iguais ao valor observado:"
      ]
    },
    {
      "cell_type": "code",
      "metadata": {
        "jukit_cell_id": "tHoclXw2Jh"
      },
      "source": [
        "valor_p = sum(perm_corr > correlation(x, y)) / len(perm_corr)\n",
        "print(\"valor_p\", valor_p)"
      ],
      "outputs": [],
      "execution_count": null
    },
    {
      "cell_type": "markdown",
      "metadata": {
        "jukit_cell_id": "TqF3UBftno"
      },
      "source": [
        "Vamos calcular a correla\u00e7\u00e3o e o valor-p a partir do `scipy`:"
      ]
    },
    {
      "cell_type": "code",
      "metadata": {
        "jukit_cell_id": "5a3d7NRUU9"
      },
      "source": [
        "from scipy import stats as ss"
      ],
      "outputs": [],
      "execution_count": null
    },
    {
      "cell_type": "code",
      "metadata": {
        "jukit_cell_id": "iFB0dgWRlX"
      },
      "source": [
        "c, p = ss.pearsonr(x, y)\n",
        "print(c, p)"
      ],
      "outputs": [],
      "execution_count": null
    },
    {
      "cell_type": "markdown",
      "metadata": {
        "jukit_cell_id": "6m5ZhOu3vG"
      },
      "source": [
        "A conclus\u00e3o \u00e9 que, de fato, a correla\u00e7\u00e3o entre x e y pode ser uma correla\u00e7\u00e3o esp\u00faria, ou seja, vinda do acaso. O valor-p indica que h\u00e1 uma alta probabilidade de conseguirmos uma correl\u00e7\u00e3o t\u00e3o alta quanto a observada."
      ]
    },
    {
      "cell_type": "markdown",
      "metadata": {
        "jukit_cell_id": "uDJOzKGS7T"
      },
      "source": [
        "## Algumas Outras Advert\u00eancias Correlacionais\n",
        "\n",
        "Uma correla\u00e7\u00e3o de zero indica que n\u00e3o h\u00e1 rela\u00e7\u00e3o linear entre as duas vari\u00e1veis. No entanto, outros tipos de relacionamentos podem existir. Por exemplo, se:\n",
        "\n",
        "`x = [-2, -1, 0, 1, 2]`\n",
        "\n",
        "`y = [ 2, 1, 0, 1, 2]`\n",
        "\n",
        "ent\u00e3o `x` e `y` t\u00eam correla\u00e7\u00e3o zero. Mas eles certamente t\u00eam um relacionamento - cada elemento de `y` \u00e9 igual ao valor absoluto do elemento correspondente de `x`. O que eles n\u00e3o t\u00eam \u00e9 um relacionamento em que saber como `x_i` se compara \u00e0 m\u00e9dia de `x` (`mean(x)`) nos fornece informa\u00e7\u00f5es sobre como `y_i` se compara \u00e0 m\u00e9dia de `y` (`mean(y)`). Esse \u00e9 o tipo de relacionamento que a correla\u00e7\u00e3o procura.\n",
        "\n",
        "Al\u00e9m disso, a correla\u00e7\u00e3o n\u00e3o informa nada sobre o tamanho do relacionamento. As vari\u00e1veis:\n",
        "\n",
        "`x = [-2, 1, 0, 1, 2]`\n",
        "\n",
        "`y = [99.98, 99.99, 100, 100.01, 100.02]`\n",
        "\n",
        "s\u00e3o perfeitamente correlacionados, mas (dependendo do que voc\u00ea est\u00e1 medindo) \u00e9 bem poss\u00edvel que esse relacionamento n\u00e3o seja t\u00e3o interessante."
      ]
    },
    {
      "cell_type": "markdown",
      "metadata": {
        "jukit_cell_id": "G44cwAT8NM"
      },
      "source": [
        "## Correla\u00e7\u00e3o e Causalidade\n",
        "\n",
        "Voc\u00ea provavelmente j\u00e1 ouviu, em algum momento, que \"correla\u00e7\u00e3o n\u00e3o \u00e9 causalidade\", provavelmente por algu\u00e9m que olha dados que representam um desafio para partes de sua vis\u00e3o de mundo que ele estava relutante em questionar. No entanto, este \u00e9 um ponto importante - se `x` e `y` est\u00e3o fortemente correlacionados, isso pode significar que `x` causa `y`, `y` causa `x`, que cada um causa o outro, que algum terceiro fator causa ambos, ou pode n\u00e3o significar nada.\n",
        "\n",
        "Considere a rela\u00e7\u00e3o entre `numero_amigos` e `minutos_diarios`. \u00c9 poss\u00edvel que ter mais amigos no site fa\u00e7a com que os usu\u00e1rios do *DataSciencester* passem mais tempo no site. Este pode ser o caso se cada amigo publicar uma certa quantidade de conte\u00fado por dia, o que significa que quanto mais amigos voc\u00ea tiver, mais tempo levar\u00e1 para se manter atualizado a respeito das publica\u00e7\u00f5es deles.\n",
        "\n",
        "No entanto, tamb\u00e9m \u00e9 poss\u00edvel que quanto mais tempo voc\u00ea gasta discutindo nos f\u00f3runs do *DataSciencester*, mais voc\u00ea encontra e faz amizade com pessoas que pensam como voc\u00ea. Ou seja, passar mais tempo no site faz com que os usu\u00e1rios tenham mais amigos.\n",
        "\n",
        "Uma terceira possibilidade \u00e9 que os usu\u00e1rios mais apaixonados por ci\u00eancia dos dados passem mais tempo no site (porque acham isso a coisa mais interessante do dia) e fa\u00e7am mais ativamente amigos que gostam de ci\u00eancia de dados (porque n\u00e3o querem se associar a ningu\u00e9m mais).\n",
        "\n",
        "Uma maneira de se sentir mais confiante sobre a causalidade \u00e9 conduzir estudos randomizados. Se voc\u00ea puder dividir seus usu\u00e1rios aleatoriamente em dois grupos com dados demogr\u00e1ficos semelhantes e dar a um dos grupos uma experi\u00eancia levemente diferente, ent\u00e3o voc\u00ea poder\u00e1 muitas vezes dizer que essa leve experi\u00eancia est\u00e1 causando os diferentes resultados.\n",
        "\n",
        "Por exemplo, se voc\u00ea n\u00e3o se importa em ser acusado de fazer experi\u00eancias com seus usu\u00e1rios, voc\u00ea pode escolher aleatoriamente um subconjunto de usu\u00e1rios e mostrar a eles apenas uma fra\u00e7\u00e3o de seus amigos. Se esse subconjunto subsequentemente passou menos tempo no site, isso lhe daria alguma confian\u00e7a de que ter mais amigos causa mais tempo no site."
      ]
    },
    {
      "cell_type": "markdown",
      "metadata": {
        "jukit_cell_id": "cisMVpEKi8"
      },
      "source": [
        "## Para explora\u00e7\u00f5es futuras\n",
        "\n",
        "* [`SciPy`](https://www.scipy.org/), [`pandas`](https://pandas.pydata.org/) e [`StatsModels`](https://www.statsmodels.org/stable/index.html) v\u00eam com uma ampla variedade de fun\u00e7\u00f5es estat\u00edsticas.\n",
        "\n",
        "* Estat\u00edsticas s\u00e3o *importantes*. (Ou talvez as estat\u00edsticas *sejam* importantes?) Se voc\u00ea quer ser um bom cientista de dados, seria uma boa id\u00e9ia ler um livro de estat\u00edsticas. Muitos est\u00e3o dispon\u00edveis gratuitamente online. Dois exemplos:\n",
        " - [*OpenIntro Statistics*](https://www.openintro.org/stat/textbook.php)\n",
        " - [*OpenStax Introductory Statistics*](https://openstax.org/details/introductory-statistics)"
      ]
    },
    {
      "cell_type": "markdown",
      "metadata": {
        "jukit_cell_id": "1qEUJUARph"
      },
      "source": [
        "## Dados Reais\n",
        "\n",
        "Nesta aula vamos utilizados dados de pre\u00e7os de carros h\u00edbridos. Nos EUA, um carro h\u00edbrido pode rodar tanto em eletricidade quanto em combust\u00edvel. A tabela cont\u00e9m as vendas de 1997 at\u00e9 2003.\n",
        "\n",
        "Uma m\u00e1xima dessa aula ser\u00e1: **Sempre visualize seus dados**. \n",
        "\n",
        "As colunas s\u00e3o:\n",
        "\n",
        "1. **vehicle:** modelo do carro\n",
        "1. **year:** ano de manufatura\n",
        "1. **msrp:** pre\u00e7o sugerido em 2013 e em USDs\n",
        "1. **acceleration:** acelera\u00e7\u00e3o em km por hora por segundo\n",
        "1. **mpg:** economia de combust\u00edvel em milhas por gal\u00e3o\n",
        "1. **class:** a classe do modelo\n",
        "\n",
        "### Olhando para os Dados\n",
        "\n",
        "Vamos iniciar olhando para cada coluna dos dados."
      ]
    },
    {
      "cell_type": "code",
      "metadata": {
        "jukit_cell_id": "bWENAwhbgX"
      },
      "source": [
        "df = pd.read_csv(\n",
        "    \"https://media.githubusercontent.com/media/icd-ufmg/material/master/aulas/15-Correlacao/hybrid.csv\"\n",
        ")\n",
        "df[\"msrp\"] = df[\"msrp\"] / 1000\n",
        "df.head()"
      ],
      "outputs": [],
      "execution_count": null
    },
    {
      "cell_type": "markdown",
      "metadata": {
        "jukit_cell_id": "bHsKru1ITO"
      },
      "source": [
        "A coluna MSRP \u00e9 o pre\u00e7o m\u00e9dio de venda. Cada linha da tabela \u00e9 um carro. \n",
        "\n",
        "Vamos ver o histograma da acelera\u00e7\u00e3o:"
      ]
    },
    {
      "cell_type": "code",
      "metadata": {
        "jukit_cell_id": "0wSdtrjcxL"
      },
      "source": [
        "plt.hist(df[\"acceleration\"], bins=20, edgecolor=\"k\")\n",
        "plt.title(\"Histograma de Acelera\u00e7\u00e3o\")\n",
        "plt.xlabel(\"Acelera\u00e7\u00e3o em Milhas por Hora\")\n",
        "plt.ylabel(\"Num. Carros\")"
      ],
      "outputs": [],
      "execution_count": null
    },
    {
      "cell_type": "markdown",
      "metadata": {
        "jukit_cell_id": "YbsBoiOYpd"
      },
      "source": [
        "Agora vamos ver o histograma do pre\u00e7o sugerido:"
      ]
    },
    {
      "cell_type": "code",
      "metadata": {
        "jukit_cell_id": "IWVHUOPwAI"
      },
      "source": [
        "plt.hist(df[\"msrp\"], bins=20, edgecolor=\"k\")\n",
        "plt.title(\"Histograma de Modelos por Ano\")\n",
        "plt.xlabel(\"Pre\u00e7o em Mil. D\u00f3lar\")\n",
        "plt.ylabel(\"Num. Carros\")"
      ],
      "outputs": [],
      "execution_count": null
    },
    {
      "cell_type": "markdown",
      "metadata": {
        "jukit_cell_id": "cBdXXC2m8p"
      },
      "source": [
        "Os gr\u00e1ficos acima nos d\u00e3o uma vis\u00e3o geral dos dados. Note que, como esperado, cada coluna tem uma faixa diferente de valores no eixo-x. Al\u00e9m do mais, a concentra\u00e7\u00e3o (lado esquerdo/direito) diferente entre as colunas. Como que podemos comparar as colunas? Cada uma est\u00e1 representada em uma unidade diferente.\n",
        "\n",
        "Vamos fazer os gr\u00e1ficos de dispers\u00e3o.\n",
        "\n",
        "### Dispers\u00e3o\n",
        "\n",
        "Come\u00e7amos com o gr\u00e1fico que compara acelera\u00e7\u00e3o com o pre\u00e7o:"
      ]
    },
    {
      "cell_type": "code",
      "metadata": {
        "jukit_cell_id": "aWVi4fpSX4"
      },
      "source": [
        "plt.scatter(df[\"acceleration\"], df[\"msrp\"], edgecolor=\"k\", alpha=0.6, s=80)\n",
        "plt.xlabel(\"MSRP\")\n",
        "plt.ylabel(\"Acc.\")\n",
        "plt.title(\"Consumo vs Acc\")"
      ],
      "outputs": [],
      "execution_count": null
    },
    {
      "cell_type": "markdown",
      "metadata": {
        "jukit_cell_id": "fFoEYxGBBe"
      },
      "source": [
        "Tudo indica que h\u00e1 uma correla\u00e7\u00e3o entre os dois valores.\n",
        "\n",
        "**Exerc\u00edcio 6**: calcule a correla\u00e7\u00e3o entre acelera\u00e7\u00e3o e pre\u00e7o. Indique se a correla\u00e7\u00e3o \u00e9 significativa ou n\u00e3o atrav\u00e9s do seu valor-p."
      ]
    },
    {
      "cell_type": "code",
      "metadata": {
        "jukit_cell_id": "hGqcEWEVNS"
      },
      "source": [
        "# Seu c\u00f3digo aqui:\n",
        "statistic, pvalue = ss.pearsonr(df[\"acceleration\"], df[\"msrp\"])\n",
        "print(statistic, pvalue)\n",
        "# o valor-p \u00e9 muito pr\u00f3ximo de 0, o que significa que \u00e9 muito improv\u00e1vel obter esses dados ao acaso, ent\u00e3o a correla\u00e7\u00e3o \u00e9 significativa"
      ],
      "outputs": [],
      "execution_count": null
    },
    {
      "cell_type": "markdown",
      "metadata": {
        "jukit_cell_id": "UJtVCpk2hu"
      },
      "source": [
        "Finalmente, o pairplot no Seaborn permite que voc\u00ea veja gr\u00e1ficos de dispers\u00e3o e histogramas para v\u00e1rias colunas em uma tabela. Aqui brincamos com algumas das palavras-chave para produzir um gr\u00e1fico de pares mais sofisticado e f\u00e1cil de ler que incorpora linhas de mistura alfa e regress\u00e3o linear para os gr\u00e1ficos de dispers\u00e3o."
      ]
    },
    {
      "cell_type": "code",
      "metadata": {
        "jukit_cell_id": "Z0Dx3fK3EX"
      },
      "source": [
        "import seaborn as sns\n",
        "\n",
        "fig = sns.pairplot(\n",
        "    df[[\"msrp\", \"acceleration\", \"mpg\", \"class\", \"year\"]],\n",
        "    kind=\"reg\",\n",
        "    plot_kws={\"line_kws\": {\"color\": \"red\"}, \"scatter_kws\": {\"alpha\": 0.1}},\n",
        ").fig\n",
        "\n",
        "fig.savefig(\"out.png\")"
      ],
      "outputs": [],
      "execution_count": null
    },
    {
      "cell_type": "markdown",
      "metadata": {
        "jukit_cell_id": "mjTz4tjspm"
      },
      "source": [
        "Voc\u00ea pode tamb\u00e9m calcular a matriz de correla\u00e7\u00f5es entre todas as colunas de um `DataFrame` usando a fun\u00e7\u00e3o `corr`:"
      ]
    },
    {
      "cell_type": "code",
      "metadata": {
        "jukit_cell_id": "qH3yvXNgtt"
      },
      "source": [
        "df.corr()"
      ],
      "outputs": [],
      "execution_count": null
    },
    {
      "cell_type": "markdown",
      "metadata": {
        "jukit_cell_id": "66mbChy5S4"
      },
      "source": [
        "Essa fun\u00e7\u00e3o calcula a correla\u00e7\u00e3o de `Pearson`, mas voc\u00ea pode calcular a de `Spearman`."
      ]
    },
    {
      "cell_type": "code",
      "metadata": {
        "jukit_cell_id": "SMxdCmKYNx"
      },
      "source": [
        "df.corr(method=\"spearman\")"
      ],
      "outputs": [],
      "execution_count": null
    },
    {
      "cell_type": "markdown",
      "metadata": {
        "jukit_cell_id": "1PyPua9TWD"
      },
      "source": [
        "# Exerc\u00edcio Final\n",
        "\n",
        "O professor disponibilizou uma planilha com as notas finais dos alunos que cursaram a disciplina *Programa\u00e7\u00e3o e Desenvolvimento de Software - 1* da UFMG [neste link](https://drive.google.com/file/d/1Bm5mKv5FHHfaFycuVufV8FBWnk1Dh267/view?usp=sharing). Fa\u00e7a o download desse arquivo para realizar este exerc\u00edcio.\n",
        "\n",
        "\n",
        "A planilha cont\u00e9m as seguintes informa\u00e7\u00f5es:\n",
        "\n",
        "- **Aluno**: c\u00f3digo anonimizado do n\u00famero de matr\u00edcula do aluno.\n",
        "- **Praticas**: pontua\u00e7\u00e3o (no intervalo entre 0 e 5) obtida pelo aluno nas atividades pr\u00e1ticas semanais. \u00c9 uma forma de quantificar a *quantidade de horas* dedicada para a disciplina.\n",
        "- **Ano**: ano em que a disciplina foi cursada.\n",
        "\n",
        "### Objetivos do exerc\u00edcio:\n",
        "\n",
        "1) Verificar se h\u00e1 correla\u00e7\u00e3o entre os pontos obtidos nas atividades pr\u00e1ticas e a nota final.\n",
        "2) Verificar se h\u00e1 diferen\u00e7as entre as correla\u00e7\u00e3o do ano 2020 com a do ano 2021.\n",
        "2) Verificar se as correla\u00e7\u00f5es mudam ao remover os alunos que desistiram do curso.\n",
        "\n",
        "**Importante**: n\u00e3o se esque\u00e7a de lidar com os valores faltantes!"
      ]
    },
    {
      "cell_type": "code",
      "metadata": {
        "jukit_cell_id": "atz9y4l2Cg"
      },
      "source": [
        "df_alunos = pd.read_csv(\"notas_pds1.csv\", delimiter=\",\", header=\"infer\")\n",
        "df_alunos.head()"
      ],
      "outputs": [
        {
          "data": {
            "text/html": [
              "<div>\n",
              "<style scoped>\n",
              "    .dataframe tbody tr th:only-of-type {\n",
              "        vertical-align: middle;\n",
              "    }\n",
              "\n",
              "    .dataframe tbody tr th {\n",
              "        vertical-align: top;\n",
              "    }\n",
              "\n",
              "    .dataframe thead th {\n",
              "        text-align: right;\n",
              "    }\n",
              "</style>\n",
              "<table border=\"1\" class=\"dataframe\">\n",
              "  <thead>\n",
              "    <tr style=\"text-align: right;\">\n",
              "      <th></th>\n",
              "      <th>Aluno</th>\n",
              "      <th>Praticas</th>\n",
              "      <th>Nota</th>\n",
              "      <th>Ano</th>\n",
              "    </tr>\n",
              "  </thead>\n",
              "  <tbody>\n",
              "    <tr>\n",
              "      <th>0</th>\n",
              "      <td>322dc9c2578ab8e6e9148cc8aa13e852</td>\n",
              "      <td>NaN</td>\n",
              "      <td>0</td>\n",
              "      <td>2021</td>\n",
              "    </tr>\n",
              "    <tr>\n",
              "      <th>1</th>\n",
              "      <td>ad229fb205bc55f579fb585d822e6a62</td>\n",
              "      <td>4</td>\n",
              "      <td>49,96</td>\n",
              "      <td>2021</td>\n",
              "    </tr>\n",
              "    <tr>\n",
              "      <th>2</th>\n",
              "      <td>d0ca98e1af20d4bc4c471ae3c73c8ffd</td>\n",
              "      <td>NaN</td>\n",
              "      <td>0</td>\n",
              "      <td>2021</td>\n",
              "    </tr>\n",
              "    <tr>\n",
              "      <th>3</th>\n",
              "      <td>c4d14e39372b7c44ba0c58cc730562ce</td>\n",
              "      <td>NaN</td>\n",
              "      <td>0</td>\n",
              "      <td>2021</td>\n",
              "    </tr>\n",
              "    <tr>\n",
              "      <th>4</th>\n",
              "      <td>fef5f1f3a5b6681347d75525201b4ad2</td>\n",
              "      <td>4</td>\n",
              "      <td>34,85845</td>\n",
              "      <td>2021</td>\n",
              "    </tr>\n",
              "  </tbody>\n",
              "</table>\n",
              "</div>"
            ],
            "text/plain": [
              "                              Aluno Praticas      Nota   Ano\n",
              "0  322dc9c2578ab8e6e9148cc8aa13e852      NaN         0  2021\n",
              "1  ad229fb205bc55f579fb585d822e6a62        4     49,96  2021\n",
              "2  d0ca98e1af20d4bc4c471ae3c73c8ffd      NaN         0  2021\n",
              "3  c4d14e39372b7c44ba0c58cc730562ce      NaN         0  2021\n",
              "4  fef5f1f3a5b6681347d75525201b4ad2        4  34,85845  2021"
            ]
          },
          "execution_count": 2,
          "metadata": {},
          "output_type": "execute_result"
        }
      ],
      "execution_count": 2
    },
    {
      "cell_type": "markdown",
      "metadata": {
        "jukit_cell_id": "6Za0oXUL5A"
      },
      "source": [
        "Verifique se h\u00e1 valores faltantes com a fun\u00e7\u00e3o `info()`."
      ]
    },
    {
      "cell_type": "code",
      "metadata": {
        "jukit_cell_id": "QhTPreSt6L"
      },
      "source": [
        "# Seu c\u00f3digo aqui:\n",
        "df_alunos.info()"
      ],
      "outputs": [],
      "execution_count": null
    },
    {
      "cell_type": "markdown",
      "metadata": {
        "jukit_cell_id": "AHx9ajeItI"
      },
      "source": [
        "Troque os valores nulos por `0`."
      ]
    },
    {
      "cell_type": "code",
      "metadata": {
        "jukit_cell_id": "2qhAjRWRNr"
      },
      "source": [
        "# Seu c\u00f3digo aqui:\n",
        "df_alunos = df_alunos.fillna(0)"
      ],
      "outputs": [],
      "execution_count": null
    },
    {
      "cell_type": "code",
      "metadata": {
        "jukit_cell_id": "norxQKu6KA"
      },
      "source": [
        "df_alunos"
      ],
      "outputs": [],
      "execution_count": null
    },
    {
      "cell_type": "markdown",
      "metadata": {
        "jukit_cell_id": "BBf8w3YQJF"
      },
      "source": [
        "Os valores das colunas `Aluno`, `Praticas` e `Nota` est\u00e3o com o tipo `object` e tamb\u00e9m com o caractere `,` separando a parte inteira da parte decimal. Substitua as `,` por `.` usando a fun\u00e7\u00e3o `str.replace` do `Pandas` e, depois, use a fun\u00e7\u00e3o `astype(float)` para converter os tipos para `float`."
      ]
    },
    {
      "cell_type": "code",
      "metadata": {
        "jukit_cell_id": "oM4IZjHAdn"
      },
      "source": [
        "# Seu c\u00f3digo aqui:\n",
        "df_alunos[\"Praticas\"] = df_alunos[\"Praticas\"].str.replace(\",\", \".\").astype(float)\n",
        "df_alunos[\"Nota\"] = df_alunos[\"Nota\"].str.replace(\",\", \".\").astype(float)\n",
        "df_alunos = df_alunos.fillna(0)"
      ],
      "outputs": [],
      "execution_count": null
    },
    {
      "cell_type": "markdown",
      "metadata": {
        "jukit_cell_id": "Eu3Xl2nozH"
      },
      "source": [
        "Calcule a corre\u00e7\u00e3o entre a coluna `Praticas` e `Nota` usando a fun\u00e7\u00e3o `corr` do Pandas."
      ]
    },
    {
      "cell_type": "code",
      "metadata": {
        "jukit_cell_id": "0Oo2kXnK0C"
      },
      "source": [
        "# Seu c\u00f3digo aqui:\n",
        "df_alunos.corr(numeric_only=True)[\"Praticas\"][\"Nota\"]"
      ],
      "outputs": [],
      "execution_count": null
    },
    {
      "cell_type": "markdown",
      "metadata": {
        "jukit_cell_id": "ZDMley8ODJ"
      },
      "source": [
        "Por fim, encontre as colunas que correspondem aos alunos que fizeram a disciplina em 2020 e tamb\u00e9m em 2021. Use a express\u00e3o `idx_ano = df[\"coluna\"] == ano` para encontrar esses \u00edndices. Depois, calcule a corre\u00e7\u00e3o nesses anos."
      ]
    },
    {
      "cell_type": "code",
      "metadata": {
        "jukit_cell_id": "pQMbxQFfdM"
      },
      "source": [
        "# Seu c\u00f3digo aqui:\n",
        "idx_2020 = df_alunos[\"Ano\"] == 2020\n",
        "idx_2021 = df_alunos[\"Ano\"] == 2021\n",
        "\n",
        "corr_2020 = df_alunos[idx_2020].corr(numeric_only=True)[\"Praticas\"][\"Nota\"]\n",
        "corr_2021 = df_alunos[idx_2021].corr(numeric_only=True)[\"Praticas\"][\"Nota\"]\n",
        "print(corr_2020, corr_2021)"
      ],
      "outputs": [],
      "execution_count": null
    },
    {
      "cell_type": "markdown",
      "metadata": {
        "jukit_cell_id": "dXE1j1aeG6"
      },
      "source": [
        "Como exerc\u00edcio final, remova todos os alunos desistentes e calcule as correla\u00e7\u00f5es novamente. Os alunos desistentes s\u00e3o aqueles que ficaram com `Nota` menor que `1`. Para isso, use a fun\u00e7\u00e3o `drop` do Pandas."
      ]
    },
    {
      "cell_type": "code",
      "metadata": {
        "jukit_cell_id": "0sHrRx1qdp"
      },
      "source": [
        "# Seu c\u00f3digo aqui:\n",
        "idx_desistentes = df_alunos[\"Nota\"] < 1\n",
        "df_nao_desistentes = df_alunos.drop(df_alunos.loc[idx_desistentes].index)\n",
        "df_nao_desistentes.corr(numeric_only=True)[\"Praticas\"][\"Nota\"]"
      ],
      "outputs": [],
      "execution_count": null
    }
  ],
  "metadata": {
    "anaconda-cloud": {},
    "kernelspec": {
      "display_name": "python",
      "language": "python",
      "name": "python3"
    }
  },
  "nbformat": 4,
  "nbformat_minor": 4
}