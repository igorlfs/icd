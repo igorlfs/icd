{
  "cells": [
    {
      "cell_type": "markdown",
      "metadata": {
        "jukit_cell_id": "kKoaNHkHrJ"
      },
      "source": [
        "# Lista 8 - Verossimilhan\u00e7a"
      ]
    },
    {
      "cell_type": "markdown",
      "metadata": {
        "jukit_cell_id": "xWZSO3o4Vh"
      },
      "source": [
        "## Introdu\u00e7\u00e3o"
      ]
    },
    {
      "cell_type": "code",
      "metadata": {
        "jukit_cell_id": "Cm98qhNOKZ"
      },
      "source": [
        "# -*- coding: utf8\n",
        "\n",
        "import matplotlib.pyplot as plt\n",
        "import numpy as np\n",
        "import pandas as pd\n",
        "from numpy.testing import assert_equal\n",
        "from scipy import stats as ss\n",
        "\n",
        "import seaborn as sns\n",
        "\n",
        "plt.rcParams[\"figure.figsize\"] = (18, 10)\n",
        "plt.rcParams[\"axes.labelsize\"] = 20\n",
        "plt.rcParams[\"axes.titlesize\"] = 20\n",
        "plt.rcParams[\"legend.fontsize\"] = 20\n",
        "plt.rcParams[\"xtick.labelsize\"] = 20\n",
        "plt.rcParams[\"ytick.labelsize\"] = 20\n",
        "plt.rcParams[\"lines.linewidth\"] = 4"
      ],
      "outputs": [],
      "execution_count": null
    },
    {
      "cell_type": "code",
      "metadata": {
        "jukit_cell_id": "LjpIGjt6lu"
      },
      "source": [
        "plt.ion()\n",
        "plt.style.use(\"seaborn-colorblind\")\n",
        "plt.rcParams[\"figure.figsize\"] = (12, 8)"
      ],
      "outputs": [],
      "execution_count": null
    },
    {
      "cell_type": "code",
      "metadata": {
        "jukit_cell_id": "EcfykAtZ2x"
      },
      "source": [
        "def despine(ax=None):\n",
        "    if ax is None:\n",
        "        ax = plt.gca()\n",
        "    # Hide the right and top spines\n",
        "    ax.spines[\"right\"].set_visible(False)\n",
        "    ax.spines[\"top\"].set_visible(False)\n",
        "\n",
        "    # Only show ticks on the left and bottom spines\n",
        "    ax.yaxis.set_ticks_position(\"left\")\n",
        "    ax.xaxis.set_ticks_position(\"bottom\")"
      ],
      "outputs": [],
      "execution_count": null
    },
    {
      "cell_type": "markdown",
      "metadata": {
        "jukit_cell_id": "98B3kfSOkQ"
      },
      "source": [
        "Continuando da aula passada. Vamos ver mais uma forma de entender um modelo de regress\u00e3o linear. Lembre-se at\u00e9 agora falamos de correla\u00e7\u00e3o e covari\u00e2ncia cobrindo os seguintes t\u00f3picos:\n",
        "\n",
        "1. Covari\u00e2ncia\n",
        "1. Coeficiente de Pearson (Covari\u00e2ncia Normalizada)\n",
        "1. Coeficiente de Pearson como sendo a fra\u00e7\u00e3o do desvio de y capturado por x\n",
        "1. M\u00ednimos Quadrados\n",
        "\n",
        "Todos os passos acima chegam no mesmo local de tra\u00e7ar a \"melhor\" reta no gr\u00e1fico de dispers\u00e3o. Melhor aqui significa a reta que que minimiza o erro abaixo:\n",
        "\n",
        "$$\\Theta = [\\alpha, \\beta]$$\n",
        "$$L(\\Theta) = \\sum_i (y_i - \\hat{y}_i)^2$$\n",
        "$$L(\\Theta) = \\sum_i (y_i - (\\beta x_i + \\alpha))^2$$\n",
        "\n",
        "Chegamos em:\n",
        "\n",
        "\\begin{align}\n",
        " \\alpha & = \\bar{y} - \\beta\\,\\bar{x}, \\\\[5pt]\n",
        "  \\beta &= \\frac{ \\sum_{i=1}^n (x_i - \\bar{x})(y_i - \\bar{y}) }{ \\sum_{i=1}^n (x_i - \\bar{x})^2 } \\\\[6pt]\n",
        "            &= \\frac{ \\operatorname{Cov}(x, y) }{ \\operatorname{Var}(x) } \\\\[5pt]\n",
        "            &= r_{xy} \\frac{s_y}{s_x}. \\\\[6pt]\n",
        "\\end{align}"
      ]
    },
    {
      "cell_type": "markdown",
      "metadata": {
        "jukit_cell_id": "9Sup765d40"
      },
      "source": [
        "## Vis\u00e3o probab\u00edlistica"
      ]
    },
    {
      "cell_type": "markdown",
      "metadata": {
        "jukit_cell_id": "V522plqnzz"
      },
      "source": [
        "Vamos aprender uma \u00faltima forma de pensar na regress\u00e3o. Em particular, vamos fazer uso de uma vis\u00e3o probab\u00edlistica. Para tal, exploraremos o caso dos apartamentos de BH abaixo.\n",
        "\n",
        "Inicialmente, vamos observar os dados al\u00e9m do resultado da melhor regress\u00e3o."
      ]
    },
    {
      "cell_type": "code",
      "metadata": {
        "jukit_cell_id": "JmQIckYna4"
      },
      "source": [
        "df = pd.read_csv(\n",
        "    \"https://raw.githubusercontent.com/pedroharaujo/ICD_Docencia/master/aptosBH.txt\",\n",
        "    index_col=0,\n",
        ")\n",
        "df[\"preco\"] = df[\"preco\"] / 1000\n",
        "\n",
        "plt.scatter(df[\"area\"], df[\"preco\"], edgecolors=\"k\", s=80, alpha=0.6)\n",
        "\n",
        "plt.title(\"Pre\u00e7o de Apartamentos em BH\")\n",
        "plt.ylabel(r\"Pre\u00e7o * $10^3$ (R\\$)\")\n",
        "plt.xlabel(r\"\u00c1rea ($M^2$)\")\n",
        "despine()"
      ],
      "outputs": [],
      "execution_count": null
    },
    {
      "cell_type": "markdown",
      "metadata": {
        "jukit_cell_id": "Zs90RAwivM"
      },
      "source": [
        "O seaborn tem uma fun\u00e7\u00e3o regplot que plota a melhor reta al\u00e9m de um intervalo de confian\u00e7a."
      ]
    },
    {
      "cell_type": "code",
      "metadata": {
        "jukit_cell_id": "r6dnhuAdZT"
      },
      "source": [
        "sns.regplot(\n",
        "    x=\"area\",\n",
        "    y=\"preco\",\n",
        "    data=df,\n",
        "    n_boot=10000,\n",
        "    line_kws={\"color\": \"magenta\", \"lw\": 4},\n",
        "    scatter_kws={\"edgecolor\": \"k\", \"s\": 80, \"alpha\": 0.8},\n",
        ")\n",
        "plt.title(\"Preco de Apartamentos em BH\")\n",
        "plt.ylabel(r\"Pre\u00e7o * $10^3$ (R\\$)\")\n",
        "plt.xlabel(r\"\u00c1rea ($M^2$)\")\n",
        "despine()"
      ],
      "outputs": [],
      "execution_count": null
    },
    {
      "cell_type": "markdown",
      "metadata": {
        "jukit_cell_id": "oLlLgr7fDX"
      },
      "source": [
        "A reta pode ser recuperada usando scipy."
      ]
    },
    {
      "cell_type": "code",
      "metadata": {
        "jukit_cell_id": "zk24rTcRDL"
      },
      "source": [
        "model = ss.linregress(df[\"area\"], df[\"preco\"])\n",
        "model"
      ],
      "outputs": [],
      "execution_count": null
    },
    {
      "cell_type": "markdown",
      "metadata": {
        "jukit_cell_id": "xUwR4PzJlE"
      },
      "source": [
        "Usando esta reta podemos prever o pre\u00e7o de um apartamento usando apenas a \u00e1rea do mesmo."
      ]
    },
    {
      "cell_type": "code",
      "metadata": {
        "jukit_cell_id": "3JyJ8mVbYo"
      },
      "source": [
        "beta = model.slope\n",
        "alpha = model.intercept\n",
        "novo_apt_area = 225\n",
        "preco = beta * novo_apt_area + alpha\n",
        "preco"
      ],
      "outputs": [],
      "execution_count": null
    },
    {
      "cell_type": "markdown",
      "metadata": {
        "jukit_cell_id": "FRM7BARDK5"
      },
      "source": [
        "Ou seja, quando um apartamento de 225$m^2$ entra no mercado o mesmo custa em torno de 1M de reais."
      ]
    },
    {
      "cell_type": "markdown",
      "metadata": {
        "jukit_cell_id": "VE8QQjkNV8"
      },
      "source": [
        "## Erros Normais"
      ]
    },
    {
      "cell_type": "markdown",
      "metadata": {
        "jukit_cell_id": "jIoCtVoLvg"
      },
      "source": [
        "Agora, ser\u00e1 que conseguimos chegar no mesmo pensando na regress\u00e3o como um modelo probabil\u00edstico?\n",
        "\n",
        "Ao inv\u00e9s de focar no valor quadr\u00e1tico do erro, vamos pensar no caso ideal. Qual seria o valor ideal do erro da minha regress\u00e3o? ZERO! Por\u00e9m, isso \u00e9 poss\u00edvel somente quando temos rela\u00e7\u00f5es lineares perfeitas (ex: x = altura em cm, y = altura em polegadas), o que n\u00e3o \u00e9 o caso geral.\n",
        "\n",
        "Nesse caso, vamos assumir que:\n",
        "$$\\epsilon_i \\sim Normal(0, \\sigma^2)$$\n",
        "\n",
        "Isto \u00e9, cada um dos erros vem de uma distribui\u00e7\u00e3o normal com m\u00e9dia 0. Ou seja, a m\u00e9dia dos erros ainda vai ser uma normal centrada em 0. Al\u00e9m disso, o desvio padr\u00e3o dos erros poder\u00e3o ser estimados atrav\u00e9s dos dados ap\u00f3s a regress\u00e3o."
      ]
    },
    {
      "cell_type": "markdown",
      "metadata": {
        "jukit_cell_id": "SK9D9TfmsX"
      },
      "source": [
        "## Verossimilhan\u00e7a"
      ]
    },
    {
      "cell_type": "markdown",
      "metadata": {
        "jukit_cell_id": "az8IMSxja5"
      },
      "source": [
        "Na regress\u00e3o, queremos prever o valor de $y$ em fun\u00e7\u00e3o de $x$. No exemplo mostrado acima, queremos prever o pre\u00e7o de compra de um apartamento em BH em fun\u00e7\u00e3o da \u00e1rea.\n",
        "\n",
        "Estamos assumindo que:\n",
        "$$\\epsilon_i = x_i - \\beta x_i - \\alpha$$\n",
        "\n",
        "Ou seja, um erro na estimativa de um ponto n\u00e3o depende de outros.\n",
        "\n",
        "Temos uma fun\u00e7\u00e3o de densidade de probabilidade para os erros:\n",
        "$$\\epsilon_i \\sim Normal(0, \\sigma^2)$$\n",
        "\n",
        "Observe a fun\u00e7\u00e3o de densidade da Normal:\n",
        "$$p(x|\\mu, \\sigma^2) = \\frac{1}{\\sqrt{\\sigma^2 2 \\pi}} e^{-\\frac{(x-\\mu)^2}{2 \\sigma^2}}$$\n",
        "\n",
        "Logo:\n",
        "$$p(\\epsilon_i|\\mu, \\sigma^2) = \\frac{1}{\\sqrt{\\sigma^2 2 \\pi}} e^{-\\frac{(\\epsilon_i-\\mu)^2}{2 \\sigma^2}}$$\n",
        "\n",
        "Como no nosso modelo a m\u00e9dia \u00e9 zero, ficamos com:\n",
        "$$p(\\epsilon_i|\\mu=0, \\sigma^2) = \\frac{1}{\\sqrt{\\sigma^2 2 \\pi}} e^{-\\frac{\\epsilon_i^2}{2 \\sigma^2}}$$\n",
        "$$p(\\epsilon_i|\\sigma^2, \\alpha, \\beta) = \\frac{1}{\\sqrt{\\sigma^2 2 \\pi}} e^{-\\frac{(y_i - \\beta x_i - \\alpha)^2}{2 \\sigma^2}}$$\n",
        "\n",
        "A probabilidade mostrada acima \u00e9 a probabilidade de uma observa\u00e7\u00e3o (observar o erro $\\epsilon_i$) dado os par\u00e2metros $\\sigma^2$, $\\alpha$ e $\\beta$!  \n",
        "Isto \u00e9 uma **verossimilhan\u00e7a**!\n",
        "\n",
        "O gr\u00e1fico abaixo mostra a distribui\u00e7\u00e3o de probabilidade para erros vindos de uma distribui\u00e7\u00e3o normal com m\u00e9dia igual a zero e desvio padr\u00e3o igual a um."
      ]
    },
    {
      "cell_type": "code",
      "metadata": {
        "jukit_cell_id": "QXMJcr9hw1"
      },
      "source": [
        "x = np.linspace(-5, 5, 100)\n",
        "plt.plot(x, ss.distributions.norm.pdf(x, scale=1))\n",
        "plt.xlabel(r\"$\\epsilon_i$\")\n",
        "plt.ylabel(r\"$p(\\epsilon_i \\mid \\mu=0, \\sigma=1)$\")\n",
        "\n",
        "despine()"
      ],
      "outputs": [],
      "execution_count": null
    },
    {
      "cell_type": "markdown",
      "metadata": {
        "jukit_cell_id": "6hgW3CvDT9"
      },
      "source": [
        "Um modelo estat\u00edstico na mais \u00e9 do que um conjunto de hip\u00f3teses que se sup\u00f5em v\u00e1lidas para a distribui\u00e7\u00e3o de probabilidades das vari\u00e1veis aleat\u00f3rias medidas na amostra.\n",
        "\n",
        "Em particular, aqui estamos falando de modelos param\u00e9tricos, onde assumimos que o erro \u00e9 uma normal e assumimos uma fun\u00e7\u00e3o de densidade (como mostrado no gr\u00e1fico acima).\n",
        "\n",
        "Vamos focar numa base de 3 pontos. Al\u00e9m do mais, vamos assumir uma reta qualquer, dessa forma, o desvio padr\u00e3o dos erros podem ser estimados atrav\u00e9s dos dados ap\u00f3s a regress\u00e3o. Se os erros vem de uma distribui\u00e7\u00e3o normal com fun\u00e7\u00e3o de densidade j\u00e1 conhecida, qual dos tr\u00eas erros abaixo \u00e9 o mais veross\u00edmil? \n",
        "\n",
        "Observe:\n",
        "$$p(\\epsilon_i|\\sigma^2, \\alpha, \\beta) = \\frac{1}{\\sqrt{\\sigma^2 2 \\pi}} e^{-\\frac{(y_i - \\beta x_i - \\alpha)^2}{2 \\sigma^2}}$$\n",
        "\n",
        "Quanto menor o erro, maior a probabilidade, sendo assim, o segundo erro \u00e9 o mais veross\u00edmil."
      ]
    },
    {
      "cell_type": "code",
      "metadata": {
        "jukit_cell_id": "GvC4DFkdPJ"
      },
      "source": [
        "beta = 1\n",
        "alpha = 1\n",
        "\n",
        "fig = plt.figure(figsize=(36, 10))\n",
        "\n",
        "x = np.array([2, 8, 5])\n",
        "y = np.array([0, 1, 3])\n",
        "\n",
        "plt.subplot(121)\n",
        "plt.scatter(x, y, edgecolors=\"k\", s=80, alpha=0.6)\n",
        "plt.title(\"3 Pontinhos\")\n",
        "plt.ylabel(r\"Y\")\n",
        "plt.xlabel(r\"X\")\n",
        "\n",
        "y_bar = x * beta + alpha\n",
        "plt.plot(x, y_bar, color=\"magenta\")\n",
        "\n",
        "y_min = [min(y_i, y_bar_i) for y_i, y_bar_i in zip(y, y_bar)]\n",
        "y_max = [max(y_i, y_bar_i) for y_i, y_bar_i in zip(y, y_bar)]\n",
        "plt.vlines(x, ymin=y_min, ymax=y_max, color=\"magenta\", lw=1)\n",
        "\n",
        "despine()\n",
        "\n",
        "plt.subplot(122)\n",
        "plt.title(\"PDF da Normal\")\n",
        "ei_x = np.linspace(-10, 10, 100)\n",
        "sigma = (y - y_bar).std(ddof=1)\n",
        "plt.plot(ei_x, ss.distributions.norm.pdf(ei_x, scale=sigma))\n",
        "plt.xlabel(r\"$\\epsilon_i$\")\n",
        "plt.ylabel(r\"$p(\\epsilon_i \\mid \\mu=0, \\sigma={})$\".format(np.round(sigma, 2)))\n",
        "despine()"
      ],
      "outputs": [],
      "execution_count": null
    },
    {
      "cell_type": "markdown",
      "metadata": {
        "jukit_cell_id": "FBBFSFpYc3"
      },
      "source": [
        "Observe o exemplo considerando agora todos os pontos do exemplo de predi\u00e7\u00e3o de pre\u00e7o de apartamentos em BH."
      ]
    },
    {
      "cell_type": "code",
      "metadata": {
        "jukit_cell_id": "OFMdQVFzCG"
      },
      "source": [
        "beta = 3.535719156333653\n",
        "alpha = 200.52361368989432\n",
        "\n",
        "fig = plt.figure(figsize=(36, 10))\n",
        "\n",
        "x = df[\"area\"]\n",
        "y = df[\"preco\"]\n",
        "\n",
        "plt.subplot(121)\n",
        "plt.scatter(x, y, edgecolors=\"k\", s=80, alpha=0.6)\n",
        "plt.title(\"Preco de Apartamentos em BH\")\n",
        "plt.ylabel(r\"Pre\u00e7o * $10^3$ (R\\$)\")\n",
        "plt.xlabel(r\"\u00c1rea ($M^2$)\")\n",
        "\n",
        "y_bar = x * beta + alpha\n",
        "plt.plot(x, y_bar, color=\"magenta\")\n",
        "\n",
        "y_min = [min(y_i, y_bar_i) for y_i, y_bar_i in zip(y, y_bar)]\n",
        "y_max = [max(y_i, y_bar_i) for y_i, y_bar_i in zip(y, y_bar)]\n",
        "plt.vlines(x, ymin=y_min, ymax=y_max, color=\"magenta\", lw=1)\n",
        "\n",
        "despine()\n",
        "\n",
        "plt.subplot(122)\n",
        "plt.title(\"PDF da Normal\")\n",
        "ei_x = np.linspace(-1000, 1000, 100)\n",
        "sigma = (y - y_bar).std(ddof=1)\n",
        "plt.plot(ei_x, ss.distributions.norm.pdf(ei_x, scale=sigma))\n",
        "plt.xlabel(r\"$\\epsilon_i$\")\n",
        "plt.ylabel(r\"$p(\\epsilon_i \\mid \\mu=0, \\sigma={})$\".format(np.round(sigma, 2)))\n",
        "despine()"
      ],
      "outputs": [],
      "execution_count": null
    },
    {
      "cell_type": "markdown",
      "metadata": {
        "jukit_cell_id": "4M97h47RgO"
      },
      "source": [
        "## Erros Independentes"
      ]
    },
    {
      "cell_type": "markdown",
      "metadata": {
        "jukit_cell_id": "PbBU3ycqc3"
      },
      "source": [
        "Nos exemplos acima discutimos sobre qual erro \u00e9 o mais veross\u00edmil... Mas como podemos calcular a verossimilhan\u00e7a de todos os erros?\n",
        "\n",
        "Ao assumir **independ\u00eancia**, estamos dizendo que:\n",
        "$$p(E|\\sigma^2, \\alpha, \\beta) = \\prod_i p(\\epsilon_i|\\sigma^2, \\alpha, \\beta) = \\prod_i p(\\epsilon_i|\\theta)$$\n",
        "onde $E = \\{e_1, e_2, ..., e_n\\}$ e $\\theta = \\{\\sigma^2, \\alpha, \\beta\\}$\n",
        "\n",
        "\n",
        "Acabamos de definir nossa primeira fun\u00e7\u00e3o de verossimilhan\u00e7a. Como podemos proceder agora? Maximizando a mesma! Ou seja, queremos os par\u00e2metros ($\\theta$) que melhor se ajustam os nossos dados. \n",
        "Por\u00e9m, maximizar produt\u00f3rios \u00e9 chato... O mundo das somas \u00e9 mais bacana do que o mundo da multiplica\u00e7\u00e3o."
      ]
    },
    {
      "cell_type": "markdown",
      "metadata": {
        "jukit_cell_id": "WMjraDOnAf"
      },
      "source": [
        "## Log-verossimilhan\u00e7a"
      ]
    },
    {
      "cell_type": "markdown",
      "metadata": {
        "jukit_cell_id": "zi0gqGWhDm"
      },
      "source": [
        "Como o log \u00e9 uma fun\u00e7\u00e3o monotonicamente crescente, maximizar o log(f(x)) \u00e9 equivalente a maximizar f(x). Portanto vamos trabalhar no log.\n",
        "\n",
        "Ao inv\u00e9s de maximizar a fun\u00e7\u00e3o de **verossimilhan\u00e7a** $L(\\theta)$, vamos maximizar a fun\u00e7\u00e3o de **log-verossimilhan\u00e7a** $l(\\theta)$:\n",
        "\n",
        "$$L(\\theta) = \\prod_i p(\\epsilon_i|\\theta)$$\n",
        "$$log(L(E|\\theta)) = log(\\prod_i p(\\epsilon_i|\\theta))$$\n",
        "$$l(\\epsilon_i|\\theta) = \\sum_i log(p(\\epsilon_i|\\theta))$$\n",
        "uma vez que $log(A*B) = log(A) + log(B)$.\n",
        "\n",
        "Substituindo os par\u00e2metros $\\sigma^2$, $\\alpha$, $\\beta$ nas fun\u00e7\u00f5es e fazendo algumas manipula\u00e7\u00f5es, temos que a verossimilhan\u00e7a e a log-verossimilhan\u00e7a s\u00e3o dadas por:\n",
        "\n",
        "$$L(E|\\theta) = \\prod_i \\frac{1}{\\sqrt{\\sigma^2 2 \\pi}} e^{-\\frac{(y_i - \\beta x_i - \\alpha)^2}{2 \\sigma^2}}$$\n",
        "\n",
        "$$l(E|\\theta) = -nlog(\\sqrt{2\\pi}) -nlog(\\sigma) - \\frac{\\sum_i (y_i - \\beta x_i - \\alpha)^2}{2 \\sigma^2}$$"
      ]
    },
    {
      "cell_type": "markdown",
      "metadata": {
        "jukit_cell_id": "XDjtdUlzga"
      },
      "source": [
        "* A partir da f\u00f3rmula da verossimilhan\u00e7a, dada por:\n",
        "$$L(E|\\theta) = \\prod_i \\frac{1}{\\sqrt{\\sigma^2 2 \\pi}} e^{-\\frac{(y_i - \\beta x_i - \\alpha)^2}{2 \\sigma^2}}$$\n",
        "verifique que a express\u00e3o da log-verossimilhan\u00e7a \u00e9 dada por:\n",
        "$$l(E|\\theta) = -nlog(\\sqrt{2\\pi}) -nlog(\\sigma) - \\frac{\\sum_i (y_i - \\beta x_i - \\alpha)^2}{2 \\sigma^2}$$"
      ]
    },
    {
      "cell_type": "markdown",
      "metadata": {
        "jukit_cell_id": "FiMciogiXM"
      },
      "source": [
        "$$L(E|\\theta) = \\prod_i \\frac{1}{\\sqrt{\\sigma^2 2 \\pi}} e^{-\\frac{(y_i - \\beta x_i - \\alpha)^2}{2 \\sigma^2}}$$\n",
        "$$log(L(E|\\theta)) = log(\\prod_i \\frac{1}{\\sqrt{\\sigma^2 2 \\pi}} e^{-\\frac{(y_i - \\beta x_i - \\alpha)^2}{2 \\sigma^2}})$$\n",
        "$$l(\\epsilon_i|\\theta) = \\sum_i log(\\frac{1}{\\sqrt{\\sigma^2 2 \\pi}} e^{-\\frac{(y_i - \\beta x_i - \\alpha)^2}{2 \\sigma^2}})$$\n",
        "uma vez que $log(A*B) = log(A) + log(B)$.\n",
        "$$l(\\epsilon_i|\\theta) = \\sum_i log(\\frac{1}{\\sqrt{\\sigma^2 2 \\pi}}) + \\sum_i log(e^{-\\frac{(y_i - \\beta x_i - \\alpha)^2}{2 \\sigma^2}})$$\n",
        "$$l(\\epsilon_i|\\theta) = n log(\\frac{1}{\\sqrt{\\sigma^2 2 \\pi}}) + \\sum_i log(e^{-\\frac{(y_i - \\beta x_i - \\alpha)^2}{2 \\sigma^2}})$$\n",
        "$$l(\\epsilon_i|\\theta) = n log(\\frac{1}{\\sqrt{\\sigma^2 2 \\pi}}) - \\frac{\\sum_i (y_i - \\beta x_i - \\alpha)^2}{2 \\sigma^2}$$\n",
        "uma vez que $log(A^x) = x log(A)$ e $log(e) = 1$.\n",
        "$$l(\\epsilon_i|\\theta) = - n log(\\sqrt{\\sigma^2 2 \\pi}) - \\frac{\\sum_i (y_i - \\beta x_i - \\alpha)^2}{2 \\sigma^2}$$\n",
        "uma vez que $log(\\frac{1}{x}) = - log(x)$.\n",
        "$$l(\\epsilon_i|\\theta) = - n log(\\sqrt{2 \\pi}) - n log(\\sqrt{\\sigma}) - \\frac{\\sum_i (y_i - \\beta x_i - \\alpha)^2}{2 \\sigma^2}$$"
      ]
    },
    {
      "cell_type": "markdown",
      "metadata": {
        "jukit_cell_id": "GF3BgmIP3I"
      },
      "source": [
        "Maximizar a log verossimilhan\u00e7a implica em achar os par\u00e2metros que melhor se ajustam aos dados. Al\u00e9m disso, lembre-se que maximizar \u00e9 achar o local onde a derivada \u00e9 zero.\n",
        "\n",
        "Para isso, devemos resolver as derivadas em rela\u00e7\u00e3o a cada um dos par\u00e2metros: $\\sigma$, $\\alpha$ e $\\beta$. \n",
        "\n",
        "$$\\alpha = \\bar{y} - \\beta \\bar{x}$$\n",
        "$$\\beta = \\frac{ \\sum_{i=1}^n (x_i - \\bar{x})(y_i - \\bar{y}) }{ \\sum_{i=1}^n (x_i - \\bar{x})^2 }$$\n",
        "$$\\sigma^2 = \\frac{\\sum_i (y_i - \\beta x_i - \\alpha)^2}{n}$$\n",
        "\n",
        "Observe que ao maximizar $\\sigma$, chegamos no estimador da vari\u00e2ncia. Al\u00e9m disso, o $\\sigma$ n\u00e3o impacta os valores de $\\alpha$ e $\\beta$, mas \u00e9 \u00fatil para entendermos os erros do estimador (\u00e9 a vari\u00e2ncia dos erros afinal).\n",
        "\n",
        "Por fim, note que maximizar a verossimilhan\u00e7a da regress\u00e3o \u00e9 o mesmo que minimizar os erros quadrados."
      ]
    },
    {
      "cell_type": "markdown",
      "metadata": {
        "jukit_cell_id": "blI757mEMg"
      },
      "source": [
        "## Estima\u00e7\u00e3o da M\u00e1xima Verossimilhan\u00e7a e M\u00ednimos Quadrados"
      ]
    },
    {
      "cell_type": "markdown",
      "metadata": {
        "jukit_cell_id": "7tATz70Y8r"
      },
      "source": [
        "Por que escolher os m\u00ednimos quadrados? Uma justificativa envolve a estimativa de m\u00e1xima verossimilhan\u00e7a.\n",
        "\n",
        "Imagine que temos uma amostra de dados $v_1, \\cdots, v_n$ que vem de uma distribui\u00e7\u00e3o que depende de algum par\u00e2metro desconhecido $\\theta$:\n",
        "\n",
        "$$p(v_1, \\cdots, v_n~|~\\theta)$$\n",
        "\n",
        "Se n\u00e3o conhec\u00eassemos theta, poder\u00edamos nos virar e pensar nessa quantidade como a probabilidade de $\\theta$ dada a amostra:\n",
        "\n",
        "$$L(\\theta~|~v_1, \\cdots, v_n)$$\n",
        "\n",
        "Sob essa abordagem, o mais prov\u00e1vel $\\theta$ \u00e9 o valor que maximiza essa fun\u00e7\u00e3o de verossimilhan\u00e7a; isto \u00e9, o valor que torna os dados observados os mais prov\u00e1veis. No caso de uma distribui\u00e7\u00e3o cont\u00ednua, na qual temos uma fun\u00e7\u00e3o de distribui\u00e7\u00e3o de probabilidade e n\u00e3o uma fun\u00e7\u00e3o de massa de probabilidade, podemos fazer a mesma coisa.\n",
        "\n",
        "De volta \u00e0 regress\u00e3o. Uma suposi\u00e7\u00e3o que muitas vezes \u00e9 feita sobre o modelo de regress\u00e3o simples \u00e9 que os erros de regress\u00e3o s\u00e3o normalmente distribu\u00eddos com m\u00e9dia $0$ e algum desvio padr\u00e3o (conhecido) $\\sigma$. Se esse for o caso, a probabilidade baseada em ver um par $(x_i, y_i)$ \u00e9:\n",
        "\n",
        "$$L(\\alpha, \\beta~|~x_i, y_i, \\sigma) = \\frac{1}{\\sqrt{2\\pi\\sigma}}\\exp{\\big(\\frac{-(y_i-\\alpha-\\beta x_i)^2}{2\\sigma^2}\\big)}$$\n",
        "\n",
        "A probabilidade baseada em todo o conjunto de dados \u00e9 o produto das probabilidades individuais, que \u00e9 maior precisamente quando alfa e beta s\u00e3o escolhidos para minimizar a soma dos erros quadrados. Ou seja, nesse caso (e com essas suposi\u00e7\u00f5es), minimizar a soma dos erros quadrados \u00e9 equivalente a maximizar a probabilidade dos dados observados."
      ]
    },
    {
      "cell_type": "markdown",
      "metadata": {
        "jukit_cell_id": "UM7rwvpFgs"
      },
      "source": [
        "## Qualidade da regress\u00e3o"
      ]
    },
    {
      "cell_type": "markdown",
      "metadata": {
        "jukit_cell_id": "OFypOaTyoR"
      },
      "source": [
        "Ap\u00f3s encontrar os par\u00e2metros do modelo que melhor se ajustam aos dados (minimizam os erros quadrados, maximizam a verossimilhan\u00e7a), devemos avaliar a qualidade do ajuste. A qualidade da regress\u00e3o pode ser analisada atrav\u00e9s de gr\u00e1ficos ou m\u00e9tricas, como o R-quadrado, estudado anteriormente."
      ]
    },
    {
      "cell_type": "markdown",
      "metadata": {
        "jukit_cell_id": "4K9Ao74Zhp"
      },
      "source": [
        "## Gr\u00e1fico residual"
      ]
    },
    {
      "cell_type": "markdown",
      "metadata": {
        "jukit_cell_id": "fQvpxh5ily"
      },
      "source": [
        "O gr\u00e1fico residual \u00e9 uma forma de visualizar os erros versus a vari\u00e1vel preditora para verificar a pressuposi\u00e7\u00e3o de que os erros s\u00e3o aleatoriamente distribu\u00eddos e t\u00eam vari\u00e2ncia constante. De maneira ideal, os pontos devem cair aleatoriamente em ambos os lados de 0, sem padr\u00f5es reconhec\u00edveis nos pontos. Como os erros s\u00e3o centrados em zero, ao plotar valor de x pelo erro queremos pontos igualmente dispersados  positivos e negativos.\n",
        "Lembre-se da PDF da distribui\u00e7\u00e3o normal. A mediana e a m\u00e9dia s\u00e3o iguais, ou seja, 50% dos erros se concentram acima de 0 e 50% abaixo.\n",
        "\n",
        "Observe o gr\u00e1fico residual para o exemplo de prever o pre\u00e7o de um apartamento usando apenas a \u00e1rea do mesmo. No eixo-x temos a \u00e1rea do aparatamento e no eixo-y o erro. O gr\u00e1fico n\u00e3o parece ter um padr\u00e3o (\u00e9 o que queremos) j\u00e1 que os erros est\u00e3o espalhados em ambos os lados da linha tracejada que marca o erro igual a 0. Entretanto, os erros aparentam ser piores quando a \u00e1rea dos apartamentos (vari\u00e1vel x) aumenta."
      ]
    },
    {
      "cell_type": "code",
      "metadata": {
        "jukit_cell_id": "cT6vA85Jdt"
      },
      "source": [
        "sns.residplot(\n",
        "    x=\"area\",\n",
        "    y=\"preco\",\n",
        "    data=df,\n",
        "    line_kws={\"color\": \"magenta\", \"lw\": 4},\n",
        "    scatter_kws={\"edgecolor\": \"k\", \"s\": 80, \"alpha\": 0.8},\n",
        ")\n",
        "plt.ylabel(r\"$\\epsilon_i$\")\n",
        "plt.xlabel(r\"\u00c1rea ($M^2$)\")\n",
        "despine()"
      ],
      "outputs": [],
      "execution_count": null
    },
    {
      "cell_type": "markdown",
      "metadata": {
        "jukit_cell_id": "kmSyEbVugh"
      },
      "source": [
        "## QQ Plot"
      ]
    },
    {
      "cell_type": "markdown",
      "metadata": {
        "jukit_cell_id": "zeIzNnZ7SH"
      },
      "source": [
        "Por fim, outra forma de verificar se o modelo \u00e9 bom se chama QQ Plot.\n",
        "Esse gr\u00e1fico \u00e9 \u00fatil para checar a adequa\u00e7\u00e3o da distribui\u00e7\u00e3o de frequ\u00eancia dos dados \u00e0 uma distribui\u00e7\u00e3o de probabilidades. No caso dos modelos de regress\u00e3o, o QQ Plot \u00e9 usado para verificar se os erros apresentam distribui\u00e7\u00e3o normal.\n",
        "\n",
        "Uma forma de construir o QQ Plot consiste em ordenar os erros (eixo-y), comparando com o local esperado do mesmo no modelo (distribui\u00e7\u00e3o normal). Nesse caso, a mediana fica no centro do plot. O erro mediano \u00e9 zero caso a normal seja verdadeira!\n",
        "\n",
        "Outra forma de construir o QQ Plot consiste em pegar o valor z-norm que leva para a probabilidade de cada um dos erros ordenados no modelo e plotar os erros ordenados no eixo-y e os valores z-normalizados no eixo-x. O gr\u00e1fico abaixo apresenta o QQ Plot do exemplo de prever o pre\u00e7o de um apartamento usando apenas a \u00e1rea do mesmo.\n",
        "\n",
        "Idealmente quanto mais pr\u00f3ximo de uma reta melhor, uma vez que a reta quer dizer que os erros s\u00e3o perfeitamente normais. Sendo assim, na regress\u00e3o perfeita observamos uma linha reta no QQ plot."
      ]
    },
    {
      "cell_type": "code",
      "metadata": {
        "jukit_cell_id": "mrTSw2930r"
      },
      "source": [
        "ss.probplot(y - y_bar, plot=plt.gca())"
      ],
      "outputs": [],
      "execution_count": null
    },
    {
      "cell_type": "markdown",
      "metadata": {
        "jukit_cell_id": "voVRLAVGO0"
      },
      "source": [
        "## Exerc\u00edcios - Outros datasets"
      ]
    },
    {
      "cell_type": "markdown",
      "metadata": {
        "jukit_cell_id": "GyMLXWHQ8k"
      },
      "source": [
        "### Enunciado"
      ]
    },
    {
      "cell_type": "markdown",
      "metadata": {
        "jukit_cell_id": "TyEuHOrKeG"
      },
      "source": [
        "Abaixo est\u00e3o listados algumas conjuntos de dados contendo rela\u00e7\u00f5es entre vari\u00e1veis:\n",
        "\n",
        "**Supernovas**: Atualmente, uma das teorias mais aceitas sobre a forma\u00e7\u00e3o do universo, diz que o universo est\u00e1 em constante expans\u00e3o. Supernovas s\u00e3o estrelas que explodiram e morreram recentemente. Os dados cont\u00eam registros dessas supernovas. Cada linha na tabela corresponde a uma supernova pr\u00f3xima da Terra observada por astr\u00f4nomos, indicando o qu\u00e3o longe da Terra a supernova estava e o qu\u00e3o r\u00e1pido ela se afastava.\n",
        "\n",
        "**Stocks and Unemployment**: A Bolsa est\u00e1 diretamente ligada \u00e0 economia do pa\u00eds e do mundo. Quando ela desaba, isso pode ter consequ\u00eancias negativas at\u00e9 no dia a dia de quem nem sabe como a Bolsa funciona. Por exemplo, o desemprego pode aumentar e a infla\u00e7\u00e3o, acelerar, tornando os produtos no supermercado mais caros. Com base nisso, os dados apresentam a evolu\u00e7\u00e3o no pre\u00e7o de uma a\u00e7\u00e3o e a taxa de desemprego em determinado per\u00edodo.\n",
        "\n",
        "**Stocks and Interest**: Al\u00e9m de relacionar o valor de a\u00e7\u00f5es na Bolsa com o \u00edndice de desemprego, \u00e9 poss\u00edvel correlacionar o valor das a\u00e7\u00f5es e outros indicadores. Os dados apresentam a evolu\u00e7\u00e3o no pre\u00e7o de uma a\u00e7\u00e3o e a taxa de juros em determinado per\u00edodo.\n",
        "\n",
        "\n",
        "**Dugongs**: Os dados incluem informa\u00e7\u00f5es de peixe-bois. Cada linha cont\u00e9m o comprimento e a idade de indiv\u00edduos. A base de dados \u00e9 muito utilizada para fazer predi\u00e7\u00f5es do comprimento desses animais de acordo com a idade."
      ]
    },
    {
      "cell_type": "markdown",
      "metadata": {
        "jukit_cell_id": "cnPNYxZl3y"
      },
      "source": [
        "- **Exerc\u00edcio:** Para cada um dos datasets voc\u00ea dever\u00e1:\n",
        "\n",
        "    1. Carregar os dados do arquivo.  \n",
        "    2. Fazer uma regress\u00e3o linear.  \n",
        "    3. Avaliar a qualidade do modelo atrav\u00e9s do c\u00e1lculo do $R^2$ e dos gr\u00e1ficos de erros: Gr\u00e1fico residual e QQ Plot.  \n",
        "    4. Verificar se os erros s\u00e3o independentes. Para isso, conte quantos erros s\u00e3o maiores e quantos s\u00e3o menores do que zero. \n",
        "\n",
        "Antes de realizar o exerc\u00edcio, \u00e9 \u00fatil voc\u00ea definir as seguintes fun\u00e7\u00f5es com base nos par\u00e2metros citados em cada uma:\n",
        "\n",
        "Note que ap\u00f3s definir as fun\u00e7\u00f5es pedidas corretamente at\u00e9 o fim do primeiro dataset, os demais ir\u00e3o executar sem erros, n\u00e3o precisando ser alterados."
      ]
    },
    {
      "cell_type": "code",
      "metadata": {
        "jukit_cell_id": "DIiBBkKzIO"
      },
      "source": [
        "def error(alpha, beta, x, y):\n",
        "    return\n",
        "\n",
        "\n",
        "def sum_of_squared_errors(alpha, beta, x, y):\n",
        "    return\n",
        "\n",
        "\n",
        "def total_sum_of_squares(y):\n",
        "    return\n",
        "\n",
        "\n",
        "def r_squared(alpha, beta, x, y):\n",
        "    return"
      ],
      "outputs": [],
      "execution_count": null
    },
    {
      "cell_type": "markdown",
      "metadata": {
        "jukit_cell_id": "tJpvvFWEgi"
      },
      "source": [
        "### 1. Supernovas"
      ]
    },
    {
      "cell_type": "markdown",
      "metadata": {
        "jukit_cell_id": "1wlaMN7y1k"
      },
      "source": [
        "#### 1.1 Carregar os dados"
      ]
    },
    {
      "cell_type": "code",
      "metadata": {
        "jukit_cell_id": "M9GdAbesUA"
      },
      "source": [
        "df = pd.read_csv(\n",
        "    \"https://raw.githubusercontent.com/pedroharaujo/ICD_Docencia/master/close_novas.csv\"\n",
        ")\n",
        "x = df[\"Distance (million parsecs)\"]\n",
        "y = df[\"Speed (parsecs/year)\"]"
      ],
      "outputs": [],
      "execution_count": null
    },
    {
      "cell_type": "markdown",
      "metadata": {
        "jukit_cell_id": "6V7zo9H9Vs"
      },
      "source": [
        "#### 1.2 Regress\u00e3o Linea"
      ]
    },
    {
      "cell_type": "code",
      "metadata": {
        "jukit_cell_id": "SvumvWubo0"
      },
      "source": [
        "def linear_regression():\n",
        "    # YOUR CODE HERE\n",
        "    # deve retornar uma tupla contendo os paramentros\n",
        "    # (alpha, beta)\n",
        "    return"
      ],
      "outputs": [],
      "execution_count": null
    },
    {
      "cell_type": "code",
      "metadata": {
        "jukit_cell_id": "LoWn2vxsxV"
      },
      "source": [
        "(a1, b1) = linear_regression(x, y)\n",
        "assert_equal(round(a1, 6), 0.000167)\n",
        "assert_equal(round(b1, 6), 0.000068)"
      ],
      "outputs": [],
      "execution_count": null
    },
    {
      "cell_type": "markdown",
      "metadata": {
        "jukit_cell_id": "TPoNjg9LFj"
      },
      "source": [
        "#### 1.3 Avalia\u00e7\u00e3o do Modelo via R\u00b2"
      ]
    },
    {
      "cell_type": "code",
      "metadata": {
        "jukit_cell_id": "THhL6eeR1s"
      },
      "source": [
        "# avaliacao do Rsquared\n",
        "r2 = r_squared(a1, b1, x, y)\n",
        "assert_equal(round(r2, 4), 0.9645)"
      ],
      "outputs": [],
      "execution_count": null
    },
    {
      "cell_type": "code",
      "metadata": {
        "jukit_cell_id": "mo8bsciFb2"
      },
      "source": [
        "# avaliacao via grafico dos residuos (sem correcao automatica)\n",
        "\n",
        "# seu codigo aqui\n",
        "# gabarito a seguir"
      ],
      "outputs": [],
      "execution_count": null
    },
    {
      "cell_type": "code",
      "metadata": {
        "jukit_cell_id": "6UvnMnfpOi"
      },
      "source": [
        "# GABARITO GRAFICO\n",
        "# sns.residplot(x='Distance (million parsecs)', y='Speed (parsecs/year)', data=df,\n",
        "#               line_kws={'color':'magenta', 'lw':4},\n",
        "#               scatter_kws={'edgecolor':'k', 's':80, 'alpha':0.8})\n",
        "# plt.ylabel(r'$\\epsilon_i$')\n",
        "# despine()\n",
        "# plt.show()"
      ],
      "outputs": [],
      "execution_count": null
    },
    {
      "cell_type": "markdown",
      "metadata": {
        "jukit_cell_id": "F4XVOaEaln"
      },
      "source": [
        "#### 1.4 Verificando se os erros s\u00e3o independentes"
      ]
    },
    {
      "cell_type": "code",
      "metadata": {
        "jukit_cell_id": "qeumsDbaFQ"
      },
      "source": [
        "def error_verification(alpha, beta, x, y):\n",
        "    # YOUR CODE HERE\n",
        "    # deve retornar uma tupla com as contagens de erros maiores e menores que 0\n",
        "    # (maiores, menores)\n",
        "    return"
      ],
      "outputs": [],
      "execution_count": null
    },
    {
      "cell_type": "code",
      "metadata": {
        "jukit_cell_id": "XHC2EB19Tr"
      },
      "source": [
        "(maiores, menores) = error_verification(a1, b1, x, y)\n",
        "assert_equal(maiores, 78)\n",
        "assert_equal(menores, 78)"
      ],
      "outputs": [],
      "execution_count": null
    },
    {
      "cell_type": "code",
      "metadata": {
        "jukit_cell_id": "GqLSpKZ8He"
      },
      "source": [
        "# avaliacao via grafico dos residuos (sem correcao automatica)\n",
        "\n",
        "# seu codigo aqui\n",
        "# gabarito a seguir"
      ],
      "outputs": [],
      "execution_count": null
    },
    {
      "cell_type": "code",
      "metadata": {
        "jukit_cell_id": "77BFPmjMjQ"
      },
      "source": [
        "# ss.probplot(y - y.mean(), plot=plt)\n",
        "# despine()\n",
        "# plt.show()"
      ],
      "outputs": [],
      "execution_count": null
    },
    {
      "cell_type": "markdown",
      "metadata": {
        "jukit_cell_id": "JbL62eUy5N"
      },
      "source": [
        "### 2. Stocks anad Unemployment"
      ]
    },
    {
      "cell_type": "markdown",
      "metadata": {
        "jukit_cell_id": "m2Mn72QkNj"
      },
      "source": [
        "#### 2.1 Carregar os dados"
      ]
    },
    {
      "cell_type": "code",
      "metadata": {
        "jukit_cell_id": "ka3Q5u5Kda"
      },
      "source": [
        "df = pd.read_csv(\n",
        "    \"https://raw.githubusercontent.com/pedroharaujo/ICD_Docencia/master/stocks_unemployment.csv\"\n",
        ")\n",
        "x = df[\"Unemployment_Rate\"]\n",
        "y = df[\"Stock_Index_Price\"]"
      ],
      "outputs": [],
      "execution_count": null
    },
    {
      "cell_type": "markdown",
      "metadata": {
        "jukit_cell_id": "3Uls4Yab8s"
      },
      "source": [
        "#### 2.2 Regress\u00e3o Linea"
      ]
    },
    {
      "cell_type": "code",
      "metadata": {
        "jukit_cell_id": "nf6KhPWIaF"
      },
      "source": [
        "(a2, b2) = linear_regression(x, y)\n",
        "assert_equal(round(a2, 6), 4471.339321)\n",
        "assert_equal(round(b2, 6), -588.962076)"
      ],
      "outputs": [],
      "execution_count": null
    },
    {
      "cell_type": "markdown",
      "metadata": {
        "jukit_cell_id": "2Xo4XMfaAK"
      },
      "source": [
        "#### 2.3 Avalia\u00e7\u00e3o do Modelo via R\u00b2"
      ]
    },
    {
      "cell_type": "code",
      "metadata": {
        "jukit_cell_id": "KhafPGkD0p"
      },
      "source": [
        "# avaliacao do Rsquared\n",
        "r2 = r_squared(a2, b2, x, y)\n",
        "assert_equal(round(r2, 4), 0.8507)"
      ],
      "outputs": [],
      "execution_count": null
    },
    {
      "cell_type": "code",
      "metadata": {
        "jukit_cell_id": "nY4XztxlCV"
      },
      "source": [
        "# avaliacao via grafico dos residuos (sem correcao automatica)\n",
        "\n",
        "# seu codigo aqui\n",
        "# gabarito a seguir"
      ],
      "outputs": [],
      "execution_count": null
    },
    {
      "cell_type": "code",
      "metadata": {
        "jukit_cell_id": "Y24IpRJCFf"
      },
      "source": [
        "# GABARITO GRAFICO\n",
        "# sns.residplot(x='Unemployment_Rate', y='Stock_Index_Price', data=df,\n",
        "#               line_kws={'color':'magenta', 'lw':4},\n",
        "#               scatter_kws={'edgecolor':'k', 's':80, 'alpha':0.8})\n",
        "# plt.ylabel(r'$\\epsilon_i$')\n",
        "# despine()\n",
        "# plt.show()"
      ],
      "outputs": [],
      "execution_count": null
    },
    {
      "cell_type": "markdown",
      "metadata": {
        "jukit_cell_id": "Czm9vJw4Uc"
      },
      "source": [
        "#### 2.4 Verificando se os erros s\u00e3o independentes"
      ]
    },
    {
      "cell_type": "code",
      "metadata": {
        "jukit_cell_id": "EC8YHsp0B4"
      },
      "source": [
        "(maiores, menores) = error_verification(a2, b2, x, y)\n",
        "assert_equal(maiores, 13)\n",
        "assert_equal(menores, 11)"
      ],
      "outputs": [],
      "execution_count": null
    },
    {
      "cell_type": "code",
      "metadata": {
        "jukit_cell_id": "hCt1Rjs1Sh"
      },
      "source": [
        "# avaliacao via grafico dos residuos (sem correcao automatica)\n",
        "\n",
        "# seu codigo aqui\n",
        "# gabarito a seguir"
      ],
      "outputs": [],
      "execution_count": null
    },
    {
      "cell_type": "code",
      "metadata": {
        "jukit_cell_id": "cplx47Ex6l"
      },
      "source": [
        "# ss.probplot(y - y.mean(), plot=plt)\n",
        "# despine()\n",
        "# plt.show()"
      ],
      "outputs": [],
      "execution_count": null
    },
    {
      "cell_type": "markdown",
      "metadata": {
        "jukit_cell_id": "f43Aqpuufu"
      },
      "source": [
        "### 3. Stocks and Interest"
      ]
    },
    {
      "cell_type": "markdown",
      "metadata": {
        "jukit_cell_id": "RJ81x4XjFD"
      },
      "source": [
        "#### 3.1 Carregar os dados"
      ]
    },
    {
      "cell_type": "code",
      "metadata": {
        "jukit_cell_id": "VZAxFuSj1B"
      },
      "source": [
        "df = pd.read_csv(\n",
        "    \"https://raw.githubusercontent.com/pedroharaujo/ICD_Docencia/master/stocks_interest.csv\"\n",
        ")\n",
        "x = df[\"Interest_Rate\"]\n",
        "y = df[\"Stock_Index_Price\"]"
      ],
      "outputs": [],
      "execution_count": null
    },
    {
      "cell_type": "markdown",
      "metadata": {
        "jukit_cell_id": "jwPLvelCFV"
      },
      "source": [
        "#### 3.2 Regress\u00e3o Linea"
      ]
    },
    {
      "cell_type": "code",
      "metadata": {
        "jukit_cell_id": "YbBipHZm3d"
      },
      "source": [
        "(a3, b3) = linear_regression(x, y)\n",
        "assert_equal(round(a3, 6), -99.464319)\n",
        "assert_equal(round(b3, 6), 564.203892)"
      ],
      "outputs": [],
      "execution_count": null
    },
    {
      "cell_type": "markdown",
      "metadata": {
        "jukit_cell_id": "a06FO6WNXd"
      },
      "source": [
        "#### 3.3 Avalia\u00e7\u00e3o do Modelo via R\u00b2"
      ]
    },
    {
      "cell_type": "code",
      "metadata": {
        "jukit_cell_id": "elqeEjlO1i"
      },
      "source": [
        "# avaliacao do Rsquared\n",
        "r2 = r_squared(a3, b3, x, y)\n",
        "assert_equal(round(r2, 4), 0.8757)"
      ],
      "outputs": [],
      "execution_count": null
    },
    {
      "cell_type": "code",
      "metadata": {
        "jukit_cell_id": "gubRb2pXI7"
      },
      "source": [
        "# avaliacao via grafico dos residuos (sem correcao automatica)\n",
        "\n",
        "# seu codigo aqui\n",
        "# gabarito a seguir"
      ],
      "outputs": [],
      "execution_count": null
    },
    {
      "cell_type": "code",
      "metadata": {
        "jukit_cell_id": "2TQRkDRfkD"
      },
      "source": [
        "# GABARITO GRAFICO\n",
        "# sns.residplot(x='Interest_Rate', y='Stock_Index_Price', data=df,\n",
        "#               line_kws={'color':'magenta', 'lw':4},\n",
        "#               scatter_kws={'edgecolor':'k', 's':80, 'alpha':0.8})\n",
        "# plt.ylabel(r'$\\epsilon_i$')\n",
        "# despine()\n",
        "# plt.show()"
      ],
      "outputs": [],
      "execution_count": null
    },
    {
      "cell_type": "markdown",
      "metadata": {
        "jukit_cell_id": "Vd55lqa9tJ"
      },
      "source": [
        "#### 3.4 Verificando se os erros s\u00e3o independentes"
      ]
    },
    {
      "cell_type": "code",
      "metadata": {
        "jukit_cell_id": "MA1nWWZ0eY"
      },
      "source": [
        "(maiores, menores) = error_verification(a3, b3, x, y)\n",
        "assert_equal(maiores, 12)\n",
        "assert_equal(menores, 12)"
      ],
      "outputs": [],
      "execution_count": null
    },
    {
      "cell_type": "code",
      "metadata": {
        "jukit_cell_id": "JukhOmdVok"
      },
      "source": [
        "# avaliacao via grafico dos residuos (sem correcao automatica)\n",
        "\n",
        "# seu codigo aqui\n",
        "# gabarito a seguir"
      ],
      "outputs": [],
      "execution_count": null
    },
    {
      "cell_type": "code",
      "metadata": {
        "jukit_cell_id": "OO1p8NyHfv"
      },
      "source": [
        "# ss.probplot(y - y.mean(), plot=plt)\n",
        "# despine()\n",
        "# plt.show()"
      ],
      "outputs": [],
      "execution_count": null
    },
    {
      "cell_type": "markdown",
      "metadata": {
        "jukit_cell_id": "wiXv7fbCJ5"
      },
      "source": [
        "### 4. Dugongs"
      ]
    },
    {
      "cell_type": "markdown",
      "metadata": {
        "jukit_cell_id": "980gXaroz6"
      },
      "source": [
        "#### 4.1 Carregar os dados"
      ]
    },
    {
      "cell_type": "code",
      "metadata": {
        "jukit_cell_id": "6iZMCLya31"
      },
      "source": [
        "df = pd.read_csv(\n",
        "    \"https://raw.githubusercontent.com/pedroharaujo/ICD_Docencia/master/dugongs.csv\"\n",
        ")\n",
        "x = df[\"Age\"]\n",
        "y = df[\"Length\"]"
      ],
      "outputs": [],
      "execution_count": null
    },
    {
      "cell_type": "markdown",
      "metadata": {
        "jukit_cell_id": "Jzo4YREHKN"
      },
      "source": [
        "#### 4.2 Regress\u00e3o Linea"
      ]
    },
    {
      "cell_type": "code",
      "metadata": {
        "jukit_cell_id": "M5CY8TrLTR"
      },
      "source": [
        "(a4, b4) = linear_regression(x, y)\n",
        "assert_equal(round(a4, 6), 2.018286)\n",
        "assert_equal(round(b4, 6), 0.028955)"
      ],
      "outputs": [],
      "execution_count": null
    },
    {
      "cell_type": "markdown",
      "metadata": {
        "jukit_cell_id": "LtQOEj5TyH"
      },
      "source": [
        "#### 4.3 Avalia\u00e7\u00e3o do Modelo via R\u00b2"
      ]
    },
    {
      "cell_type": "code",
      "metadata": {
        "jukit_cell_id": "dC9NWfxTZi"
      },
      "source": [
        "# avaliacao do Rsquared\n",
        "r2 = r_squared(a4, b4, x, y)\n",
        "assert_equal(round(r2, 4), 0.6883)"
      ],
      "outputs": [],
      "execution_count": null
    },
    {
      "cell_type": "code",
      "metadata": {
        "jukit_cell_id": "maAAxkQ6xP"
      },
      "source": [
        "# avaliacao via grafico dos residuos (sem correcao automatica)\n",
        "\n",
        "# seu codigo aqui\n",
        "# gabarito a seguir"
      ],
      "outputs": [],
      "execution_count": null
    },
    {
      "cell_type": "code",
      "metadata": {
        "jukit_cell_id": "LKtkF2a3HZ"
      },
      "source": [
        "# GABARITO GRAFICO\n",
        "# sns.residplot(x='Age', y='Length', data=df,\n",
        "#               line_kws={'color':'magenta', 'lw':4},\n",
        "#               scatter_kws={'edgecolor':'k', 's':80, 'alpha':0.8})\n",
        "# plt.ylabel(r'$\\epsilon_i$')\n",
        "# despine()\n",
        "# plt.show()"
      ],
      "outputs": [],
      "execution_count": null
    },
    {
      "cell_type": "markdown",
      "metadata": {
        "jukit_cell_id": "yLKsboNWNk"
      },
      "source": [
        "#### 4.4 Verificando se os erros s\u00e3o independentes"
      ]
    },
    {
      "cell_type": "code",
      "metadata": {
        "jukit_cell_id": "QaTk1mUrEG"
      },
      "source": [
        "(maiores, menores) = error_verification(a4, b4, x, y)\n",
        "assert_equal(maiores, 16)\n",
        "assert_equal(menores, 11)"
      ],
      "outputs": [],
      "execution_count": null
    },
    {
      "cell_type": "code",
      "metadata": {
        "jukit_cell_id": "vl9QLJ3CqH"
      },
      "source": [
        "# avaliacao via grafico dos residuos (sem correcao automatica)\n",
        "\n",
        "# seu codigo aqui\n",
        "# gabarito a seguir"
      ],
      "outputs": [],
      "execution_count": null
    },
    {
      "cell_type": "code",
      "metadata": {
        "jukit_cell_id": "hYTDRBk526"
      },
      "source": [
        "# ss.probplot(y - y.mean(), plot=plt)\n",
        "# despine()\n",
        "# plt.show()"
      ],
      "outputs": [],
      "execution_count": null
    },
    {
      "cell_type": "markdown",
      "metadata": {
        "jukit_cell_id": "TMhNJhyJvN"
      },
      "source": [
        "## Estimador de M\u00e1xima Verossimilhan\u00e7a"
      ]
    },
    {
      "cell_type": "markdown",
      "metadata": {
        "jukit_cell_id": "RSKDwJd51f"
      },
      "source": [
        "Conforme vimos, a verossimilhan\u00e7a representa a probabilidade dos nossos dados $X$ (ou erros $E$) condicionados em um modelo. O modelo aqui s\u00e3o os par\u00e2metros $\\theta$ e a fun\u00e7\u00e3o de probabilidade $p$.\n",
        "\n",
        "$$X = \\{x_1, x_2, ..., x_n\\}$$\n",
        "\n",
        "$$p(X|\\theta) = \\prod_i p(x_i|\\theta)$$\n",
        "\n",
        "No modelo que estudamos:\n",
        "\n",
        "$\\epsilon_i \\sim Normal(0, \\sigma^2)$  \n",
        "\n",
        "$p(\\epsilon_i|\\sigma^2, \\alpha, \\beta) = \\frac{1}{\\sqrt{\\sigma^2 2 \\pi}} e^{-\\frac{(y_i - \\beta x_i - \\alpha)^2}{2 \\sigma^2}}$  \n",
        "\n",
        "$E = \\{e_1, e_2, ..., e_n\\}$ e $\\theta = \\{\\sigma^2, \\alpha, \\beta\\}$  \n",
        "\n",
        "$p(E|\\theta) = \\prod_i p(\\epsilon_i|\\theta)$\n",
        "\n",
        "Entretanto, podemos estimar os par\u00e2metros de qualquer modelo probabil\u00edstico."
      ]
    },
    {
      "cell_type": "markdown",
      "metadata": {
        "jukit_cell_id": "7du6D44t5c"
      },
      "source": [
        "Imagine o seguinte caso, em que observamos vari\u00e1veis categ\u00f3ricas $X$. $X$ corresponde ao efeito do rem\u00e9dio em um grupo de pessoas, onde cada $x_i$ assume valo igual a 1, caso o rem\u00e9dio tenha funcionado e 0 caso contr\u00e1rio. Por exemplo: $X = \\{1, 0, 1, 1, 0, 1, 1, 1, 0, 0, 1, 0\\}$\n",
        "\n",
        "Podemos modelar estes dados a partir de uma distribui\u00e7\u00e3o [Bernoulli](https://en.wikipedia.org/wiki/Bernoulli_distribution). Ou seja,  $x_i \\sim Bernoulli(\\theta)$ onde $\\theta$ representa a probabilidade do rem\u00e9dio funcionar para o paciente (probabilidade de sucesso).\n",
        "\n",
        "* Derive o estimador de m\u00e1xima verossimilhan\u00e7a para a distribui\u00e7\u00e3o Bernoulli."
      ]
    },
    {
      "cell_type": "markdown",
      "metadata": {
        "jukit_cell_id": "MnKIPhG4wP"
      },
      "source": [
        "$$x_i \\sim Bernoulli(\\theta)$$\n",
        "\n",
        "$$p(x_i|\\theta) = \\theta^{x_i} (1-\\theta)^{(1 - x_i)}$$\n",
        "\n",
        "Estimador de m\u00e1xima verossimilhan\u00e7a:\n",
        "\n",
        "$$L(X|\\theta) = \\prod_i p(x_i|\\theta) = \\prod_i \\theta^{x_i} (1-\\theta)^{(1 - x_i)} = \\theta^{\\sum_i x_i} (1-\\theta)^{\\sum_i (1 - x_i)}$$\n",
        "lembrando que $a^x b^y * a^z b^w = a^{x+z} b^{y+w}$\n",
        "\n",
        "\n",
        "Estimador de m\u00e1xima log-verossimilhan\u00e7a:\n",
        "\n",
        "$$l(X|\\theta) = log(\\prod_i p(x_i|\\theta)) = \\sum_i log(\\theta^{x_i} (1-\\theta)^{(1 - x_i)}) = \\sum_i x_i log(\\theta) + \\sum_i (1-x_i) log(1-\\theta)$$\n",
        "lembrando que $log(ab) = log(a) + log(b)$ e $log(a^x) = xlog(a)$"
      ]
    },
    {
      "cell_type": "markdown",
      "metadata": {
        "jukit_cell_id": "b7k4p8otHO"
      },
      "source": [
        "* Ap\u00f3s derivar o estimador de m\u00e1xima verossimilhan\u00e7a para a distribui\u00e7\u00e3o Bernoulli encontre o valor de $\\theta$ que maximiza a verossimilhan\u00e7a."
      ]
    },
    {
      "cell_type": "markdown",
      "metadata": {
        "jukit_cell_id": "Fg1BCIcox6"
      },
      "source": [
        "Assumimos que as observa\u00e7\u00f5es s\u00e3o independentes, maximizar a log da verossimilhan\u00e7a corresponde a derivar essa fun\u00e7\u00e3o, encontrando o seu ponto de m\u00e1ximo. Igualando a derivada da log-verossimilhan\u00e7a encontramos os par\u00e2metros \u00f3timos:\n",
        "\n",
        "$$\\frac{\\partial l(X|\\theta)}{\\theta} = \\frac{\\partial (\\sum_i x_i log(\\theta) + \\sum_i (1-x_i) log(1-\\theta))}{\\partial \\theta} = \\frac{\\sum_i x_i}{\\theta} - \\frac{\\sum_i (1-x_i)}{(1-\\theta)}$$\n",
        "Lembrando que $\\frac{\\partial log(a)}{\\partial a} = \\frac{1}{a}$ e $\\frac{\\partial log(1-a)}{\\partial a} = \\frac{1}{(1-a)}$\n",
        "\n",
        "Igualando a derivada a zero, encontramos o valor de $\\theta$ que maximiza a log-verossimilhan\u00e7a:\n",
        "\n",
        "$$\\frac{\\sum_i x_i}{\\theta} - \\frac{\\sum_i (1-x_i)}{(1-\\theta)} = 0$$\n",
        "$$(1-\\theta) \\sum_i x_i = \\theta \\sum_i (1-x_i)$$\n",
        "$$\\sum_i x_i - \\theta \\sum_i x_i = n\\theta - \\theta \\sum_i x_i$$\n",
        "$$\\sum_i x_i = n\\theta$$\n",
        "$$\\theta = \\frac{\\sum_i x_i}{n}$$"
      ]
    }
  ],
  "metadata": {
    "anaconda-cloud": {},
    "kernelspec": {
      "display_name": "python",
      "language": "python",
      "name": "python3"
    }
  },
  "nbformat": 4,
  "nbformat_minor": 4
}