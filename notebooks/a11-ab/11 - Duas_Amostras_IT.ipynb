{
 "cells": [
  {
   "cell_type": "code",
   "execution_count": 33,
   "metadata": {},
   "outputs": [],
   "source": [
    "from scipy import stats as ss\n",
    "\n",
    "import numpy as np\n",
    "import matplotlib.pyplot as plt\n",
    "import pandas as pd\n",
    "from tqdm import tqdm\n",
    "import seaborn as sns\n",
    "\n",
    "\n"
   ]
  },
  {
   "cell_type": "code",
   "execution_count": 34,
   "metadata": {},
   "outputs": [],
   "source": [
    "filepath = 'https://raw.githubusercontent.com/data-8/textbook/main/assets/data/baby.csv'\n",
    "\n",
    "births = pd.read_csv(filepath)"
   ]
  },
  {
   "cell_type": "markdown",
   "metadata": {},
   "source": [
    "A tabela de nascimentos contém as seguintes variáveis para os pares mãe-bebê:\n",
    "\n",
    "* o peso do bebê ao nascer em onças;\n",
    "* o número de dias gestacionais (o número de dias que a mãe esteve grávida);\n",
    "* a idade da mãe em anos completos;\n",
    "* a altura da mãe em polegadas;\n",
    "* o peso da mãe em quilos;\n",
    "* se a mãe fumou ou não durante a gravidez.\n",
    "\n",
    "\n"
   ]
  },
  {
   "cell_type": "code",
   "execution_count": null,
   "metadata": {},
   "outputs": [],
   "source": [
    "births.head()"
   ]
  },
  {
   "cell_type": "code",
   "execution_count": null,
   "metadata": {},
   "outputs": [],
   "source": [
    "smoking_and_birthweight = births[[\"Maternal Smoker\", \"Birth Weight\"]]"
   ]
  },
  {
   "cell_type": "code",
   "execution_count": null,
   "metadata": {},
   "outputs": [],
   "source": [
    "smoking_and_birthweight[\"Maternal Smoker\"].value_counts()"
   ]
  },
  {
   "cell_type": "code",
   "execution_count": null,
   "metadata": {},
   "outputs": [],
   "source": [
    "smoking_and_birthweight.groupby(\"Maternal Smoker\")[\"Birth Weight\"].hist(alpha=0.7,label=\"Maternal Smoker\")\n",
    "plt.legend()\n"
   ]
  },
  {
   "cell_type": "code",
   "execution_count": null,
   "metadata": {},
   "outputs": [],
   "source": [
    "means_table = smoking_and_birthweight.groupby(\"Maternal Smoker\").mean()\n",
    "means_table"
   ]
  },
  {
   "cell_type": "code",
   "execution_count": null,
   "metadata": {},
   "outputs": [],
   "source": [
    "mean_nonsmokers = means_table.loc[False][\"Birth Weight\"]\n",
    "mean_smokers = means_table.loc[True][\"Birth Weight\"]\n",
    "\n",
    "observed_difference = mean_smokers - mean_nonsmokers\n",
    "observed_difference"
   ]
  },
  {
   "cell_type": "code",
   "execution_count": null,
   "metadata": {},
   "outputs": [],
   "source": [
    "def difference_of_means(df, group_label):\n",
    "    \"\"\"Takes: data frame,\n",
    "    column label that indicates the group to which the row belongs\n",
    "    Returns: Difference of mean birth weights of the two groups\"\"\"\n",
    "    \n",
    "    reduced = df[[\"Birth Weight\", group_label]]\n",
    "    means_table = reduced.groupby(group_label).mean()\n",
    "    mean_false = means_table.loc[False][\"Birth Weight\"]\n",
    "    mean_true = means_table.loc[True][\"Birth Weight\"]    \n",
    "    return mean_true - mean_false"
   ]
  },
  {
   "cell_type": "code",
   "execution_count": null,
   "metadata": {},
   "outputs": [],
   "source": [
    "difference_of_means(births, 'Maternal Smoker')"
   ]
  },
  {
   "cell_type": "code",
   "execution_count": null,
   "metadata": {},
   "outputs": [],
   "source": [
    "def shuffleMaternalSmoker():\n",
    "    original_and_shuffled = smoking_and_birthweight.copy()\n",
    "    original_and_shuffled[\"Shuffled Label\"] = np.random.permutation(births['Maternal Smoker'].values)\n",
    "    return original_and_shuffled\n"
   ]
  },
  {
   "cell_type": "code",
   "execution_count": null,
   "metadata": {},
   "outputs": [],
   "source": [
    "original_and_shuffled = shuffleMaternalSmoker()\n",
    "print(original_and_shuffled.head().to_markdown())"
   ]
  },
  {
   "cell_type": "markdown",
   "metadata": {},
   "source": [
    "\n",
    "Birth Weight\tGestational Days\tMaternal Age\tMaternal Height\tMaternal Pregnancy Weight\tMaternal Smoker\n",
    "0\t120\t284\t27\t62\t100\tFalse\n",
    "1\t113\t282\t33\t64\t135\tFalse\n",
    "2\t128\t279\t28\t64\t115\tTrue\n",
    "3\t108\t282\t23\t67\t125\tTrue\n",
    "4\t136\t286\t25\t62\t93\tFalse\n",
    "Maternal Smoker\n",
    "False              715\n",
    "True               459\n",
    "dtype: int64\n",
    "<matplotlib.legend.Legend at 0x237eb89a940>\n",
    "\n",
    "Birth Weight\n",
    "Maternal Smoker\t\n",
    "False\t123.085315\n",
    "True\t113.819172\n",
    "-9.266142572024918\n",
    "-9.266142572024918\n",
    "False    715\n",
    "True     459\n",
    "Name: Maternal Smoker, dtype: int64\n",
    "False    715\n",
    "True     459\n",
    "Name: Shuffled Label, dtype: int64\n",
    "Birth Weight\n",
    "Shuffled Label\t\n",
    "False\t119.158042\n",
    "True\t119.936819\n",
    "0.7787772140713258\n",
    "-0.6485457897222631\n",
    "(array([   2.,   31.,  169.,  631., 1249., 1541.,  995.,  322.,   48.,\n",
    "          12.]),\n",
    " array([-4.60498499, -3.72605451, -2.84712403, -1.96819355, -1.08926307,\n",
    "        -0.21033259,  0.66859789,  1.54752838,  2.42645886,  3.30538934,\n",
    "         4.18431982]),\n",
    " <BarContainer object of 10 artists>)\n",
    "\n",
    "0.0\n",
    "<matplotlib.legend.Legend at 0x237ec2c67f0>\n",
    "\n",
    "<matplotlib.legend.Legend at 0x237ec31bfa0>\n",
    "\n",
    "\n",
    "-0.8076725017901509\n",
    "Maternal Age\n",
    "Maternal Smoker\t\n",
    "False\t27.544056\n",
    "True\t26.736383\n",
    "-0.024254612489905014\n",
    "<matplotlib.lines.Line2D at 0x237ec915eb0>\n",
    "\n",
    "|    | Maternal Smoker   |   Birth Weight | Shuffled Label   |\n",
    "|---:|:------------------|---------------:|:-----------------|\n",
    "|  0 | False             |            120 | False            |\n",
    "|  1 | False             |            113 | False            |\n",
    "|  2 | True              |            128 | True             |\n",
    "|  3 | True              |            108 | False            |\n",
    "|  4 | False             |            136 | True             |"
   ]
  },
  {
   "cell_type": "code",
   "execution_count": null,
   "metadata": {},
   "outputs": [],
   "source": [
    "original_and_shuffled = shuffleMaternalSmoker()\n",
    "print(original_and_shuffled.head().to_markdown())"
   ]
  },
  {
   "cell_type": "markdown",
   "metadata": {},
   "source": [
    "|    | Maternal Smoker   |   Birth Weight | Shuffled Label   |\n",
    "|---:|:------------------|---------------:|:-----------------|\n",
    "|  0 | False             |            120 | True             |\n",
    "|  1 | False             |            113 | False            |\n",
    "|  2 | True              |            128 | False            |\n",
    "|  3 | True              |            108 | False            |\n",
    "|  4 | False             |            136 | True             |"
   ]
  },
  {
   "cell_type": "code",
   "execution_count": null,
   "metadata": {},
   "outputs": [],
   "source": [
    "original_and_shuffled = shuffleMaternalSmoker()\n",
    "print(original_and_shuffled.head().to_markdown())"
   ]
  },
  {
   "cell_type": "markdown",
   "metadata": {},
   "source": [
    "|    | Maternal Smoker   |   Birth Weight | Shuffled Label   |\n",
    "|---:|:------------------|---------------:|:-----------------|\n",
    "|  0 | False             |            120 | False            |\n",
    "|  1 | False             |            113 | True             |\n",
    "|  2 | True              |            128 | False            |\n",
    "|  3 | True              |            108 | True             |\n",
    "|  4 | False             |            136 | False            |"
   ]
  },
  {
   "cell_type": "code",
   "execution_count": null,
   "metadata": {},
   "outputs": [],
   "source": [
    "original_and_shuffled[\"Maternal Smoker\"].value_counts()"
   ]
  },
  {
   "cell_type": "code",
   "execution_count": null,
   "metadata": {},
   "outputs": [],
   "source": [
    "original_and_shuffled[\"Shuffled Label\"].value_counts()"
   ]
  },
  {
   "cell_type": "code",
   "execution_count": null,
   "metadata": {},
   "outputs": [],
   "source": [
    "original_and_shuffled[[\"Shuffled Label\",\"Birth Weight\"]].groupby(\"Shuffled Label\").mean()"
   ]
  },
  {
   "cell_type": "code",
   "execution_count": null,
   "metadata": {},
   "outputs": [],
   "source": [
    "difference_of_means(original_and_shuffled, 'Shuffled Label')"
   ]
  },
  {
   "cell_type": "code",
   "execution_count": null,
   "metadata": {},
   "outputs": [],
   "source": [
    "def one_simulated_difference_of_means():\n",
    "    \"\"\"Returns: Difference between mean birthweights\n",
    "    of babies of smokers and non-smokers after shuffling labels\"\"\"\n",
    "    \n",
    "    original_and_shuffled = smoking_and_birthweight.copy()\n",
    "    original_and_shuffled[\"Shuffled Label\"] = np.random.permutation(births['Maternal Smoker'].values)\n",
    "    \n",
    "    return difference_of_means(original_and_shuffled, 'Shuffled Label')  "
   ]
  },
  {
   "cell_type": "code",
   "execution_count": null,
   "metadata": {},
   "outputs": [],
   "source": [
    "one_simulated_difference_of_means()"
   ]
  },
  {
   "cell_type": "code",
   "execution_count": null,
   "metadata": {},
   "outputs": [],
   "source": [
    "differences = []\n",
    "\n",
    "repetitions = 5000\n",
    "for i in np.arange(repetitions):\n",
    "    new_difference = one_simulated_difference_of_means()\n",
    "    differences.append(new_difference)   "
   ]
  },
  {
   "cell_type": "code",
   "execution_count": null,
   "metadata": {},
   "outputs": [],
   "source": [
    "plt.hist(differences)"
   ]
  },
  {
   "cell_type": "code",
   "execution_count": null,
   "metadata": {},
   "outputs": [],
   "source": [
    "empirical_p = np.count_nonzero(differences <= observed_difference) / repetitions\n",
    "empirical_p"
   ]
  },
  {
   "cell_type": "markdown",
   "metadata": {},
   "source": [
    "## Outro teste de permutação"
   ]
  },
  {
   "cell_type": "code",
   "execution_count": 35,
   "metadata": {},
   "outputs": [
    {
     "data": {
      "text/plain": [
       "<matplotlib.legend.Legend at 0x1db8cd88b20>"
      ]
     },
     "execution_count": 35,
     "metadata": {},
     "output_type": "execute_result"
    },
    {
     "data": {
      "image/png": "[encoded data removed]",
      "text/plain": [
       "<Figure size 432x288 with 1 Axes>"
      ]
     },
     "metadata": {
      "needs_background": "light"
     },
     "output_type": "display_data"
    }
   ],
   "source": [
    "smoking_and_age = births[[\"Maternal Smoker\", \"Maternal Age\"]]\n",
    "smoking_and_age.groupby(\"Maternal Smoker\")[\"Maternal Age\"].hist(alpha=0.7,label=\"Maternal Smoker\")\n",
    "plt.legend()"
   ]
  },
  {
   "cell_type": "markdown",
   "metadata": {},
   "source": [
    "Colocando `density=True` como parâmetro da função `hist`."
   ]
  },
  {
   "cell_type": "code",
   "execution_count": 36,
   "metadata": {},
   "outputs": [
    {
     "data": {
      "text/plain": [
       "<matplotlib.legend.Legend at 0x1db8cc105e0>"
      ]
     },
     "execution_count": 36,
     "metadata": {},
     "output_type": "execute_result"
    },
    {
     "data": {
      "image/png": "[encoded data removed]",
      "text/plain": [
       "<Figure size 432x288 with 1 Axes>"
      ]
     },
     "metadata": {
      "needs_background": "light"
     },
     "output_type": "display_data"
    }
   ],
   "source": [
    "smoking_and_age.groupby(\"Maternal Smoker\")[\"Maternal Age\"].hist(density=True, alpha=0.7,label=\"Maternal Smoker\")\n",
    "plt.legend()"
   ]
  },
  {
   "cell_type": "code",
   "execution_count": null,
   "metadata": {},
   "outputs": [],
   "source": [
    "means_table = smoking_and_age.groupby(\"Maternal Smoker\").mean()\n",
    "means_table"
   ]
  },
  {
   "cell_type": "code",
   "execution_count": null,
   "metadata": {},
   "outputs": [],
   "source": [
    "mean_nonsmokers = means_table.loc[False][\"Maternal Age\"]\n",
    "mean_smokers = means_table.loc[True][\"Maternal Age\"]\n",
    "\n",
    "observed_difference = mean_smokers - mean_nonsmokers\n",
    "observed_difference"
   ]
  },
  {
   "cell_type": "code",
   "execution_count": null,
   "metadata": {},
   "outputs": [],
   "source": [
    "def difference_of_means(df, group_label):\n",
    "    \"\"\"Takes: data frame,\n",
    "    column label that indicates the group to which the row belongs\n",
    "    Returns: Difference of mean birth weights of the two groups\"\"\"\n",
    "    \n",
    "    reduced = df[[\"Maternal Age\", group_label]]\n",
    "    means_table = reduced.groupby(group_label).mean()\n",
    "    mean_false = means_table.loc[False][\"Maternal Age\"]\n",
    "    mean_true = means_table.loc[True][\"Maternal Age\"]    \n",
    "    return mean_true - mean_false"
   ]
  },
  {
   "cell_type": "code",
   "execution_count": null,
   "metadata": {},
   "outputs": [],
   "source": [
    "def one_simulated_difference_of_means():\n",
    "    \"\"\"Returns: Difference between mean maternal ages\n",
    "    of babies of smokers and non-smokers after shuffling labels\"\"\"\n",
    "    \n",
    "    original_and_shuffled = smoking_and_age.copy()\n",
    "    original_and_shuffled[\"Shuffled Label\"] = np.random.permutation(births['Maternal Smoker'].values)\n",
    "    \n",
    "    return difference_of_means(original_and_shuffled, 'Shuffled Label')  "
   ]
  },
  {
   "cell_type": "code",
   "execution_count": null,
   "metadata": {},
   "outputs": [],
   "source": [
    "one_simulated_difference_of_means()"
   ]
  },
  {
   "cell_type": "code",
   "execution_count": null,
   "metadata": {},
   "outputs": [],
   "source": [
    "age_differences = []\n",
    "\n",
    "repetitions = 5000\n",
    "for i in np.arange(repetitions):\n",
    "    new_difference = one_simulated_difference_of_means()\n",
    "    age_differences.append(new_difference)"
   ]
  },
  {
   "cell_type": "code",
   "execution_count": null,
   "metadata": {},
   "outputs": [],
   "source": [
    "plt.hist(age_differences)\n",
    "plt.axvline(observed_difference, c='r')"
   ]
  },
  {
   "cell_type": "code",
   "execution_count": null,
   "metadata": {},
   "outputs": [],
   "source": []
  }
 ],
 "metadata": {
  "kernelspec": {
   "display_name": "Python 3 (ipykernel)",
   "language": "python",
   "name": "python3"
  },
  "language_info": {
   "codemirror_mode": {
    "name": "ipython",
    "version": 3
   },
   "file_extension": ".py",
   "mimetype": "text/x-python",
   "name": "python",
   "nbconvert_exporter": "python",
   "pygments_lexer": "ipython3",
   "version": "3.9.12"
  },
  "vscode": {
   "interpreter": {
    "hash": "190605ead3d59fdd7149d57090309db6515571225da4d448ac9f06d043bf74ec"
   }
  }
 },
 "nbformat": 4,
 "nbformat_minor": 2
}
