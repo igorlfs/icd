{
 "cells": [
  {
   "cell_type": "code",
   "execution_count": 2,
   "metadata": {},
   "outputs": [],
   "source": [
    "from scipy import stats as ss\n",
    "\n",
    "import numpy as np\n",
    "import matplotlib.pyplot as plt\n",
    "import pandas as pd\n",
    "from tqdm import tqdm\n"
   ]
  },
  {
   "cell_type": "code",
   "execution_count": 3,
   "metadata": {},
   "outputs": [],
   "source": [
    "from scipy.stats import bernoulli"
   ]
  },
  {
   "cell_type": "code",
   "execution_count": 4,
   "metadata": {},
   "outputs": [
    {
     "name": "stdout",
     "output_type": "stream",
     "text": [
      "Number of Black jurors: 26\n"
     ]
    }
   ],
   "source": [
    "sample_size = 100\n",
    "p = 0.26\n",
    "sample = bernoulli.rvs(p, size=sample_size)\n",
    "print(\"Number of Black jurors:\", sum(sample))"
   ]
  },
  {
   "cell_type": "code",
   "execution_count": 5,
   "metadata": {},
   "outputs": [],
   "source": [
    "def one_simulated_count(p=0.26, sample_size=100):\n",
    "    return sum(bernoulli.rvs(p, size=sample_size))\n"
   ]
  },
  {
   "cell_type": "code",
   "execution_count": 6,
   "metadata": {},
   "outputs": [
    {
     "name": "stdout",
     "output_type": "stream",
     "text": [
      "Number of Black jurors: 25\n"
     ]
    }
   ],
   "source": [
    "print(\"Number of Black jurors:\", one_simulated_count())"
   ]
  },
  {
   "cell_type": "code",
   "execution_count": 7,
   "metadata": {},
   "outputs": [],
   "source": [
    "counts = []\n",
    "repetitions = 10000\n",
    "for i in np.arange(repetitions):\n",
    "    counts.append(one_simulated_count())"
   ]
  },
  {
   "cell_type": "code",
   "execution_count": 8,
   "metadata": {},
   "outputs": [
    {
     "data": {
      "text/plain": [
       "<matplotlib.lines.Line2D at 0x23d02eb95e0>"
      ]
     },
     "execution_count": 8,
     "metadata": {},
     "output_type": "execute_result"
    },
    {
     "data": {
      "image/png": "[encoded data removed]",
      "text/plain": [
       "<Figure size 432x288 with 1 Axes>"
      ]
     },
     "metadata": {
      "needs_background": "light"
     },
     "output_type": "display_data"
    }
   ],
   "source": [
    "bins = np.arange(5.5, 46.6, 1)\n",
    "plt.hist(counts, bins=bins)\n",
    "plt.axvline(x=8, color='r')"
   ]
  },
  {
   "cell_type": "code",
   "execution_count": 9,
   "metadata": {},
   "outputs": [
    {
     "name": "stdout",
     "output_type": "stream",
     "text": [
      "Number of panels with 8 or less Black jurors: 0\n"
     ]
    }
   ],
   "source": [
    "eight_or_less = [x for x in counts if x <= 8]\n",
    "print(\"Number of panels with 8 or less Black jurors:\", len(eight_or_less))"
   ]
  },
  {
   "cell_type": "markdown",
   "metadata": {},
   "source": [
    "## Usando a Binomial"
   ]
  },
  {
   "cell_type": "code",
   "execution_count": 10,
   "metadata": {},
   "outputs": [],
   "source": [
    "from scipy.stats import binom"
   ]
  },
  {
   "cell_type": "code",
   "execution_count": 11,
   "metadata": {},
   "outputs": [],
   "source": [
    "r = binom.rvs(sample_size, p, size=repetitions)"
   ]
  },
  {
   "cell_type": "code",
   "execution_count": 12,
   "metadata": {
    "scrolled": true
   },
   "outputs": [
    {
     "data": {
      "text/plain": [
       "<matplotlib.lines.Line2D at 0x23d036d8ca0>"
      ]
     },
     "execution_count": 12,
     "metadata": {},
     "output_type": "execute_result"
    },
    {
     "data": {
      "image/png": "[encoded data removed]",
      "text/plain": [
       "<Figure size 432x288 with 1 Axes>"
      ]
     },
     "metadata": {
      "needs_background": "light"
     },
     "output_type": "display_data"
    }
   ],
   "source": [
    "bins = np.arange(5.5, 46.6, 1)\n",
    "plt.hist(counts, bins=bins)\n",
    "plt.axvline(x=8, color='r')"
   ]
  },
  {
   "cell_type": "code",
   "execution_count": 13,
   "metadata": {},
   "outputs": [
    {
     "name": "stdout",
     "output_type": "stream",
     "text": [
      "4.734794997889311e-06\n"
     ]
    }
   ],
   "source": [
    "prob = binom.cdf(8, 100, 0.26)\n",
    "print(prob)"
   ]
  },
  {
   "cell_type": "code",
   "execution_count": 14,
   "metadata": {},
   "outputs": [
    {
     "name": "stdout",
     "output_type": "stream",
     "text": [
      "Number of panels with 8 or less Black jurors: 0\n"
     ]
    }
   ],
   "source": [
    "eight_or_less = [x for x in counts if x <= 8]\n",
    "print(\"Number of panels with 8 or less Black jurors:\", len(eight_or_less))"
   ]
  },
  {
   "cell_type": "markdown",
   "metadata": {},
   "source": [
    "# Múltiplas categorias"
   ]
  },
  {
   "cell_type": "code",
   "execution_count": 15,
   "metadata": {},
   "outputs": [
    {
     "data": {
      "text/html": [
       "<div>\n",
       "<style scoped>\n",
       "    .dataframe tbody tr th:only-of-type {\n",
       "        vertical-align: middle;\n",
       "    }\n",
       "\n",
       "    .dataframe tbody tr th {\n",
       "        vertical-align: top;\n",
       "    }\n",
       "\n",
       "    .dataframe thead th {\n",
       "        text-align: right;\n",
       "    }\n",
       "</style>\n",
       "<table border=\"1\" class=\"dataframe\">\n",
       "  <thead>\n",
       "    <tr style=\"text-align: right;\">\n",
       "      <th></th>\n",
       "      <th>Ethnicity</th>\n",
       "      <th>Eligible</th>\n",
       "      <th>Panels</th>\n",
       "    </tr>\n",
       "  </thead>\n",
       "  <tbody>\n",
       "    <tr>\n",
       "      <th>0</th>\n",
       "      <td>Asian/PI</td>\n",
       "      <td>0.15</td>\n",
       "      <td>0.26</td>\n",
       "    </tr>\n",
       "    <tr>\n",
       "      <th>1</th>\n",
       "      <td>Black/AA</td>\n",
       "      <td>0.18</td>\n",
       "      <td>0.08</td>\n",
       "    </tr>\n",
       "    <tr>\n",
       "      <th>2</th>\n",
       "      <td>Caucasian</td>\n",
       "      <td>0.54</td>\n",
       "      <td>0.54</td>\n",
       "    </tr>\n",
       "    <tr>\n",
       "      <th>3</th>\n",
       "      <td>Hispanic</td>\n",
       "      <td>0.12</td>\n",
       "      <td>0.08</td>\n",
       "    </tr>\n",
       "    <tr>\n",
       "      <th>4</th>\n",
       "      <td>Other</td>\n",
       "      <td>0.01</td>\n",
       "      <td>0.04</td>\n",
       "    </tr>\n",
       "  </tbody>\n",
       "</table>\n",
       "</div>"
      ],
      "text/plain": [
       "   Ethnicity  Eligible  Panels\n",
       "0   Asian/PI      0.15    0.26\n",
       "1   Black/AA      0.18    0.08\n",
       "2  Caucasian      0.54    0.54\n",
       "3   Hispanic      0.12    0.08\n",
       "4      Other      0.01    0.04"
      ]
     },
     "execution_count": 15,
     "metadata": {},
     "output_type": "execute_result"
    }
   ],
   "source": [
    "jury = pd.DataFrame(\n",
    "    {'Ethnicity': ['Asian/PI', 'Black/AA', 'Caucasian', 'Hispanic', 'Other'],\n",
    "    'Eligible': [0.15, 0.18, 0.54, 0.12, 0.01],\n",
    "    'Panels': [0.26, 0.08, 0.54, 0.08, 0.04]}\n",
    ")\n",
    "\n",
    "\n",
    "\n",
    "jury"
   ]
  },
  {
   "cell_type": "code",
   "execution_count": 16,
   "metadata": {},
   "outputs": [
    {
     "data": {
      "image/png": "[encoded data removed]",
      "text/plain": [
       "<Figure size 432x288 with 1 Axes>"
      ]
     },
     "metadata": {
      "needs_background": "light"
     },
     "output_type": "display_data"
    }
   ],
   "source": [
    "ax = jury.set_index('Ethnicity').plot.bar(rot=0)"
   ]
  },
  {
   "cell_type": "markdown",
   "metadata": {},
   "source": [
    "## Comparação com painéis selecionados aleatoriamente"
   ]
  },
  {
   "cell_type": "code",
   "execution_count": 17,
   "metadata": {},
   "outputs": [],
   "source": [
    "from scipy.stats import multinomial"
   ]
  },
  {
   "cell_type": "code",
   "execution_count": 18,
   "metadata": {},
   "outputs": [],
   "source": [
    "def sample_proportions(n, p):\n",
    "    r = multinomial.rvs(n, p)\n",
    "    return r/n"
   ]
  },
  {
   "cell_type": "code",
   "execution_count": 19,
   "metadata": {},
   "outputs": [
    {
     "data": {
      "text/plain": [
       "array([0.14728149, 0.18169305, 0.53613214, 0.12594632, 0.00894701])"
      ]
     },
     "execution_count": 19,
     "metadata": {},
     "output_type": "execute_result"
    }
   ],
   "source": [
    "random_prop = sample_proportions(1453, jury['Eligible'].values)\n",
    "random_prop"
   ]
  },
  {
   "cell_type": "code",
   "execution_count": 20,
   "metadata": {},
   "outputs": [],
   "source": [
    "jury_with_sample = jury.copy()\n",
    "jury_with_sample['Random Sample'] = random_prop"
   ]
  },
  {
   "cell_type": "code",
   "execution_count": 21,
   "metadata": {},
   "outputs": [
    {
     "data": {
      "text/html": [
       "<div>\n",
       "<style scoped>\n",
       "    .dataframe tbody tr th:only-of-type {\n",
       "        vertical-align: middle;\n",
       "    }\n",
       "\n",
       "    .dataframe tbody tr th {\n",
       "        vertical-align: top;\n",
       "    }\n",
       "\n",
       "    .dataframe thead th {\n",
       "        text-align: right;\n",
       "    }\n",
       "</style>\n",
       "<table border=\"1\" class=\"dataframe\">\n",
       "  <thead>\n",
       "    <tr style=\"text-align: right;\">\n",
       "      <th></th>\n",
       "      <th>Ethnicity</th>\n",
       "      <th>Eligible</th>\n",
       "      <th>Panels</th>\n",
       "      <th>Random Sample</th>\n",
       "    </tr>\n",
       "  </thead>\n",
       "  <tbody>\n",
       "    <tr>\n",
       "      <th>0</th>\n",
       "      <td>Asian/PI</td>\n",
       "      <td>0.15</td>\n",
       "      <td>0.26</td>\n",
       "      <td>0.147281</td>\n",
       "    </tr>\n",
       "    <tr>\n",
       "      <th>1</th>\n",
       "      <td>Black/AA</td>\n",
       "      <td>0.18</td>\n",
       "      <td>0.08</td>\n",
       "      <td>0.181693</td>\n",
       "    </tr>\n",
       "    <tr>\n",
       "      <th>2</th>\n",
       "      <td>Caucasian</td>\n",
       "      <td>0.54</td>\n",
       "      <td>0.54</td>\n",
       "      <td>0.536132</td>\n",
       "    </tr>\n",
       "    <tr>\n",
       "      <th>3</th>\n",
       "      <td>Hispanic</td>\n",
       "      <td>0.12</td>\n",
       "      <td>0.08</td>\n",
       "      <td>0.125946</td>\n",
       "    </tr>\n",
       "    <tr>\n",
       "      <th>4</th>\n",
       "      <td>Other</td>\n",
       "      <td>0.01</td>\n",
       "      <td>0.04</td>\n",
       "      <td>0.008947</td>\n",
       "    </tr>\n",
       "  </tbody>\n",
       "</table>\n",
       "</div>"
      ],
      "text/plain": [
       "   Ethnicity  Eligible  Panels  Random Sample\n",
       "0   Asian/PI      0.15    0.26       0.147281\n",
       "1   Black/AA      0.18    0.08       0.181693\n",
       "2  Caucasian      0.54    0.54       0.536132\n",
       "3   Hispanic      0.12    0.08       0.125946\n",
       "4      Other      0.01    0.04       0.008947"
      ]
     },
     "execution_count": 21,
     "metadata": {},
     "output_type": "execute_result"
    }
   ],
   "source": [
    "jury_with_sample"
   ]
  },
  {
   "cell_type": "code",
   "execution_count": 22,
   "metadata": {},
   "outputs": [
    {
     "data": {
      "image/png": "[encoded data removed]",
      "text/plain": [
       "<Figure size 432x288 with 1 Axes>"
      ]
     },
     "metadata": {
      "needs_background": "light"
     },
     "output_type": "display_data"
    }
   ],
   "source": [
    "ax = jury_with_sample.set_index('Ethnicity').plot.bar(rot=0)"
   ]
  },
  {
   "cell_type": "markdown",
   "metadata": {},
   "source": [
    "### Cálculo da diferença entre proporções"
   ]
  },
  {
   "cell_type": "code",
   "execution_count": 23,
   "metadata": {},
   "outputs": [
    {
     "data": {
      "text/html": [
       "<div>\n",
       "<style scoped>\n",
       "    .dataframe tbody tr th:only-of-type {\n",
       "        vertical-align: middle;\n",
       "    }\n",
       "\n",
       "    .dataframe tbody tr th {\n",
       "        vertical-align: top;\n",
       "    }\n",
       "\n",
       "    .dataframe thead th {\n",
       "        text-align: right;\n",
       "    }\n",
       "</style>\n",
       "<table border=\"1\" class=\"dataframe\">\n",
       "  <thead>\n",
       "    <tr style=\"text-align: right;\">\n",
       "      <th></th>\n",
       "      <th>Ethnicity</th>\n",
       "      <th>Eligible</th>\n",
       "      <th>Panels</th>\n",
       "      <th>Difference</th>\n",
       "    </tr>\n",
       "  </thead>\n",
       "  <tbody>\n",
       "    <tr>\n",
       "      <th>0</th>\n",
       "      <td>Asian/PI</td>\n",
       "      <td>0.15</td>\n",
       "      <td>0.26</td>\n",
       "      <td>0.11</td>\n",
       "    </tr>\n",
       "    <tr>\n",
       "      <th>1</th>\n",
       "      <td>Black/AA</td>\n",
       "      <td>0.18</td>\n",
       "      <td>0.08</td>\n",
       "      <td>-0.10</td>\n",
       "    </tr>\n",
       "    <tr>\n",
       "      <th>2</th>\n",
       "      <td>Caucasian</td>\n",
       "      <td>0.54</td>\n",
       "      <td>0.54</td>\n",
       "      <td>0.00</td>\n",
       "    </tr>\n",
       "    <tr>\n",
       "      <th>3</th>\n",
       "      <td>Hispanic</td>\n",
       "      <td>0.12</td>\n",
       "      <td>0.08</td>\n",
       "      <td>-0.04</td>\n",
       "    </tr>\n",
       "    <tr>\n",
       "      <th>4</th>\n",
       "      <td>Other</td>\n",
       "      <td>0.01</td>\n",
       "      <td>0.04</td>\n",
       "      <td>0.03</td>\n",
       "    </tr>\n",
       "  </tbody>\n",
       "</table>\n",
       "</div>"
      ],
      "text/plain": [
       "   Ethnicity  Eligible  Panels  Difference\n",
       "0   Asian/PI      0.15    0.26        0.11\n",
       "1   Black/AA      0.18    0.08       -0.10\n",
       "2  Caucasian      0.54    0.54        0.00\n",
       "3   Hispanic      0.12    0.08       -0.04\n",
       "4      Other      0.01    0.04        0.03"
      ]
     },
     "execution_count": 23,
     "metadata": {},
     "output_type": "execute_result"
    }
   ],
   "source": [
    "jury_with_diffs = jury.copy()\n",
    "jury_with_diffs['Difference'] = jury['Panels'] - jury['Eligible']\n",
    "jury_with_diffs"
   ]
  },
  {
   "cell_type": "code",
   "execution_count": 24,
   "metadata": {},
   "outputs": [
    {
     "data": {
      "text/html": [
       "<div>\n",
       "<style scoped>\n",
       "    .dataframe tbody tr th:only-of-type {\n",
       "        vertical-align: middle;\n",
       "    }\n",
       "\n",
       "    .dataframe tbody tr th {\n",
       "        vertical-align: top;\n",
       "    }\n",
       "\n",
       "    .dataframe thead th {\n",
       "        text-align: right;\n",
       "    }\n",
       "</style>\n",
       "<table border=\"1\" class=\"dataframe\">\n",
       "  <thead>\n",
       "    <tr style=\"text-align: right;\">\n",
       "      <th></th>\n",
       "      <th>Ethnicity</th>\n",
       "      <th>Eligible</th>\n",
       "      <th>Panels</th>\n",
       "      <th>Difference</th>\n",
       "      <th>Absolute Difference</th>\n",
       "    </tr>\n",
       "  </thead>\n",
       "  <tbody>\n",
       "    <tr>\n",
       "      <th>0</th>\n",
       "      <td>Asian/PI</td>\n",
       "      <td>0.15</td>\n",
       "      <td>0.26</td>\n",
       "      <td>0.11</td>\n",
       "      <td>0.11</td>\n",
       "    </tr>\n",
       "    <tr>\n",
       "      <th>1</th>\n",
       "      <td>Black/AA</td>\n",
       "      <td>0.18</td>\n",
       "      <td>0.08</td>\n",
       "      <td>-0.10</td>\n",
       "      <td>0.10</td>\n",
       "    </tr>\n",
       "    <tr>\n",
       "      <th>2</th>\n",
       "      <td>Caucasian</td>\n",
       "      <td>0.54</td>\n",
       "      <td>0.54</td>\n",
       "      <td>0.00</td>\n",
       "      <td>0.00</td>\n",
       "    </tr>\n",
       "    <tr>\n",
       "      <th>3</th>\n",
       "      <td>Hispanic</td>\n",
       "      <td>0.12</td>\n",
       "      <td>0.08</td>\n",
       "      <td>-0.04</td>\n",
       "      <td>0.04</td>\n",
       "    </tr>\n",
       "    <tr>\n",
       "      <th>4</th>\n",
       "      <td>Other</td>\n",
       "      <td>0.01</td>\n",
       "      <td>0.04</td>\n",
       "      <td>0.03</td>\n",
       "      <td>0.03</td>\n",
       "    </tr>\n",
       "  </tbody>\n",
       "</table>\n",
       "</div>"
      ],
      "text/plain": [
       "   Ethnicity  Eligible  Panels  Difference  Absolute Difference\n",
       "0   Asian/PI      0.15    0.26        0.11                 0.11\n",
       "1   Black/AA      0.18    0.08       -0.10                 0.10\n",
       "2  Caucasian      0.54    0.54        0.00                 0.00\n",
       "3   Hispanic      0.12    0.08       -0.04                 0.04\n",
       "4      Other      0.01    0.04        0.03                 0.03"
      ]
     },
     "execution_count": 24,
     "metadata": {},
     "output_type": "execute_result"
    }
   ],
   "source": [
    "jury_with_diffs['Absolute Difference'] = jury_with_diffs['Difference'].abs()\n",
    "jury_with_diffs"
   ]
  },
  {
   "cell_type": "code",
   "execution_count": 25,
   "metadata": {},
   "outputs": [
    {
     "data": {
      "text/plain": [
       "0.14"
      ]
     },
     "execution_count": 25,
     "metadata": {},
     "output_type": "execute_result"
    }
   ],
   "source": [
    "jury_with_diffs['Absolute Difference'].sum() / 2"
   ]
  },
  {
   "cell_type": "code",
   "execution_count": 26,
   "metadata": {},
   "outputs": [],
   "source": [
    "def total_variation_distance(distribution_1, distribution_2):\n",
    "    return sum(np.abs(distribution_1 - distribution_2)) / 2"
   ]
  },
  {
   "cell_type": "code",
   "execution_count": 27,
   "metadata": {},
   "outputs": [
    {
     "name": "stdout",
     "output_type": "stream",
     "text": [
      "total variation distance:  0.14\n"
     ]
    }
   ],
   "source": [
    "tvd_real = total_variation_distance(jury['Panels'],jury['Eligible'])\n",
    "print(\"total variation distance: \", tvd_real)"
   ]
  },
  {
   "cell_type": "code",
   "execution_count": 28,
   "metadata": {},
   "outputs": [
    {
     "data": {
      "text/plain": [
       "0.017783895388850647"
      ]
     },
     "execution_count": 28,
     "metadata": {},
     "output_type": "execute_result"
    }
   ],
   "source": [
    "eligible_population = jury['Eligible'].values\n",
    "sample_distribution = sample_proportions(1453, eligible_population)\n",
    "total_variation_distance(sample_distribution, eligible_population)"
   ]
  },
  {
   "cell_type": "markdown",
   "metadata": {},
   "source": [
    "### Simulando um valor da estatística"
   ]
  },
  {
   "cell_type": "code",
   "execution_count": 29,
   "metadata": {},
   "outputs": [],
   "source": [
    "# Simulate one simulated value of \n",
    "# the total variation distance between\n",
    "# the distribution of a sample selected at random\n",
    "# and the distribution of the eligible population\n",
    "\n",
    "def one_simulated_tvd():\n",
    "    sample_distribution = sample_proportions(1453, eligible_population)\n",
    "    return total_variation_distance(sample_distribution, eligible_population)  "
   ]
  },
  {
   "cell_type": "markdown",
   "metadata": {},
   "source": [
    "### Simulando vários valores da estatística"
   ]
  },
  {
   "cell_type": "code",
   "execution_count": 30,
   "metadata": {},
   "outputs": [],
   "source": [
    "tvds = []\n",
    "repetitions = 50000\n",
    "for i in np.arange(repetitions):\n",
    "    tvds.append(one_simulated_tvd())"
   ]
  },
  {
   "cell_type": "code",
   "execution_count": 31,
   "metadata": {},
   "outputs": [
    {
     "data": {
      "text/plain": [
       "[0.018692360633172762,\n",
       " 0.019848589125946288,\n",
       " 0.017859600825877488,\n",
       " 0.03365450791465931,\n",
       " 0.023331039229181005,\n",
       " 0.008836889194769422,\n",
       " 0.015581555402615303,\n",
       " 0.018506538196834097,\n",
       " 0.014239504473503119,\n",
       " 0.013778389538885032,\n",
       " 0.021403991741225054,\n",
       " 0.006125258086717119,\n",
       " 0.010027529249827978,\n",
       " 0.011913282863041948,\n",
       " 0.014384033035099754,\n",
       " 0.018245010323468716,\n",
       " 0.034886441844459756,\n",
       " 0.013289745354439088,\n",
       " 0.018107364074328967,\n",
       " 0.016992429456297312,\n",
       " 0.015567790777701323,\n",
       " 0.024053682037164452,\n",
       " 0.01658637302133516,\n",
       " 0.012092222986923615,\n",
       " 0.019483826565726052,\n",
       " 0.019855471438403296,\n",
       " 0.01616655196145904,\n",
       " 0.0175017205781142,\n",
       " 0.015437026841018544,\n",
       " 0.021596696490020623,\n",
       " 0.021665519614590466,\n",
       " 0.01683413626978668,\n",
       " 0.01828630419821064,\n",
       " 0.02375774260151412,\n",
       " 0.018596008258774933,\n",
       " 0.015567790777701316,\n",
       " 0.020598761183757742,\n",
       " 0.009421885753613258,\n",
       " 0.0048313833448038156,\n",
       " 0.030392291810048197,\n",
       " 0.01756366139022711,\n",
       " 0.017171369580178925,\n",
       " 0.009242945629731549,\n",
       " 0.016221610461114932,\n",
       " 0.020295939435650348,\n",
       " 0.01868547832071577,\n",
       " 0.019745354439091527,\n",
       " 0.013750860289057133,\n",
       " 0.01859600825877493,\n",
       " 0.016620784583620145,\n",
       " 0.02275980729525116,\n",
       " 0.025815554026152817,\n",
       " 0.022133516861665557,\n",
       " 0.011713695801789364,\n",
       " 0.03621472814865799,\n",
       " 0.027419132828630392,\n",
       " 0.018596008258774936,\n",
       " 0.02442532690984168,\n",
       " 0.011121816930488648,\n",
       " 0.02163110805230553,\n",
       " 0.019339298004129386,\n",
       " 0.01710254645560908,\n",
       " 0.022092222986923624,\n",
       " 0.00955953200275288,\n",
       " 0.029490708878183024,\n",
       " 0.017157604955264964,\n",
       " 0.020206469373709554,\n",
       " 0.014790089470061912,\n",
       " 0.019167240192704722,\n",
       " 0.012759807295251195,\n",
       " 0.028251892635925698,\n",
       " 0.024824501032346867,\n",
       " 0.019910529938059203,\n",
       " 0.01191328286304198,\n",
       " 0.00860977288368892,\n",
       " 0.006916724019270527,\n",
       " 0.013392980041293894,\n",
       " 0.01824501032346872,\n",
       " 0.01079834824501033,\n",
       " 0.021672401927047447,\n",
       " 0.005574673090158313,\n",
       " 0.012422573984858899,\n",
       " 0.01535443909153472,\n",
       " 0.010640055058499635,\n",
       " 0.020860289057123164,\n",
       " 0.009649002064693695,\n",
       " 0.0075017205781142396,\n",
       " 0.021225051617343414,\n",
       " 0.013778389538885024,\n",
       " 0.02948382656572609,\n",
       " 0.00714384033035098,\n",
       " 0.012174810736407448,\n",
       " 0.026042670337233287,\n",
       " 0.00958706125258086,\n",
       " 0.020309704060564364,\n",
       " 0.018795595320027485,\n",
       " 0.007253957329662746,\n",
       " 0.03383344803854097,\n",
       " 0.005822436338609777,\n",
       " 0.023062629043358568,\n",
       " 0.017859600825877484,\n",
       " 0.02090846524432209,\n",
       " 0.012684101858224356,\n",
       " 0.02641431520991048,\n",
       " 0.009242945629731549,\n",
       " 0.017522367515485224,\n",
       " 0.0301789401238816,\n",
       " 0.013186510667584313,\n",
       " 0.022381280110117013,\n",
       " 0.012037164487267679,\n",
       " 0.018568479008947016,\n",
       " 0.017522367515485214,\n",
       " 0.016221610461114967,\n",
       " 0.019222298692360636,\n",
       " 0.004604267033723377,\n",
       " 0.02282174810736412,\n",
       " 0.023069511355815576,\n",
       " 0.011713695801789364,\n",
       " 0.02112181693048864,\n",
       " 0.015533379215416403,\n",
       " 0.025127322780454237,\n",
       " 0.011059876118375757,\n",
       " 0.012725395732966263,\n",
       " 0.006772195457673752,\n",
       " 0.015154852030282153,\n",
       " 0.015354439091534708,\n",
       " 0.025726083964211947,\n",
       " 0.013062629043358585,\n",
       " 0.0238747419132829,\n",
       " 0.013812801101169976,\n",
       " 0.02181004817618724,\n",
       " 0.016407432897453507,\n",
       " 0.017501720578114242,\n",
       " 0.010006882312456968,\n",
       " 0.013145216792842394,\n",
       " 0.012780454232622186,\n",
       " 0.013145216792842428,\n",
       " 0.013716448726772239,\n",
       " 0.004342739160357862,\n",
       " 0.0209084652443221,\n",
       " 0.01823124569855468,\n",
       " 0.014026152787336533,\n",
       " 0.017501720578114242,\n",
       " 0.013145216792842435,\n",
       " 0.014824501032346836,\n",
       " 0.014803854094975932,\n",
       " 0.020695113558155544,\n",
       " 0.025822436338609773,\n",
       " 0.01856847900894704,\n",
       " 0.02474191328286305,\n",
       " 0.007274604267033755,\n",
       " 0.007357192016517575,\n",
       " 0.0072746042670337316,\n",
       " 0.012973158981417737,\n",
       " 0.01524432209222302,\n",
       " 0.018940123881624235,\n",
       " 0.020942876806607016,\n",
       " 0.01355127322780456,\n",
       " 0.011995870612525793,\n",
       " 0.028231245698554723,\n",
       " 0.03132140399174123,\n",
       " 0.02025464556090844,\n",
       " 0.019201651754989675,\n",
       " 0.018692360633172776,\n",
       " 0.02616655196145902,\n",
       " 0.013799036476256035,\n",
       " 0.011803165863730243,\n",
       " 0.024790089470061914,\n",
       " 0.027598072952512057,\n",
       " 0.010337233310392244,\n",
       " 0.019566414315209908,\n",
       " 0.01815554026152787,\n",
       " 0.00916035788024772,\n",
       " 0.01897453544390918,\n",
       " 0.007357192016517576,\n",
       " 0.016448726772195457,\n",
       " 0.016269786648313817,\n",
       " 0.009057123193392979,\n",
       " 0.009704060564349644,\n",
       " 0.018685478320715806,\n",
       " 0.009621472814865827,\n",
       " 0.019339298004129413,\n",
       " 0.015354439091534746,\n",
       " 0.011121816930488668,\n",
       " 0.024790089470061914,\n",
       " 0.014927735719201678,\n",
       " 0.017969717825189267,\n",
       " 0.018320715760495543,\n",
       " 0.010426703372333134,\n",
       " 0.010715760495526482,\n",
       " 0.01709566414315206,\n",
       " 0.023874741913282902,\n",
       " 0.025801789401238798,\n",
       " 0.015354439091534729,\n",
       " 0.01286304198210599,\n",
       " 0.026448726772195452,\n",
       " 0.015567790777701316,\n",
       " 0.022725395732966246,\n",
       " 0.018141775636613906,\n",
       " 0.018651066758430857,\n",
       " 0.005856847900894729,\n",
       " 0.00860977288368896,\n",
       " 0.01779077770130763,\n",
       " 0.013778389538885018,\n",
       " 0.017102546455609068,\n",
       " 0.02535443909153472,\n",
       " 0.018189951823812806,\n",
       " 0.012050929112181714,\n",
       " 0.014487267721954595,\n",
       " 0.021321403991741258,\n",
       " 0.014136269786648304,\n",
       " 0.02398485891259463,\n",
       " 0.0188437715072264,\n",
       " 0.01249827942188579,\n",
       " 0.003916035788024793,\n",
       " 0.019944941500344128,\n",
       " 0.017274604267033727,\n",
       " 0.026166551961459013,\n",
       " 0.011025464556090839,\n",
       " 0.02811424638678594,\n",
       " 0.01572608396421194,\n",
       " 0.020942876806607,\n",
       " 0.02233998623537508,\n",
       " 0.027825189263592533,\n",
       " 0.011114934618031666,\n",
       " 0.016909841706813523,\n",
       " 0.014122505161734333,\n",
       " 0.015877494838265623,\n",
       " 0.020543702684101862,\n",
       " 0.015037852718513385,\n",
       " 0.021665519614590466,\n",
       " 0.010392291810048172,\n",
       " 0.017501720578114208,\n",
       " 0.013448038540949725,\n",
       " 0.01071576049552651,\n",
       " 0.026490020646937357,\n",
       " 0.011342050929112167,\n",
       " 0.01609084652443217,\n",
       " 0.012759807295251195,\n",
       " 0.02207157604955264,\n",
       " 0.017157604955264992,\n",
       " 0.017219545767377793,\n",
       " 0.024439091534755677,\n",
       " 0.01061940812112869,\n",
       " 0.01618031658637302,\n",
       " 0.012319339298004084,\n",
       " 0.02713695801789398,\n",
       " 0.01264969029593942,\n",
       " 0.009559532002752917,\n",
       " 0.0055196145905023605,\n",
       " 0.013778389538885057,\n",
       " 0.01948382656572606,\n",
       " 0.015106675843083282,\n",
       " 0.006297315898141805,\n",
       " 0.02369580178940121,\n",
       " 0.01778389538885061,\n",
       " 0.024384033035099763,\n",
       " 0.027515485203028222,\n",
       " 0.0303922918100482,\n",
       " 0.01644872677219542,\n",
       " 0.009304886441844455,\n",
       " 0.017309015829318694,\n",
       " 0.04061940812112866,\n",
       " 0.025478320715760505,\n",
       " 0.00758430832759802,\n",
       " 0.014418444597384693,\n",
       " 0.011651754989676555,\n",
       " 0.018878183069511303,\n",
       " 0.009298004129387503,\n",
       " 0.024845147969717825,\n",
       " 0.008554714384033022,\n",
       " 0.01754301445285614,\n",
       " 0.021913282863041963,\n",
       " 0.015898141775636636,\n",
       " 0.02525120440467999,\n",
       " 0.009649002064693699,\n",
       " 0.01709566414315209,\n",
       " 0.025726083964211954,\n",
       " 0.012966276668960768,\n",
       " 0.020295939435650376,\n",
       " 0.030392291810048218,\n",
       " 0.015898141775636615,\n",
       " 0.017880247763248487,\n",
       " 0.01684790089470061,\n",
       " 0.012491397109428815,\n",
       " 0.021727460426703402,\n",
       " 0.01090158293186509,\n",
       " 0.011328286304198222,\n",
       " 0.011713695801789357,\n",
       " 0.010660701995870568,\n",
       " 0.017419132828630404,\n",
       " 0.030578114246386793,\n",
       " 0.008575361321404013,\n",
       " 0.016730901582931862,\n",
       " 0.04049552649690296,\n",
       " 0.01079834824501035,\n",
       " 0.006490020646937333,\n",
       " 0.017962835512732273,\n",
       " 0.013372333103922877,\n",
       " 0.017880247763248456,\n",
       " 0.02066070199587058,\n",
       " 0.028148657949070857,\n",
       " 0.029201651754989646,\n",
       " 0.013062629043358608,\n",
       " 0.0119958706125258,\n",
       " 0.025113558155540235,\n",
       " 0.03681348933241568,\n",
       " 0.00933929800412938,\n",
       " 0.015037852718513385,\n",
       " 0.02103922918100483,\n",
       " 0.01434273916035787,\n",
       " 0.033833448038541,\n",
       " 0.017680660701995893,\n",
       " 0.016166551961458997,\n",
       " 0.005437026841018537,\n",
       " 0.011273227804542329,\n",
       " 0.009022711631108035,\n",
       " 0.013028217481073683,\n",
       " 0.025168616655196152,\n",
       " 0.011651754989676511,\n",
       " 0.005209910529938064,\n",
       " 0.013289745354439058,\n",
       " 0.011686166551961502,\n",
       " 0.019201651754989682,\n",
       " 0.01300757054370267,\n",
       " 0.014700619408121098,\n",
       " 0.024301445285615945,\n",
       " 0.03543702684101857,\n",
       " 0.019662766689607692,\n",
       " 0.04411562284927737,\n",
       " 0.029697178251892668,\n",
       " 0.009704060564349658,\n",
       " 0.03195457673778388,\n",
       " 0.015898141775636643,\n",
       " 0.02035099793530632,\n",
       " 0.009298004129387482,\n",
       " 0.031073640743289756,\n",
       " 0.017942188575361288,\n",
       " 0.015753613214039893,\n",
       " 0.00953200275292497,\n",
       " 0.02456297315898143,\n",
       " 0.016187198898830024,\n",
       " 0.013468685478320717,\n",
       " 0.023289745354439065,\n",
       " 0.007942188575361272,\n",
       " 0.030385409497591186,\n",
       " 0.012050929112181714,\n",
       " 0.0264693737095664,\n",
       " 0.027198898830006885,\n",
       " 0.023826565726083992,\n",
       " 0.01721954576737782,\n",
       " 0.021039229181004863,\n",
       " 0.02557467309015834,\n",
       " 0.02063317274604267,\n",
       " 0.023186510667584315,\n",
       " 0.017997247075017216,\n",
       " 0.013661390227116297,\n",
       " 0.017136958017894003,\n",
       " 0.013840330350997954,\n",
       " 0.010977288368891912,\n",
       " 0.01690984170681353,\n",
       " 0.029380591878871352,\n",
       " 0.013179628355127333,\n",
       " 0.010213351686166551,\n",
       " 0.010571231933929753,\n",
       " 0.009057123193393007,\n",
       " 0.027426015141087372,\n",
       " 0.022814865794907106,\n",
       " 0.022009635237439814,\n",
       " 0.01423950447350313,\n",
       " 0.007604955264969077,\n",
       " 0.014115622849277355,\n",
       " 0.023062629043358592,\n",
       " 0.025354439091534724,\n",
       " 0.02057811424638678,\n",
       " 0.022009635237439807,\n",
       " 0.024198210598761195,\n",
       " 0.01715760495526499,\n",
       " 0.023062629043358575,\n",
       " 0.023331039229180985,\n",
       " 0.023977976600137597,\n",
       " 0.03370956641431524,\n",
       " 0.016448726772195426,\n",
       " 0.0246730901582932,\n",
       " 0.016090846524432174,\n",
       " 0.006930488644184439,\n",
       " 0.03589125946317966,\n",
       " 0.009931176875430138,\n",
       " 0.015753613214039893,\n",
       " 0.029697178251892654,\n",
       " 0.022677219545767357,\n",
       " 0.017309015829318673,\n",
       " 0.02786648313833446,\n",
       " 0.003833448038540992,\n",
       " 0.018657949070887806,\n",
       " 0.008368891947694454,\n",
       " 0.013833448038540967,\n",
       " 0.010571231933929765,\n",
       " 0.0134136269786648,\n",
       " 0.018004129387474206,\n",
       " 0.010275292498279423,\n",
       " 0.02851342050929112,\n",
       " 0.027178251892635903,\n",
       " 0.020309704060564378,\n",
       " 0.023062629043358568,\n",
       " 0.009284239504473463,\n",
       " 0.016180316586373027,\n",
       " 0.02726772195457674,\n",
       " 0.013145216792842397,\n",
       " 0.019944941500344107,\n",
       " 0.009304886441844448,\n",
       " 0.02754301445285615,\n",
       " 0.028513420509291103,\n",
       " 0.012037164487267694,\n",
       " 0.020006882312456988,\n",
       " 0.02249827942188579,\n",
       " 0.01587749483826562,\n",
       " 0.00973847212663456,\n",
       " 0.012635925671025446,\n",
       " 0.013812801101169978,\n",
       " 0.022642807983482414,\n",
       " 0.026366139022711614,\n",
       " 0.00414315209910529,\n",
       " 0.012739160357880294,\n",
       " 0.01456297315898145,\n",
       " 0.016565726083964182,\n",
       " 0.015939435650378544,\n",
       " 0.021651754989676534,\n",
       " 0.013874741913282895,\n",
       " 0.02525120440467999,\n",
       " 0.02272539573296623,\n",
       " 0.007866483138334438,\n",
       " 0.010660701995870603,\n",
       " 0.0227598072952512,\n",
       " 0.02181004817618723,\n",
       " 0.011087405368203702,\n",
       " 0.016469373709566457,\n",
       " 0.013468685478320717,\n",
       " 0.012037164487267679,\n",
       " 0.010426703372333111,\n",
       " 0.008609772883688914,\n",
       " 0.003916035788024795,\n",
       " 0.016627666896077083,\n",
       " 0.029889883000688185,\n",
       " 0.008960770818995135,\n",
       " 0.030543702684101805,\n",
       " 0.014893324156916736,\n",
       " 0.030860289057123194,\n",
       " 0.035450791465932566,\n",
       " 0.008651066758430855,\n",
       " 0.009710942876806633,\n",
       " 0.019256710254645558,\n",
       " 0.018843771507226388,\n",
       " 0.030020646937370964,\n",
       " 0.025498967653131453,\n",
       " 0.0048864418444597695,\n",
       " 0.012966276668960743,\n",
       " 0.015498967653131444,\n",
       " 0.021445285615966966,\n",
       " 0.013551273227804566,\n",
       " 0.010640055058499706,\n",
       " 0.018107364074328967,\n",
       " 0.020275292498279442,\n",
       " 0.027969717825189273,\n",
       " 0.014845147969717844,\n",
       " 0.019160357880247773,\n",
       " 0.020942876806606996,\n",
       " 0.023434273916035787,\n",
       " 0.015175498967653151,\n",
       " 0.021225051617343414,\n",
       " 0.015843083275980694,\n",
       " 0.019222298692360633,\n",
       " 0.02063317274604271,\n",
       " 0.020330350997935266,\n",
       " 0.02479008947006191,\n",
       " 0.013090158293186483,\n",
       " 0.021631108052305583,\n",
       " 0.007646249139710992,\n",
       " 0.021920165175498975,\n",
       " 0.013337921541637956,\n",
       " 0.004459738472126631,\n",
       " 0.027460426703372315,\n",
       " 0.030392291810048187,\n",
       " 0.008933241569167267,\n",
       " 0.015244322092223003,\n",
       " 0.0019889883000688115,\n",
       " 0.009284239504473487,\n",
       " 0.016765313145216794,\n",
       " 0.009242945629731575,\n",
       " 0.019380591878871305,\n",
       " 0.02272539573296628,\n",
       " 0.011362697866483158,\n",
       " 0.018685478320715782,\n",
       " 0.01069511355815552,\n",
       " 0.015092911218169294,\n",
       " 0.02969717825189265,\n",
       " 0.017790777701307634,\n",
       " 0.022821748107364072,\n",
       " 0.024762560220234042,\n",
       " 0.008506538196834125,\n",
       " 0.024384033035099797,\n",
       " 0.016414315209910497,\n",
       " 0.016166551961459046,\n",
       " 0.020295939435650348,\n",
       " 0.02191328286304196,\n",
       " 0.014101858224363347,\n",
       " 0.018940123881624256,\n",
       " 0.014101858224363363,\n",
       " 0.016166551961459028,\n",
       " 0.015863730213351704,\n",
       " 0.017556779077770132,\n",
       " 0.016414315209910494,\n",
       " 0.02000688231245699,\n",
       " 0.020254645560908443,\n",
       " 0.01575361321403988,\n",
       " 0.016077081899518238,\n",
       " 0.01699242945629733,\n",
       " 0.01653131452167928,\n",
       " 0.014122505161734359,\n",
       " 0.012456985547143869,\n",
       " 0.02580178940123882,\n",
       " 0.016448726772195454,\n",
       " 0.013289745354439077,\n",
       " 0.029263592567102557,\n",
       " 0.015898141775636632,\n",
       " 0.01227804542326218,\n",
       " 0.008045423262216097,\n",
       " 0.02181004817618722,\n",
       " 0.019167240192704736,\n",
       " 0.016256022023399902,\n",
       " 0.013688919476944221,\n",
       " 0.02197522367515485,\n",
       " 0.005554026152787299,\n",
       " 0.019889883000688204,\n",
       " 0.014466620784583582,\n",
       " 0.012966276668960733,\n",
       " 0.02401927047487956,\n",
       " 0.012319339298004111,\n",
       " 0.02163110805230555,\n",
       " 0.019057123193392967,\n",
       " 0.005980729525120463,\n",
       " 0.01757742601514105,\n",
       " 0.015072264280798345,\n",
       " 0.026510667584308333,\n",
       " 0.02412250516173436,\n",
       " 0.018692360633172773,\n",
       " 0.02141087405368206,\n",
       " 0.018155540261527874,\n",
       " 0.012174810736407433,\n",
       " 0.017556779077770156,\n",
       " 0.01620096352374397,\n",
       " 0.020061940812112915,\n",
       " 0.01709566414315209,\n",
       " 0.013372333103922874,\n",
       " 0.015760495526496887,\n",
       " 0.005581555402615331,\n",
       " 0.024459738472126603,\n",
       " 0.023138334480385457,\n",
       " 0.009532002752924965,\n",
       " 0.0415554026152787,\n",
       " 0.012973158981417742,\n",
       " 0.0265450791465933,\n",
       " 0.016992429456297302,\n",
       " 0.005395732966276639,\n",
       " 0.017274604267033755,\n",
       " 0.026256022023399914,\n",
       " 0.018940123881624214,\n",
       " 0.011225051617343404,\n",
       " 0.030385409497591224,\n",
       " 0.030922229869236068,\n",
       " 0.017680660701995886,\n",
       " 0.03896765313145221,\n",
       " 0.010674466620784594,\n",
       " 0.02966276668960773,\n",
       " 0.01686854783207161,\n",
       " 0.012092222986923619,\n",
       " 0.0196008258774948,\n",
       " 0.009298004129387517,\n",
       " 0.01478320715760493,\n",
       " 0.02235375086028904,\n",
       " 0.02757742601514106,\n",
       " 0.019532002752924982,\n",
       " 0.01823124569855468,\n",
       " 0.015106675843083275,\n",
       " 0.023647625602202304,\n",
       " 0.036579490708878185,\n",
       " 0.036214728148657976,\n",
       " 0.009277357192016514,\n",
       " 0.021727460426703378,\n",
       " 0.023509979353062656,\n",
       " 0.0281142463867859,\n",
       " 0.021548520302821707,\n",
       " 0.006407432897453526,\n",
       " 0.009587061252580846,\n",
       " 0.019889883000688204,\n",
       " 0.016992429456297316,\n",
       " 0.019628355127322784,\n",
       " 0.007357192016517548,\n",
       " 0.016992429456297316,\n",
       " 0.013062629043358571,\n",
       " 0.00767377838953889,\n",
       " 0.014748795595320014,\n",
       " 0.02539573296627667,\n",
       " 0.012037164487267679,\n",
       " 0.012057811424638687,\n",
       " 0.02442532690984168,\n",
       " 0.03568479008947005,\n",
       " 0.009587061252580877,\n",
       " 0.007501720578114204,\n",
       " 0.04394356503785268,\n",
       " 0.01756366139022714,\n",
       " 0.04415003441156231,\n",
       " 0.006083964211975177,\n",
       " 0.01782518926359252,\n",
       " 0.023138334480385457,\n",
       " 0.00920853406744662,\n",
       " 0.012030282174810707,\n",
       " 0.036586373021335196,\n",
       " 0.008616655196145934,\n",
       " 0.010695113558155495,\n",
       " 0.013778389538885055,\n",
       " 0.022037164487267717,\n",
       " 0.01662078458362014,\n",
       " 0.019167240192704747,\n",
       " 0.010220233998623518,\n",
       " 0.020660701995870615,\n",
       " 0.015760495526496894,\n",
       " 0.03520302821748111,\n",
       " 0.025822436338609814,\n",
       " 0.03657949070887819,\n",
       " 0.017680660701995903,\n",
       " 0.03256022023399859,\n",
       " 0.014927735719201673,\n",
       " 0.02580178940123882,\n",
       " 0.020750172057811468,\n",
       " 0.04163110805230553,\n",
       " 0.017632484514797007,\n",
       " 0.013688919476944224,\n",
       " 0.02090846524432209,\n",
       " 0.017219545767377793,\n",
       " 0.02677219545767376,\n",
       " 0.012401927047487944,\n",
       " 0.02231933929800411,\n",
       " 0.018368891947694456,\n",
       " 0.015065381968341365,\n",
       " 0.013062629043358566,\n",
       " 0.0193392980041294,\n",
       " 0.012780454232622154,\n",
       " 0.014556090846524468,\n",
       " 0.011362697866483147,\n",
       " 0.017680660701995858,\n",
       " 0.003654507914659315,\n",
       " 0.017880247763248494,\n",
       " 0.018155540261527856,\n",
       " 0.022236751548520305,\n",
       " 0.021231933929800415,\n",
       " 0.010660701995870601,\n",
       " 0.017522367515485214,\n",
       " 0.024191328286304242,\n",
       " 0.03057811424638675,\n",
       " 0.022099105299380577,\n",
       " 0.006985547143840362,\n",
       " 0.007928423950447369,\n",
       " 0.013977976600137644,\n",
       " 0.010763936682725381,\n",
       " 0.025450791465932557,\n",
       " 0.0072195457673777915,\n",
       " 0.028513420509291124,\n",
       " 0.020633172746042688,\n",
       " 0.010075705437026895,\n",
       " 0.010901582931865057,\n",
       " 0.01713695801789398,\n",
       " 0.02710254645560906,\n",
       " 0.020220233998623514,\n",
       " 0.00952512044046797,\n",
       " 0.009339298004129387,\n",
       " 0.009972470750172012,\n",
       " 0.00958706125258086,\n",
       " 0.013977976600137634,\n",
       " 0.008589125946317925,\n",
       " 0.010536820371644832,\n",
       " 0.01578114246386788,\n",
       " 0.01271851342050925,\n",
       " 0.022814865794907106,\n",
       " 0.02503785271851336,\n",
       " 0.013874741913282888,\n",
       " 0.011651754989676546,\n",
       " 0.011961459050240854,\n",
       " 0.012498279421885777,\n",
       " 0.03499655884377146,\n",
       " 0.00952512044046794,\n",
       " 0.012966276668960726,\n",
       " 0.03467309015829314,\n",
       " 0.015154852030282148,\n",
       " 0.020433585684790107,\n",
       " 0.007962835512732289,\n",
       " 0.010399174122505172,\n",
       " 0.022009635237439776,\n",
       " 0.0106607019958706,\n",
       " 0.0028011011699930737,\n",
       " 0.013062629043358562,\n",
       " 0.029662766689607715,\n",
       " 0.025203028217481105,\n",
       " 0.009931176875430135,\n",
       " 0.02029593943565034,\n",
       " 0.014101858224363354,\n",
       " 0.023695801789401203,\n",
       " 0.019167240192704715,\n",
       " 0.01916035788024772,\n",
       " 0.01509291121816931,\n",
       " 0.011328286304198208,\n",
       " 0.012126634549208579,\n",
       " 0.015905024088093613,\n",
       " 0.02278045423262216,\n",
       " 0.02705437026841017,\n",
       " 0.03224363386097724,\n",
       " 0.01286304198210597,\n",
       " 0.00640743289745354,\n",
       " 0.028891947694425373,\n",
       " 0.02557467309015832,\n",
       " 0.02097728836889192,\n",
       " 0.011810048176187226,\n",
       " 0.007900894700619372,\n",
       " 0.00589814177563662,\n",
       " 0.019662766689607737,\n",
       " 0.024562973158981448,\n",
       " 0.029931176875430128,\n",
       " 0.0219545767377839,\n",
       " 0.026772195457673762,\n",
       " 0.01764624913971094,\n",
       " 0.01930488644184449,\n",
       " 0.008293186510667586,\n",
       " 0.010681348933241571,\n",
       " 0.03293186510667579,\n",
       " 0.003654507914659308,\n",
       " 0.017997247075017254,\n",
       " 0.01930488644184446,\n",
       " 0.02158293186510666,\n",
       " 0.01163110805230557,\n",
       " 0.016469373709566415,\n",
       " 0.0065657260839642045,\n",
       " 0.008616655196145927,\n",
       " 0.010371644872677208,\n",
       " 0.013448038540949751,\n",
       " 0.01851342050929109,\n",
       " 0.0250929112181693,\n",
       " 0.013695801789401205,\n",
       " 0.01646937370956643,\n",
       " 0.032821748107364095,\n",
       " 0.01328974535443906,\n",
       " 0.02723331039229184,\n",
       " 0.0062629043358568524,\n",
       " 0.01344803854094975,\n",
       " 0.023613214039917403,\n",
       " 0.03626290433585689,\n",
       " 0.011596696490020628,\n",
       " 0.02567790777701306,\n",
       " 0.015498967653131445,\n",
       " 0.013977976600137642,\n",
       " 0.019201651754989682,\n",
       " 0.01752236751548522,\n",
       " 0.022360633172746044,\n",
       " 0.022133516861665557,\n",
       " 0.01887818306951136,\n",
       " 0.008045423262216127,\n",
       " 0.018210598761183788,\n",
       " 0.01199587061252577,\n",
       " 0.009015829318651084,\n",
       " 0.015216792842395042,\n",
       " 0.016813489332415655,\n",
       " 0.03054370268410181,\n",
       " 0.020963523743977964,\n",
       " 0.007095664143152064,\n",
       " 0.010997935306262942,\n",
       " 0.021266345492085302,\n",
       " 0.019848589125946312,\n",
       " 0.005244322092223015,\n",
       " 0.02269786648313834,\n",
       " 0.013799036476256042,\n",
       " 0.01662766689607712,\n",
       " 0.01673090158293182,\n",
       " 0.01371644872677219,\n",
       " 0.03965588437715075,\n",
       " 0.010247763248451449,\n",
       " 0.021548520302821728,\n",
       " 0.017680660701995896,\n",
       " 0.012374397797660027,\n",
       " 0.02641431520991049,\n",
       " 0.01763248451479702,\n",
       " 0.009883000688231208,\n",
       " 0.0267377838953888,\n",
       " 0.02811424638678594,\n",
       " 0.008327598072952495,\n",
       " 0.011775636613902275,\n",
       " 0.014927735719201665,\n",
       " 0.005030970406056412,\n",
       " 0.013413626978664798,\n",
       " 0.018472126634549203,\n",
       " 0.02622161046111496,\n",
       " 0.017942188575361312,\n",
       " 0.012401927047487913,\n",
       " 0.016779077770130768,\n",
       " 0.008995182381280067,\n",
       " 0.010110116999311764,\n",
       " 0.013695801789401184,\n",
       " 0.011686166551961447,\n",
       " 0.012649690295939434,\n",
       " 0.01662766689607713,\n",
       " 0.020172057811424608,\n",
       " 0.015760495526496866,\n",
       " 0.02263592567102546,\n",
       " 0.016448726772195412,\n",
       " 0.019910529938059196,\n",
       " 0.04050240880935991,\n",
       " 0.022009635237439793,\n",
       " 0.020963523743977967,\n",
       " 0.014156916724019265,\n",
       " 0.01518926359256709,\n",
       " 0.01790777701307639,\n",
       " 0.006772195457673765,\n",
       " 0.018568479008947026,\n",
       " 0.01997247075017202,\n",
       " 0.031039229181004855,\n",
       " 0.022924982794218837,\n",
       " 0.021947694425326892,\n",
       " 0.026256022023399914,\n",
       " 0.016593255333792155,\n",
       " 0.021039229181004804,\n",
       " 0.004053682037164474,\n",
       " 0.021631108052305583,\n",
       " 0.010977288368891933,\n",
       " 0.02929800412938749,\n",
       " 0.020433585684790093,\n",
       " 0.008506538196834095,\n",
       " 0.020350997935306297,\n",
       " 0.022821748107364082,\n",
       " 0.004783207157604913,\n",
       " 0.014439091534755697,\n",
       " 0.019972470750172066,\n",
       " 0.01746730901582929,\n",
       " 0.019518238128010977,\n",
       " 0.017790777701307596,\n",
       " 0.013503097040605691,\n",
       " 0.025092911218169294,\n",
       " 0.02650378527185138,\n",
       " 0.01397797660013762,\n",
       " 0.015898141775636622,\n",
       " 0.01784583620096352,\n",
       " 0.01572608396421194,\n",
       " 0.012780454232622186,\n",
       " 0.024074328974535476,\n",
       " 0.024039917412250533,\n",
       " 0.013110805230557479,\n",
       " 0.02122505161734341,\n",
       " 0.005609084652443252,\n",
       " 0.013468685478320766,\n",
       " 0.014115622849277375,\n",
       " 0.01753613214039917,\n",
       " 0.014101858224363332,\n",
       " 0.01618031658637307,\n",
       " 0.009965588437715066,\n",
       " 0.01520991052993809,\n",
       " 0.013124569855471405,\n",
       " 0.021231933929800377,\n",
       " 0.019566414315209862,\n",
       " 0.016125258086717102,\n",
       " 0.02154852030282175,\n",
       " 0.008472126634549198,\n",
       " 0.013716448726772216,\n",
       " 0.009965588437715042,\n",
       " 0.022780454232622167,\n",
       " 0.017274604267033727,\n",
       " 0.010275292498279444,\n",
       " 0.02430144528561596,\n",
       " 0.016627666896077104,\n",
       " 0.015154852030282134,\n",
       " 0.010392291810048197,\n",
       " 0.022009635237439783,\n",
       " 0.005581555402615302,\n",
       " 0.03382656572608399,\n",
       " 0.018568479008947047,\n",
       " 0.015898141775636636,\n",
       " 0.009208534067446613,\n",
       " 0.02691672401927047,\n",
       " 0.012401927047487942,\n",
       " 0.011596696490020628,\n",
       " 0.027632484514796996,\n",
       " 0.02925671025464561,\n",
       " 0.02415691672401931,\n",
       " 0.0043909153475567625,\n",
       " 0.015072264280798345,\n",
       " 0.02507226428079832,\n",
       " 0.013874741913282895,\n",
       " 0.02622161046111495,\n",
       " 0.013392980041293863,\n",
       " 0.010433585684790116,\n",
       " 0.010220233998623533,\n",
       " 0.01763248451479703,\n",
       " 0.013000688231245668,\n",
       " 0.009896765313145199,\n",
       " 0.0244390915347557,\n",
       " 0.013062629043358606,\n",
       " 0.02938059187887132,\n",
       " 0.01960770818995181,\n",
       " 0.018368891947694456,\n",
       " 0.022133516861665543,\n",
       " 0.020757054370268417,\n",
       " 0.02710254645560906,\n",
       " 0.020598761183757742,\n",
       " 0.029167240192704696,\n",
       " 0.025815554026152803,\n",
       " 0.026166551961459027,\n",
       " 0.025113558155540262,\n",
       " 0.006868547832071579,\n",
       " 0.02329662766689608,\n",
       " 0.013406744666207808,\n",
       " 0.009525120440467966,\n",
       " 0.0070956641431520525,\n",
       " 0.017240192704748792,\n",
       " 0.013007570543702674,\n",
       " 0.01731589814177567,\n",
       " 0.014026152787336533,\n",
       " 0.020433585684790107,\n",
       " 0.02169304886441844,\n",
       " 0.021727460426703378,\n",
       " 0.016221610461114942,\n",
       " 0.010640055058499687,\n",
       " 0.03434273916035786,\n",
       " 0.012601514108740532,\n",
       " 0.021403991741225092,\n",
       " 0.033296627666896034,\n",
       " 0.016854783207157595,\n",
       " 0.014094975911906364,\n",
       " 0.016503785271851378,\n",
       " 0.014803854094975935,\n",
       " 0.021231933929800377,\n",
       " 0.01484514796971785,\n",
       " 0.011913282863041967,\n",
       " 0.032450103234686875,\n",
       " 0.019532002752924982,\n",
       " 0.02338609772883693,\n",
       " 0.022814865794907133,\n",
       " 0.018912594631796245,\n",
       " 0.008589125946317954,\n",
       " 0.024666207845836164,\n",
       " 0.02338609772883694,\n",
       " 0.012684101858224352,\n",
       " 0.03158981417756363,\n",
       " 0.011803165863730248,\n",
       " 0.01934618031658638,\n",
       " 0.028114246386785908,\n",
       " 0.024886441844459765,\n",
       " 0.013090158293186504,\n",
       " 0.005395732966276655,\n",
       " 0.016586373021335196,\n",
       " 0.013337921541637949,\n",
       " 0.006779077770130751,\n",
       " 0.0045216792842395345,\n",
       " 0.02895388850653821,\n",
       " 0.009318651066758388,\n",
       " 0.011403991741225077,\n",
       " 0.024019270474879506,\n",
       " 0.013186510667584337,\n",
       " 0.02141087405368203,\n",
       " 0.009649002064693723,\n",
       " 0.027054370268410153,\n",
       " 0.032133516861665566,\n",
       " 0.01053682037164485,\n",
       " 0.03407432897453547,\n",
       " 0.018692360633172745,\n",
       " 0.017136958017893975,\n",
       " 0.02710254645560905,\n",
       " 0.01861665519614592,\n",
       " 0.008245010323468718,\n",
       " 0.04277357192016521,\n",
       " 0.008472126634549208,\n",
       " 0.01090158293186511,\n",
       " 0.01512732278045427,\n",
       " 0.011713695801789355,\n",
       " 0.030495526496902958,\n",
       " 0.015092911218169294,\n",
       " 0.018940123881624256,\n",
       " 0.026166551961459034,\n",
       " 0.030633172746042693,\n",
       " 0.01985547143840327,\n",
       " 0.012174810736407431,\n",
       " 0.0181899518238128,\n",
       " 0.024404679972470752,\n",
       " 0.015127322780454248,\n",
       " 0.008630419821059856,\n",
       " 0.010220233998623492,\n",
       " 0.005615966964900255,\n",
       " 0.015251204404679995,\n",
       " 0.009022711631108076,\n",
       " 0.02260839642119749,\n",
       " 0.01194769442532688,\n",
       " 0.007274604267033717,\n",
       " 0.012684101858224318,\n",
       " 0.016958017894012377,\n",
       " 0.012718513420509265,\n",
       " ...]"
      ]
     },
     "execution_count": 31,
     "metadata": {},
     "output_type": "execute_result"
    }
   ],
   "source": [
    "tvds"
   ]
  },
  {
   "cell_type": "code",
   "execution_count": 32,
   "metadata": {},
   "outputs": [
    {
     "data": {
      "text/plain": [
       "<matplotlib.lines.Line2D at 0x23d049e6370>"
      ]
     },
     "execution_count": 32,
     "metadata": {},
     "output_type": "execute_result"
    },
    {
     "data": {
      "image/png": "[encoded data removed]",
      "text/plain": [
       "<Figure size 432x288 with 1 Axes>"
      ]
     },
     "metadata": {
      "needs_background": "light"
     },
     "output_type": "display_data"
    }
   ],
   "source": [
    "bins=np.arange(0, 0.18, 0.005)\n",
    "plt.hist(tvds, bins=bins)\n",
    "plt.xlabel('TVD')\n",
    "plt.title('Predição considerando seleção aleatória')\n",
    "plt.axvline(x=tvd_real, color='r')"
   ]
  },
  {
   "cell_type": "code",
   "execution_count": 33,
   "metadata": {},
   "outputs": [
    {
     "data": {
      "text/plain": [
       "<matplotlib.lines.Line2D at 0x23d04c18f40>"
      ]
     },
     "execution_count": 33,
     "metadata": {},
     "output_type": "execute_result"
    },
    {
     "data": {
      "image/png": "[encoded data removed]",
      "text/plain": [
       "<Figure size 432x288 with 1 Axes>"
      ]
     },
     "metadata": {
      "needs_background": "light"
     },
     "output_type": "display_data"
    }
   ],
   "source": [
    "plt.axvline(x=tvd_real, color='r')"
   ]
  },
  {
   "cell_type": "code",
   "execution_count": 34,
   "metadata": {},
   "outputs": [],
   "source": [
    "lista_maiores = [a for a in tvds if a >= 0.14]"
   ]
  },
  {
   "cell_type": "code",
   "execution_count": 35,
   "metadata": {},
   "outputs": [
    {
     "data": {
      "text/plain": [
       "0"
      ]
     },
     "execution_count": 35,
     "metadata": {},
     "output_type": "execute_result"
    }
   ],
   "source": [
    "len(lista_maiores)"
   ]
  },
  {
   "cell_type": "markdown",
   "metadata": {},
   "source": [
    "# Decisões e Incertezas"
   ]
  },
  {
   "cell_type": "code",
   "execution_count": 36,
   "metadata": {},
   "outputs": [
    {
     "data": {
      "text/plain": [
       "0.7588805166846071"
      ]
     },
     "execution_count": 36,
     "metadata": {},
     "output_type": "execute_result"
    }
   ],
   "source": [
    "705 / 929"
   ]
  },
  {
   "cell_type": "code",
   "execution_count": 37,
   "metadata": {},
   "outputs": [
    {
     "data": {
      "text/plain": [
       "0.8880516684607045"
      ]
     },
     "execution_count": 37,
     "metadata": {},
     "output_type": "execute_result"
    }
   ],
   "source": [
    "observed_statistic = abs ( 100 * (705 / 929) - 75)\n",
    "observed_statistic"
   ]
  },
  {
   "cell_type": "code",
   "execution_count": 38,
   "metadata": {},
   "outputs": [],
   "source": [
    "mendel_proportions = [0.75, 0.25]\n",
    "mendel_proportion_purple = mendel_proportions[0]\n",
    "sample_size = 929"
   ]
  },
  {
   "cell_type": "code",
   "execution_count": 39,
   "metadata": {},
   "outputs": [],
   "source": [
    "def one_simulated_distance():\n",
    "    sample_proportion_purple = sample_proportions(sample_size, mendel_proportions)[0]\n",
    "    return 100 * abs(sample_proportion_purple - mendel_proportion_purple)\n"
   ]
  },
  {
   "cell_type": "code",
   "execution_count": 40,
   "metadata": {},
   "outputs": [],
   "source": [
    "repetitions = 10000\n",
    "distances = []\n",
    "for i in np.arange(repetitions):\n",
    "    distances = np.append(distances, one_simulated_distance())"
   ]
  },
  {
   "cell_type": "code",
   "execution_count": 41,
   "metadata": {},
   "outputs": [
    {
     "data": {
      "text/plain": [
       "<matplotlib.lines.Line2D at 0x23d7e8bf160>"
      ]
     },
     "execution_count": 41,
     "metadata": {},
     "output_type": "execute_result"
    },
    {
     "data": {
      "image/png": "[encoded data removed]",
      "text/plain": [
       "<Figure size 432x288 with 1 Axes>"
      ]
     },
     "metadata": {
      "needs_background": "light"
     },
     "output_type": "display_data"
    }
   ],
   "source": [
    "plt.hist(distances)\n",
    "plt.xlabel('Distance entre a % da Amostra e 75%')\n",
    "plt.title('Predição feita pela hipótese nula')\n",
    "plt.axvline(x=observed_statistic, color='r')\n",
    "\n"
   ]
  },
  {
   "cell_type": "code",
   "execution_count": 42,
   "metadata": {},
   "outputs": [
    {
     "data": {
      "text/plain": [
       "<matplotlib.lines.Line2D at 0x23d04c349a0>"
      ]
     },
     "execution_count": 42,
     "metadata": {},
     "output_type": "execute_result"
    },
    {
     "data": {
      "image/png": "[encoded data removed]",
      "text/plain": [
       "<Figure size 432x288 with 1 Axes>"
      ]
     },
     "metadata": {
      "needs_background": "light"
     },
     "output_type": "display_data"
    }
   ],
   "source": [
    "different_observed_statistic = 3.2\n",
    "plt.hist(distances)\n",
    "plt.xlabel('Distance entre a % da Amostra e 75%')\n",
    "plt.title('Predição feita pela hipótese nula')\n",
    "plt.axvline(x=different_observed_statistic, color='m')\n",
    "\n"
   ]
  },
  {
   "cell_type": "code",
   "execution_count": 43,
   "metadata": {},
   "outputs": [
    {
     "data": {
      "text/plain": [
       "0.0256"
      ]
     },
     "execution_count": 43,
     "metadata": {},
     "output_type": "execute_result"
    }
   ],
   "source": [
    "np.count_nonzero(distances >= different_observed_statistic) / repetitions"
   ]
  },
  {
   "cell_type": "markdown",
   "metadata": {},
   "source": [
    "**Exercício 1:** Qual é valor para a estatística observada?"
   ]
  },
  {
   "cell_type": "code",
   "execution_count": 44,
   "metadata": {},
   "outputs": [
    {
     "data": {
      "text/plain": [
       "0.5507"
      ]
     },
     "execution_count": 44,
     "metadata": {},
     "output_type": "execute_result"
    }
   ],
   "source": [
    "np.count_nonzero(distances >= observed_statistic) / repetitions"
   ]
  },
  {
   "cell_type": "markdown",
   "metadata": {},
   "source": [
    "**Exercício 2:** Como usar a distribuição binomial para verificar se o número de plantas com flores brancas observado é um valor extremo?"
   ]
  },
  {
   "cell_type": "code",
   "execution_count": 45,
   "metadata": {},
   "outputs": [
    {
     "name": "stdout",
     "output_type": "stream",
     "text": [
      "1.1102230246251565e-16\n"
     ]
    }
   ],
   "source": [
    "k = 905\n",
    "n = 929\n",
    "p = 0.75\n",
    "\n",
    "prob = 1-binom.cdf(k, 929, 0.75)\n",
    "print(prob)"
   ]
  },
  {
   "cell_type": "markdown",
   "metadata": {},
   "source": [
    "# Probabilidades de Erro"
   ]
  },
  {
   "cell_type": "code",
   "execution_count": 46,
   "metadata": {},
   "outputs": [],
   "source": [
    "def simula_moeda(p, n):\n",
    "    return sum(bernoulli.rvs(p, size=n))"
   ]
  },
  {
   "cell_type": "code",
   "execution_count": 48,
   "metadata": {},
   "outputs": [
    {
     "data": {
      "text/plain": [
       "(array([1507., 1202.,  932.,  617.,  382.,  234.,   80.,   30.,   13.,\n",
       "           3.]),\n",
       " array([ 0. ,  8.2, 16.4, 24.6, 32.8, 41. , 49.2, 57.4, 65.6, 73.8, 82. ]),\n",
       " <BarContainer object of 10 artists>)"
      ]
     },
     "execution_count": 48,
     "metadata": {},
     "output_type": "execute_result"
    },
    {
     "data": {
      "image/png": "[encoded data removed]",
      "text/plain": [
       "<Figure size 432x288 with 1 Axes>"
      ]
     },
     "metadata": {
      "needs_background": "light"
     },
     "output_type": "display_data"
    }
   ],
   "source": [
    "repetitions = 5000\n",
    "num_tosses = 2000\n",
    "p = 0.5\n",
    "\n",
    "difs = list()\n",
    "for i in range(repetitions):\n",
    "    s = np.abs(simula_moeda(p, num_tosses) - 1000)\n",
    "    difs.append(s)\n",
    "\n",
    "plt.hist(difs)"
   ]
  },
  {
   "cell_type": "code",
   "execution_count": 51,
   "metadata": {},
   "outputs": [
    {
     "data": {
      "text/plain": [
       "[<matplotlib.lines.Line2D at 0x23d04f3a130>]"
      ]
     },
     "execution_count": 51,
     "metadata": {},
     "output_type": "execute_result"
    },
    {
     "data": {
      "image/png": "[encoded data removed]",
      "text/plain": [
       "<Figure size 432x288 with 1 Axes>"
      ]
     },
     "metadata": {
      "needs_background": "light"
     },
     "output_type": "display_data"
    }
   ],
   "source": [
    "from statsmodels.distributions.empirical_distribution import ECDF\n",
    "ecdf = ECDF(difs)\n",
    "plt.plot(ecdf.x, ecdf.y)"
   ]
  },
  {
   "cell_type": "code",
   "execution_count": 57,
   "metadata": {},
   "outputs": [
    {
     "name": "stdout",
     "output_type": "stream",
     "text": [
      "44.0 0.047799999999999954\n"
     ]
    }
   ],
   "source": [
    "values = ecdf.x[::-1]\n",
    "limiar = values[0]\n",
    "\n",
    "for x in values[1:]:\n",
    "    if 1-ecdf(x) > 0.05:\n",
    "        break\n",
    "    limiar = x\n",
    "print(limiar, 1-ecdf(limiar))\n"
   ]
  },
  {
   "cell_type": "code",
   "execution_count": null,
   "metadata": {},
   "outputs": [],
   "source": []
  }
 ],
 "metadata": {
  "kernelspec": {
   "display_name": "Python 3 (ipykernel)",
   "language": "python",
   "name": "python3"
  },
  "language_info": {
   "codemirror_mode": {
    "name": "ipython",
    "version": 3
   },
   "file_extension": ".py",
   "mimetype": "text/x-python",
   "name": "python",
   "nbconvert_exporter": "python",
   "pygments_lexer": "ipython3",
   "version": "3.8.8"
  },
  "vscode": {
   "interpreter": {
    "hash": "190605ead3d59fdd7149d57090309db6515571225da4d448ac9f06d043bf74ec"
   }
  }
 },
 "nbformat": 4,
 "nbformat_minor": 2
}
