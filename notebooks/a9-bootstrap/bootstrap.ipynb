{
    "cells": [
        {
            "cell_type": "code",
            "execution_count": 1,
            "metadata": {},
            "outputs": [],
            "source": [
                "from scipy import stats as ss\n",
                "\n",
                "import numpy as np\n",
                "import matplotlib.pyplot as plt\n",
                "import pandas as pd\n",
                "from tqdm import tqdm\n"
            ]
        },
        {
            "cell_type": "code",
            "execution_count": 2,
            "metadata": {},
            "outputs": [],
            "source": [
                "filepath = 'https://raw.githubusercontent.com/data-8/textbook/main/assets/data/san_francisco_2019.csv'\n",
                "\n",
                "sf2019 = pd.read_csv(filepath)"
            ]
        },
        {
            "cell_type": "code",
            "execution_count": 3,
            "metadata": {},
            "outputs": [],
            "source": [
                "sf2019"
            ]
        },
        {
            "cell_type": "code",
            "execution_count": 4,
            "metadata": {},
            "outputs": [],
            "source": [
                "sf2019.query(\"Job == 'Mayor'\")"
            ]
        },
        {
            "cell_type": "code",
            "execution_count": 5,
            "metadata": {},
            "outputs": [],
            "source": [
                "sf2019.sort_values('Total Compensation')"
            ]
        },
        {
            "cell_type": "code",
            "execution_count": 6,
            "metadata": {},
            "outputs": [],
            "source": [
                "sf2019 = sf2019.query(\"Salary &gt; 15000\")\n",
                "sf2019"
            ]
        },
        {
            "cell_type": "code",
            "execution_count": 7,
            "metadata": {},
            "outputs": [],
            "source": [
                "sf_bins = np.arange(0, 726000, 25000)\n",
                "sf2019[['Total Compensation']].hist(bins=sf_bins)"
            ]
        },
        {
            "cell_type": "code",
            "execution_count": 8,
            "metadata": {},
            "outputs": [ ],
            "source": [
                "sf2019.sort_values('Total Compensation', ascending=False).head(2)"
            ]
        },
        {
            "cell_type": "code",
            "execution_count": 9,
            "metadata": {},
            "outputs": [
                {
                    "data": {
                        "text/plain": [
                            "135747.0"
                        ]
                    },
                    "execution_count": 9,
                    "metadata": {},
                    "output_type": "execute_result"
                }
            ],
            "source": [
                "pop_median = np.percentile(sf2019['Total Compensation'], 50)\n",
                "pop_median"
            ]
        },
        {
            "cell_type": "code",
            "execution_count": 10,
            "metadata": {},
            "outputs": [ ],
            "source": [
                "our_sample = sf2019.sample(500, replace=False)\n",
                "our_sample\n"
            ]
        },
        {
            "cell_type": "code",
            "execution_count": 11,
            "metadata": {},
            "outputs": [ ],
            "source": [
                "\n",
                "our_sample[['Total Compensation']].hist(bins=sf_bins)"
            ]
        },
        {
            "cell_type": "code",
            "execution_count": 12,
            "metadata": {},
            "outputs": [
    {
        "data": {
    "text/plain": [
    "138064.0"
]
},
                    "execution_count": 12,
                    "metadata": {},
                    "output_type": "execute_result"
                }
            ],
            "source": [
    "est_median = np.percentile(our_sample['Total Compensation'], 50)\n",
    "est_median"
]
        },
        {
            "cell_type": "code",
            "execution_count": 13,
            "metadata": {},
            "outputs": [],
            "source": [
                "resample1 = our_sample.sample(frac=1, replace=True)"
            ]
        },
        {
            "cell_type": "code",
            "execution_count": 14,
            "metadata": {},
            "outputs": [ ],
            "source": [
                "resample1[['Total Compensation']].hist(bins=sf_bins)"
            ]
        },
        {
            "cell_type": "code",
            "execution_count": 15,
            "metadata": {},
            "outputs": [
                {
                    "data": {
                        "text/plain": [
                            "135626.0"
                        ]
                    },
                    "execution_count": 15,
                    "metadata": {},
                    "output_type": "execute_result"
                }
            ],
            "source": [
                "resampled_median_1 = np.percentile(resample1['Total Compensation'], 50)\n",
                "resampled_median_1"
            ]
        },
        {
            "cell_type": "code",
            "execution_count": 16,
            "metadata": {},
            "outputs": [
                {
                    "data": {
                        "text/plain": [
                            "135313.5"
                        ]
                    },
                    "execution_count": 16,
                    "metadata": {},
                    "output_type": "execute_result"
                }
            ],
            "source": [
                "resample2 = our_sample.sample(frac=1, replace=True)\n",
                "resampled_median_2 = np.percentile(resample2['Total Compensation'], 50)\n",
                "resampled_median_2"
            ]
        },
        {
            "cell_type": "code",
            "execution_count": 17,
            "metadata": {},
            "outputs": [],
            "source": [
                "def one_bootstrap_median():\n",
                "    resampled_table = our_sample.sample(frac=1, replace=True)\n",
                "    bootstrapped_median = np.percentile(resampled_table['Total Compensation'], 50)\n",
                "    return bootstrapped_median"
            ]
        },
        {
            "cell_type": "code",
            "execution_count": 22,
            "metadata": {},
            "outputs": [
                {
                    "data": {
                        "text/plain": [
                            "136454.5"
                        ]
                    },
                    "execution_count": 22,
                    "metadata": {},
                    "output_type": "execute_result"
                }
            ],
            "source": [
                "one_bootstrap_median()"
            ]
        },
        {
            "cell_type": "code",
            "execution_count": 23,
            "metadata": {},
            "outputs": [],
            "source": [
                "num_repetitions = 5000\n",
                "bstrap_medians = []\n",
                "for i in np.arange(num_repetitions):\n",
                "    bstrap_medians.append(one_bootstrap_median())"
            ]
        },
        {
            "cell_type": "code",
            "execution_count": 24,
            "metadata": {},
            "outputs": [ ],
            "source": [
                "plt.hist(bstrap_medians)\n",
                "plt.axvline(x=pop_median, color='r', label='pop median')\n",
                "plt.legend()"
            ]
        },
        {
            "cell_type": "code",
            "execution_count": 25,
            "metadata": {},
            "outputs": [
                {
                    "data": {
                        "text/plain": [
                            "133604.5"
                        ]
                    },
                    "execution_count": 25,
                    "metadata": {},
                    "output_type": "execute_result"
                }
            ],
            "source": [
                "left = np.percentile(bstrap_medians, 2.5)\n",
                "left"
            ]
        },
        {
            "cell_type": "code",
            "execution_count": 26,
            "metadata": {},
            "outputs": [
                {
                    "data": {
                        "text/plain": [
                            "145382.0"
                        ]
                    },
                    "execution_count": 26,
                    "metadata": {},
                    "output_type": "execute_result"
                }
            ],
            "source": [
                "right = np.percentile(bstrap_medians, 97.5)\n",
                "right"
            ]
        },
        {
            "cell_type": "code",
            "execution_count": 27,
            "metadata": {},
            "outputs": [ ],
            "source": [
                "plt.hist(bstrap_medians)\n",
                "plt.axvline(x=pop_median, color='r', label='pop median')\n",
                "plt.axvline(x=left, color='y')\n",
                "plt.axvline(x=right, color='y')\n",
                "plt.legend()"
            ]
        },
        {
            "cell_type": "code",
            "execution_count": 28,
            "metadata": {},
            "outputs": [],
            "source": [
                "def bootstrap_median(original_sample, num_repetitions):\n",
                "    medians = []\n",
                "    for i in np.arange(num_repetitions):\n",
                "        new_bstrap_sample = original_sample.sample(frac=1, replace=True)\n",
                "        new_bstrap_median = np.percentile(new_bstrap_sample['Total Compensation'], 50)\n",
                "        medians.append(new_bstrap_median)\n",
                "    return medians"
]
        },
        {
            "cell_type": "code",
            "execution_count": 33,
            "metadata": {},
            "outputs": [
    {
        "name": "stderr",
                    "output_type": "stream",
                    "text": [
                        "100%|███████████████████| 100/100 [03:03&lt;00:00,  1.84s/it]\n"
                    ]
                }
            ],
            "source": [
                "# THE BIG SIMULATION: This one takes several minutes.\n",
                "\n",
                "# Generate 100 intervals and put the endpoints in the table intervals\n",
                "\n",
                "left_ends = []\n",
                "right_ends = []\n",
                "original_sample = sf2019.sample(500, replace=False)\n",
                "\n",
                "for i in tqdm(np.arange(100)):\n",
                "    #original_sample = sf2019.sample(500, replace=False)\n",
                "    medians = bootstrap_median(original_sample, 5000)\n",
"    left_ends.append(np.percentile(medians, 2.5))\n",
                "    right_ends.append(np.percentile(medians, 97.5))\n",
                "\n",
                "intervals = pd.DataFrame({'Left': left_ends, 'Right': right_ends })"
            ]
        },
        {
            "cell_type": "code",
            "execution_count": 30,
            "metadata": {},
            "outputs": [],
            "source": [
                "intervals"
            ]
        },
        {
            "cell_type": "code",
            "execution_count": 31,
            "metadata": {},
            "outputs": [
                {
                    "data": {
                        "text/plain": [
                            "135747.0"
                        ]
                    },
                    "execution_count": 31,
                    "metadata": {},
                    "output_type": "execute_result"
                }
            ],
            "source": [
                "pop_median"
            ]
        },
        {
            "cell_type": "code",
            "execution_count": 34,
            "metadata": {},
            "outputs": [
                {
                    "data": {
                        "text/html": [],
                        "text/plain": [
                            "           Left       Right\n",
                            "0   132572.0000  142592.500\n",
                            "1   132572.0000  142159.000\n",
                            "2   132676.0000  142253.000\n",
                            "3   132659.2625  142166.075\n",
                            "4   132572.0000  142592.500\n",
                            "..          ...         ...\n",
                            "95  132795.0000  142592.500\n",
                            "96  132676.0000  143026.000\n",
                            "97  132705.3750  142592.500\n",
                            "98  132904.0000  142802.000\n",
                            "99  132676.0000  142592.500\n",
                            "\n",
                            "[100 rows x 2 columns]"
                        ]
                    },
                    "execution_count": 34,
                    "metadata": {},
                    "output_type": "execute_result"
                }
            ],
            "source": [
                "inside_interval = intervals.query(\"Left &lt; @pop_median and Right &gt; @pop_median\")\n",
                "inside_interval"
            ]
        },
        {
            "cell_type": "code",
            "execution_count": null,
            "metadata": {},
            "outputs": [],
            "source": []
        },
        {
            "cell_type": "code",
            "execution_count": null,
            "metadata": {},
            "outputs": [],
            "source": []
        }
    ],
    "metadata": {
        "kernelspec": {
            "display_name": "Python 3 (ipykernel)",
            "language": "python",
            "name": "python3"
        },
        "language_info": {
            "codemirror_mode": {
                "name": "ipython",
                "version": 3
            },
            "file_extension": ".py",
            "mimetype": "text/x-python",
            "name": "python",
            "nbconvert_exporter": "python",
            "pygments_lexer": "ipython3",
            "version": "3.9.12"
        },
        "vscode": {
            "interpreter": {
                "hash": "190605ead3d59fdd7149d57090309db6515571225da4d448ac9f06d043bf74ec"
            }
        }
    },
    "nbformat": 4,
    "nbformat_minor": 2
}
